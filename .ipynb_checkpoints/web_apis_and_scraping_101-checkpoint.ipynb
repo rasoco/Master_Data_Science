{
 "cells": [
  {
   "cell_type": "markdown",
   "metadata": {},
   "source": [
    "#  Web APIs\n",
    "\n",
    "An API, or aplication programming interface, is the way programs communicate with one another. \n",
    "\n",
    "Web APIs are the way programs communicate with one another _over the internet_\n",
    "\n",
    "[RESTful](https://en.wikipedia.org/wiki/Representational_state_transfer) APIs respect a series of design principles that make them simple to use.\n",
    "\n",
    "The basic tools we are going to use are: POST and GET requests to urls we'll specify and json objects that we'll receive as response or send as payload (in a POST command, for example)."
   ]
  },
  {
   "cell_type": "code",
   "execution_count": 1,
   "metadata": {},
   "outputs": [
    {
     "data": {
      "text/plain": [
       "b'<!DOCTYPE html>\\n<html lang=\"es\">\\n<head>\\n<meta charset=\"utf-8\">\\n<meta http-equiv=\"X-UA-Compatible\" content=\"IE=edge\"><script type=\"text/javascript\">(window.NREUM||(NREUM={})).loader_config={xpid:\"VQEDUVdSCxAIVVVUBggHVw==\"};window.NREUM||(NREUM={}),__nr_require=function(t,e,n){function r(n){if(!e[n]){var o=e[n]={exports:{}};t[n][0].call(o.exports,function(e){var o=t[n][1][e];return r(o||e)},o,o.exports)}return e[n].exports}if(\"function\"==typeof __nr_require)return __nr_require;for(var o=0;o<n.leng'"
      ]
     },
     "execution_count": 1,
     "metadata": {},
     "output_type": "execute_result"
    }
   ],
   "source": [
    "import requests\n",
    "\n",
    "resp = requests.get('http://www.elpais.com/')\n",
    "resp.content[:500]"
   ]
  },
  {
   "cell_type": "markdown",
   "metadata": {},
   "source": [
    "This is an API that returns the current position of the ISS:"
   ]
  },
  {
   "cell_type": "code",
   "execution_count": null,
   "metadata": {
    "collapsed": true
   },
   "outputs": [],
   "source": []
  },
  {
   "cell_type": "code",
   "execution_count": 2,
   "metadata": {},
   "outputs": [
    {
     "data": {
      "text/plain": [
       "200"
      ]
     },
     "execution_count": 2,
     "metadata": {},
     "output_type": "execute_result"
    }
   ],
   "source": [
    "r = requests.get('http://api.open-notify.org/iss-now.json')\n",
    "r.status_code"
   ]
  },
  {
   "cell_type": "code",
   "execution_count": 3,
   "metadata": {},
   "outputs": [
    {
     "data": {
      "text/plain": [
       "b'{\"timestamp\": 1527855815, \"iss_position\": {\"latitude\": \"25.1656\", \"longitude\": \"42.8505\"}, \"message\": \"success\"}'"
      ]
     },
     "execution_count": 3,
     "metadata": {},
     "output_type": "execute_result"
    }
   ],
   "source": [
    "r.content"
   ]
  },
  {
   "cell_type": "markdown",
   "metadata": {},
   "source": [
    "We can convert a json-formatted string such as the one we get in the response into a Python object with the json library:"
   ]
  },
  {
   "cell_type": "code",
   "execution_count": null,
   "metadata": {
    "collapsed": true
   },
   "outputs": [],
   "source": []
  },
  {
   "cell_type": "code",
   "execution_count": 4,
   "metadata": {},
   "outputs": [
    {
     "data": {
      "text/plain": [
       "{'iss_position': {'latitude': '25.1656', 'longitude': '42.8505'},\n",
       " 'message': 'success',\n",
       " 'timestamp': 1527855815}"
      ]
     },
     "execution_count": 4,
     "metadata": {},
     "output_type": "execute_result"
    }
   ],
   "source": [
    "import json \n",
    "\n",
    "pos = json.loads(r.content)\n",
    "pos"
   ]
  },
  {
   "cell_type": "code",
   "execution_count": 5,
   "metadata": {},
   "outputs": [
    {
     "data": {
      "text/plain": [
       "'25.1656'"
      ]
     },
     "execution_count": 5,
     "metadata": {},
     "output_type": "execute_result"
    }
   ],
   "source": [
    "pos['iss_position']['latitude']\n"
   ]
  },
  {
   "cell_type": "code",
   "execution_count": 6,
   "metadata": {},
   "outputs": [
    {
     "data": {
      "text/html": [
       "<div>\n",
       "<style>\n",
       "    .dataframe thead tr:only-child th {\n",
       "        text-align: right;\n",
       "    }\n",
       "\n",
       "    .dataframe thead th {\n",
       "        text-align: left;\n",
       "    }\n",
       "\n",
       "    .dataframe tbody tr th {\n",
       "        vertical-align: top;\n",
       "    }\n",
       "</style>\n",
       "<table border=\"1\" class=\"dataframe\">\n",
       "  <thead>\n",
       "    <tr style=\"text-align: right;\">\n",
       "      <th></th>\n",
       "      <th>iss_position</th>\n",
       "      <th>message</th>\n",
       "      <th>timestamp</th>\n",
       "    </tr>\n",
       "  </thead>\n",
       "  <tbody>\n",
       "    <tr>\n",
       "      <th>latitude</th>\n",
       "      <td>25.2129</td>\n",
       "      <td>success</td>\n",
       "      <td>2018-06-01 12:23:36</td>\n",
       "    </tr>\n",
       "    <tr>\n",
       "      <th>longitude</th>\n",
       "      <td>42.8955</td>\n",
       "      <td>success</td>\n",
       "      <td>2018-06-01 12:23:36</td>\n",
       "    </tr>\n",
       "  </tbody>\n",
       "</table>\n",
       "</div>"
      ],
      "text/plain": [
       "           iss_position  message           timestamp\n",
       "latitude        25.2129  success 2018-06-01 12:23:36\n",
       "longitude       42.8955  success 2018-06-01 12:23:36"
      ]
     },
     "execution_count": 6,
     "metadata": {},
     "output_type": "execute_result"
    }
   ],
   "source": [
    "import pandas as pd\n",
    "\n",
    "pd.read_json('http://api.open-notify.org/iss-now.json')"
   ]
  },
  {
   "cell_type": "markdown",
   "metadata": {},
   "source": [
    "We also can go in the other direction and generate json-formatted strings from Python objects:"
   ]
  },
  {
   "cell_type": "code",
   "execution_count": 7,
   "metadata": {
    "collapsed": true
   },
   "outputs": [],
   "source": [
    "mi_diccionario = {'Chicago' : \"Illinois\", \"Kansas City\" : [\"Kansas\", \"Missouri\"]}"
   ]
  },
  {
   "cell_type": "code",
   "execution_count": 8,
   "metadata": {},
   "outputs": [
    {
     "data": {
      "text/plain": [
       "{'Chicago': 'Illinois', 'Kansas City': ['Kansas', 'Missouri']}"
      ]
     },
     "execution_count": 8,
     "metadata": {},
     "output_type": "execute_result"
    }
   ],
   "source": [
    "mi_diccionario"
   ]
  },
  {
   "cell_type": "code",
   "execution_count": 9,
   "metadata": {},
   "outputs": [
    {
     "data": {
      "text/plain": [
       "'{\"Chicago\": \"Illinois\", \"Kansas City\": [\"Kansas\", \"Missouri\"]}'"
      ]
     },
     "execution_count": 9,
     "metadata": {},
     "output_type": "execute_result"
    }
   ],
   "source": [
    "json.dumps(mi_diccionario)"
   ]
  },
  {
   "cell_type": "code",
   "execution_count": null,
   "metadata": {
    "collapsed": true
   },
   "outputs": [],
   "source": []
  },
  {
   "cell_type": "markdown",
   "metadata": {},
   "source": [
    "#### Exercise:\n",
    "Write a function that returns the duration of the next 5 overhead passes of the ISS for a given latitude and longitude. Use http://open-notify.org/Open-Notify-API/ISS-Pass-Times/\n",
    ". We are going to need to encode the parameters in the url as per the specification.\n",
    "\n",
    "For example, for Madrid:\n",
    "\n",
    "http://api.open-notify.org/iss-pass.json?lat=40.4&lon=-3.7"
   ]
  },
  {
   "cell_type": "code",
   "execution_count": null,
   "metadata": {
    "collapsed": true
   },
   "outputs": [],
   "source": []
  },
  {
   "cell_type": "code",
   "execution_count": 10,
   "metadata": {},
   "outputs": [
    {
     "data": {
      "text/plain": [
       "[{'duration': 153, 'risetime': 1527861356},\n",
       " {'duration': 617, 'risetime': 1527866861},\n",
       " {'duration': 621, 'risetime': 1527872647},\n",
       " {'duration': 541, 'risetime': 1527878524},\n",
       " {'duration': 552, 'risetime': 1527884374}]"
      ]
     },
     "execution_count": 10,
     "metadata": {},
     "output_type": "execute_result"
    }
   ],
   "source": [
    "def get_iss(lat, lon):\n",
    "    \n",
    "    url = \"http://api.open-notify.org/iss-pass.json?lat=%f&lon=%f\" % (lat, lon)\n",
    "    response = requests.get(url)\n",
    "    my_dict = json.loads(response.content)\n",
    "    result = my_dict['response']\n",
    "    \n",
    "    return result\n",
    "\n",
    "get_iss(40.0, 3.5)"
   ]
  },
  {
   "cell_type": "markdown",
   "metadata": {},
   "source": [
    "Although we managed to get the response, more complicated sets of parameters will be a complicated and error-prone thing to encode. Thankfully, the `requests` library can do that work for us."
   ]
  },
  {
   "cell_type": "code",
   "execution_count": null,
   "metadata": {
    "collapsed": true
   },
   "outputs": [],
   "source": []
  },
  {
   "cell_type": "code",
   "execution_count": 11,
   "metadata": {},
   "outputs": [
    {
     "data": {
      "text/plain": [
       "{'message': 'success',\n",
       " 'request': {'altitude': 100,\n",
       "  'datetime': 1527855281,\n",
       "  'latitude': 40.4,\n",
       "  'longitude': -3.7,\n",
       "  'passes': 5},\n",
       " 'response': [{'duration': 562, 'risetime': 1527866833},\n",
       "  {'duration': 639, 'risetime': 1527872565},\n",
       "  {'duration': 569, 'risetime': 1527878421},\n",
       "  {'duration': 543, 'risetime': 1527884287},\n",
       "  {'duration': 613, 'risetime': 1527890091}]}"
      ]
     },
     "execution_count": 11,
     "metadata": {},
     "output_type": "execute_result"
    }
   ],
   "source": [
    "madrid_coords = {'lat': 40.4, 'lon': -3.7}\n",
    "\n",
    "r = requests.get('http://api.open-notify.org/iss-pass.json', params=madrid_coords)\n",
    "json.loads(r.content)"
   ]
  },
  {
   "cell_type": "code",
   "execution_count": 12,
   "metadata": {},
   "outputs": [
    {
     "data": {
      "text/html": [
       "<div>\n",
       "<style>\n",
       "    .dataframe thead tr:only-child th {\n",
       "        text-align: right;\n",
       "    }\n",
       "\n",
       "    .dataframe thead th {\n",
       "        text-align: left;\n",
       "    }\n",
       "\n",
       "    .dataframe tbody tr th {\n",
       "        vertical-align: top;\n",
       "    }\n",
       "</style>\n",
       "<table border=\"1\" class=\"dataframe\">\n",
       "  <thead>\n",
       "    <tr style=\"text-align: right;\">\n",
       "      <th></th>\n",
       "      <th>duration</th>\n",
       "      <th>risetime</th>\n",
       "    </tr>\n",
       "  </thead>\n",
       "  <tbody>\n",
       "    <tr>\n",
       "      <th>0</th>\n",
       "      <td>562</td>\n",
       "      <td>1527866833</td>\n",
       "    </tr>\n",
       "    <tr>\n",
       "      <th>1</th>\n",
       "      <td>639</td>\n",
       "      <td>1527872565</td>\n",
       "    </tr>\n",
       "    <tr>\n",
       "      <th>2</th>\n",
       "      <td>569</td>\n",
       "      <td>1527878421</td>\n",
       "    </tr>\n",
       "    <tr>\n",
       "      <th>3</th>\n",
       "      <td>543</td>\n",
       "      <td>1527884287</td>\n",
       "    </tr>\n",
       "    <tr>\n",
       "      <th>4</th>\n",
       "      <td>613</td>\n",
       "      <td>1527890091</td>\n",
       "    </tr>\n",
       "  </tbody>\n",
       "</table>\n",
       "</div>"
      ],
      "text/plain": [
       "   duration    risetime\n",
       "0       562  1527866833\n",
       "1       639  1527872565\n",
       "2       569  1527878421\n",
       "3       543  1527884287\n",
       "4       613  1527890091"
      ]
     },
     "execution_count": 12,
     "metadata": {},
     "output_type": "execute_result"
    }
   ],
   "source": [
    "resp = json.loads(r.content)['response']\n",
    "\n",
    "pd.DataFrame(resp)"
   ]
  },
  {
   "cell_type": "markdown",
   "metadata": {},
   "source": [
    "Even more complicated sets of parameters are sometimes required. When that is the case, API designers often decide to require them in json format, received via a `POST` request.\n",
    "\n",
    "For example, take a look at the [QPX api from Google](https://developers.google.com/qpx-express/v1/trips/search). In the documentation, they define the body of the request, which we will have to provide, and of the response, which they'll provide back."
   ]
  },
  {
   "cell_type": "code",
   "execution_count": null,
   "metadata": {
    "collapsed": true
   },
   "outputs": [],
   "source": []
  },
  {
   "cell_type": "code",
   "execution_count": 13,
   "metadata": {},
   "outputs": [
    {
     "name": "stdout",
     "output_type": "stream",
     "text": [
      "Help on function post in module requests.api:\n",
      "\n",
      "post(url, data=None, json=None, **kwargs)\n",
      "    Sends a POST request.\n",
      "    \n",
      "    :param url: URL for the new :class:`Request` object.\n",
      "    :param data: (optional) Dictionary (will be form-encoded), bytes, or file-like object to send in the body of the :class:`Request`.\n",
      "    :param json: (optional) json data to send in the body of the :class:`Request`.\n",
      "    :param \\*\\*kwargs: Optional arguments that ``request`` takes.\n",
      "    :return: :class:`Response <Response>` object\n",
      "    :rtype: requests.Response\n",
      "\n"
     ]
    }
   ],
   "source": [
    "help(requests.post)"
   ]
  },
  {
   "cell_type": "markdown",
   "metadata": {},
   "source": [
    "# Web scraping\n",
    "\n",
    "![HTML to DOM](http://www.cs.toronto.edu/~shiva/cscb07/img/dom/treeStructure.png)\n",
    "\n",
    "![DOM TREE](http://www.openbookproject.net/tutorials/getdown/css/images/lesson4/HTMLDOMTree.png)\n",
    "\n"
   ]
  },
  {
   "cell_type": "code",
   "execution_count": null,
   "metadata": {
    "collapsed": true
   },
   "outputs": [],
   "source": []
  },
  {
   "cell_type": "code",
   "execution_count": 14,
   "metadata": {},
   "outputs": [
    {
     "data": {
      "text/html": [
       "\n",
       "        <iframe\n",
       "            width=\"800\"\n",
       "            height=\"600\"\n",
       "            src=\"https://aflcio.org/what-unions-do/social-economic-justice/advocacy/legislative-alerts\"\n",
       "            frameborder=\"0\"\n",
       "            allowfullscreen\n",
       "        ></iframe>\n",
       "        "
      ],
      "text/plain": [
       "<IPython.lib.display.IFrame at 0x7f881fcaccf8>"
      ]
     },
     "execution_count": 14,
     "metadata": {},
     "output_type": "execute_result"
    }
   ],
   "source": [
    "from IPython.display import IFrame\n",
    "\n",
    "IFrame('https://aflcio.org/what-unions-do/social-economic-justice/advocacy/legislative-alerts', 800, 600)"
   ]
  },
  {
   "cell_type": "code",
   "execution_count": 15,
   "metadata": {},
   "outputs": [
    {
     "data": {
      "text/plain": [
       "b'<!DOCTYPE html>\\n<html lang=\"en\" dir=\"ltr\" xmlns:article=\"http://ogp.me/ns/article#\" xmlns:book=\"http://ogp.me/ns/book#\" xmlns:product=\"http://ogp.me/ns/product#\" xmlns:profile=\"http://ogp.me/ns/profile#\" xmlns:video=\"http://ogp.me/ns/video#\" prefix=\"content: http://purl.org/rss/1.0/modules/content/  dc: http://purl.org/dc/terms/  foaf: http://xmlns.com/foaf/0.1/  og: http://ogp.me/ns#  rdfs: http://www.w3.org/2000/01/rdf-schema#  schema: http://schema.org/  sioc: http://rdfs.org/sioc/ns#  sioct: http://rdfs.org/sioc/types#  skos: http://www.w3.org/2004/02/skos/core#  xsd: http://www.w3.org/2001/XMLSchema# \">\\n  <head>\\n    <meta charset=\"utf-8\" /><script type=\"text/javascript\">window.NREUM||(NREUM={}),__nr_require=function(e,t,n){function r(n){if(!t[n]){var o=t[n]={exports:{}};e[n][0].call(o.exports,function(t){var o=e[n][1][t];return r(o||t)},o,o.exports)}return t[n].exports}if(\"function\"==typeof __nr_require)return __nr_require;for(var o=0;o<n.length;o++)r(n[o]);return r}({1:[function('"
      ]
     },
     "execution_count": 15,
     "metadata": {},
     "output_type": "execute_result"
    }
   ],
   "source": [
    "from bs4 import BeautifulSoup\n",
    "\n",
    "r = requests.get('https://aflcio.org/what-unions-do/social-economic-justice/advocacy/legislative-alerts')\n",
    "\n",
    "page = r.content\n",
    "page[:1000]"
   ]
  },
  {
   "cell_type": "code",
   "execution_count": 16,
   "metadata": {},
   "outputs": [
    {
     "name": "stdout",
     "output_type": "stream",
     "text": [
      "<!DOCTYPE html>\n",
      "<html dir=\"ltr\" lang=\"en\" prefix=\"content: http://purl.org/rss/1.0/modules/content/  dc: http://purl.org/dc/terms/  foaf: http://xmlns.com/foaf/0.1/  og: http://ogp.me/ns#  rdfs: http://www.w3.org/2000/01/rdf-schema#  schema: http://schema.org/  sioc: http://rdfs.org/sioc/ns#  sioct: http://rdfs.org/sioc/types#  skos: http://www.w3.org/2004/02/skos/core#  xsd: http://www.w3.org/2001/XMLSchema# \" xmlns:article=\"http://ogp.me/ns/article#\" xmlns:book=\"http://ogp.me/ns/book#\" xmlns:product=\"http://ogp.me/ns/product#\" xmlns:profile=\"http://ogp.me/ns/profile#\" xmlns:video=\"http://ogp.me/ns/video#\">\n",
      " <head>\n",
      "  <meta charset=\"utf-8\"/>\n",
      "  <script type=\"text/javascript\">\n",
      "   window.NREUM||(NREUM={}),__nr_require=function(e,t,n){function r(n){if(!t[n]){var o=t[n]={exports:{}};e[n][0].call(o.exports,function(t){var o=e[n][1][t];return r(o||t)},o,o.exports)}return t[n].exports}if(\"function\"==typeof __nr_require)return __nr_require;for(var o=0;o<n.length;o++)r(n[o]);return r}({1:[functi\n"
     ]
    }
   ],
   "source": [
    "soup = BeautifulSoup(page, 'html5lib')\n",
    "print(soup.prettify()[:1000])"
   ]
  },
  {
   "cell_type": "code",
   "execution_count": 17,
   "metadata": {},
   "outputs": [
    {
     "name": "stdout",
     "output_type": "stream",
     "text": [
      "n\n",
      "                   </span>\n",
      "                  </h2>\n",
      "                  <time datetime=\"2018-05-09T16:48:51-0400\">\n",
      "                   May 9, 2018\n",
      "                  </time>\n",
      "                 </div>\n",
      "                </a>\n",
      "                <div>\n",
      "                </div>\n",
      "               </div>\n",
      "              </div>\n",
      "              <div class=\"block block-content col-12 col-lg-4\">\n",
      "               <div class=\"content-details \">\n",
      "                <a class=\"b-inner\" href=\"/about/advocacy/legislative-alerts/letter-opposing-legislation-would-cut-federal-retirement-benefits\">\n",
      "                 <div class=\"b-text\">\n",
      "                  <h5 class=\"content-type\">\n",
      "                   Legislative Alert\n",
      "                  </h5>\n",
      "                  <h2 class=\"content-title\">\n",
      "                   <span>\n",
      "                    Letter Opposing Legislation that Would Cut Federal Retirement Benefits\n",
      "                   </span>\n",
      "                  </h2>\n",
      "                  <time datetime=\"2018-05-08T17:18:08-0400\">\n",
      "                   May 8, 2018\n",
      "                  </time>\n",
      "                 </div>\n",
      "                </a>\n",
      "                <div>\n",
      "                </div>\n",
      "               </div>\n",
      "              </div>\n",
      "              <div class=\"block block-content col-12 col-lg-4\">\n",
      "               <div class=\"content-details \">\n",
      "                <a class=\"b-inner\" href=\"/about/advocacy/legislative-alerts/letter-opposing-michael-brennans-nomination-us-court-appeals-0\">\n",
      "                 <div class=\"b-text\">\n",
      "                  <h5 class=\"content-type\">\n",
      "                   Legislative Alert\n",
      "                  </h5>\n",
      "                  <h2 class=\"content-title\">\n",
      "                   <span>\n",
      "                    Letter Opposing Michael Brennan's Nomination to the U.S. Court of Appeals\n",
      "                   </span>\n",
      "                  </h2>\n",
      "                  <time d\n"
     ]
    }
   ],
   "source": [
    "print(soup.prettify()[28700:30500])"
   ]
  },
  {
   "cell_type": "code",
   "execution_count": 18,
   "metadata": {},
   "outputs": [
    {
     "name": "stdout",
     "output_type": "stream",
     "text": [
      "Help on method find_all in module bs4.element:\n",
      "\n",
      "find_all(name=None, attrs={}, recursive=True, text=None, limit=None, **kwargs) method of bs4.BeautifulSoup instance\n",
      "    Extracts a list of Tag objects that match the given\n",
      "    criteria.  You can specify the name of the Tag and any\n",
      "    attributes you want the Tag to have.\n",
      "    \n",
      "    The value of a key-value pair in the 'attrs' map can be a\n",
      "    string, a list of strings, a regular expression object, or a\n",
      "    callable that takes a string and returns whether or not the\n",
      "    string matches for some custom definition of 'matches'. The\n",
      "    same is true of the tag name.\n",
      "\n"
     ]
    }
   ],
   "source": [
    "help(soup.find_all)"
   ]
  },
  {
   "cell_type": "code",
   "execution_count": 19,
   "metadata": {},
   "outputs": [
    {
     "name": "stdout",
     "output_type": "stream",
     "text": [
      "18\n"
     ]
    },
    {
     "data": {
      "text/plain": [
       "bs4.element.ResultSet"
      ]
     },
     "execution_count": 19,
     "metadata": {},
     "output_type": "execute_result"
    }
   ],
   "source": [
    "alerts = soup.find_all('div', class_='content-details')\n",
    "print(len(alerts))\n",
    "type(alerts)"
   ]
  },
  {
   "cell_type": "code",
   "execution_count": 20,
   "metadata": {},
   "outputs": [
    {
     "data": {
      "text/plain": [
       "<div class=\"content-details \">\n",
       "\t<a class=\"b-inner\" href=\"/about/advocacy/legislative-alerts/letter-opposing-legislation-would-put-consumers-risk\">\n",
       "\t  <div class=\"b-text\">\n",
       "              <h5 class=\"content-type\">Legislative Alert</h5>\n",
       "        <h2 class=\"content-title\"><span>Letter Opposing Legislation That Would Put Consumers At Risk</span>\n",
       "</h2>\n",
       "              <time datetime=\"2018-05-22T10:37:18-0400\">May 22, 2018</time>\n",
       "          </div>\n",
       "\t</a>\n",
       "  <div></div>\n",
       "</div>"
      ]
     },
     "execution_count": 20,
     "metadata": {},
     "output_type": "execute_result"
    }
   ],
   "source": [
    "alerts[0]"
   ]
  },
  {
   "cell_type": "code",
   "execution_count": 21,
   "metadata": {},
   "outputs": [
    {
     "name": "stdout",
     "output_type": "stream",
     "text": [
      "May 22, 2018\n",
      "Letter Opposing Legislation That Would Put Consumers At Risk\n",
      "/about/advocacy/legislative-alerts/letter-opposing-legislation-would-put-consumers-risk\n"
     ]
    }
   ],
   "source": [
    "first = alerts[0]\n",
    "print(first.find('time').get_text())\n",
    "print(first.a.find('span').get_text())\n",
    "print(first.a['href'])"
   ]
  },
  {
   "cell_type": "code",
   "execution_count": 22,
   "metadata": {
    "collapsed": true
   },
   "outputs": [],
   "source": [
    "def get_aflcio_alerts():\n",
    "    result = []\n",
    "    r = requests.get('http://www.aflcio.org/Legislation-and-Politics/Legislative-Alerts')\n",
    "    soup = BeautifulSoup(r.content, 'html5lib')\n",
    "    \n",
    "    for alert in soup.find_all('div', class_='content-details'):\n",
    "        dictionary = {}\n",
    "        dictionary['date'] = alert.find('time').get_text()\n",
    "        dictionary['title'] = alert.a.find('span').get_text()\n",
    "        dictionary['link'] = 'http://www.aflcio.org' + alert.a['href']\n",
    "        \n",
    "        result.append(dictionary)\n",
    "        \n",
    "    return result"
   ]
  },
  {
   "cell_type": "code",
   "execution_count": 23,
   "metadata": {},
   "outputs": [
    {
     "data": {
      "text/plain": [
       "[{'date': 'May 22, 2018',\n",
       "  'link': 'http://www.aflcio.org/about/advocacy/legislative-alerts/letter-opposing-legislation-would-put-consumers-risk',\n",
       "  'title': 'Letter Opposing Legislation That Would Put Consumers At Risk'},\n",
       " {'date': 'May 21, 2018',\n",
       "  'link': 'http://www.aflcio.org/about/advocacy/legislative-alerts/letter-opposing-bill-would-make-it-more-difficult-americans-feed',\n",
       "  'title': 'Letter Opposing Bill That Would Make It More Difficult for Americans to Feed Their Families'}]"
      ]
     },
     "execution_count": 23,
     "metadata": {},
     "output_type": "execute_result"
    }
   ],
   "source": [
    "letters = get_aflcio_alerts()\n",
    "letters[:2]"
   ]
  },
  {
   "cell_type": "code",
   "execution_count": 24,
   "metadata": {},
   "outputs": [
    {
     "data": {
      "text/plain": [
       "'[{\"date\": \"May 22, 2018\", \"title\": \"Letter Opposing Legislation That Would Put Consumers At Risk\", \"link\": \"http://www.aflcio.org/about/advocacy/legislative-alerts/letter-opposing-legislation-would-put-consumers-risk\"}, {\"date\": \"May 21, 2018\", \"title\": \"Letter Opposing Bill That Would Make It More Difficult for Americans to Feed Their Families\", \"link\": \"http://www.aflcio.org/about/advocacy/legislative-alerts/letter-opposing-bill-would-make-it-more-difficult-americans-feed\"}, {\"date\": \"May 21, 2018\", \"title\": \"Letter Opposing Legislation That Would Help Privatize the VA\", \"link\": \"http://www.aflcio.org/about/advocacy/legislative-alerts/letter-opposing-legislation-would-help-privatize-va\"}, {\"date\": \"May 21, 2018\", \"title\": \"Letter Opposing Michael Truncale\\'s Nomination to the Eastern District of Texas\", \"link\": \"http://www.aflcio.org/about/advocacy/legislative-alerts/letter-opposing-michael-truncales-nomination-eastern-district\"}, {\"date\": \"May 21, 2018\", \"title\": \"Letter in Support o'"
      ]
     },
     "execution_count": 24,
     "metadata": {},
     "output_type": "execute_result"
    }
   ],
   "source": [
    "# And we come full circle! We encode the list we created in \n",
    "# a json string. We could then provide that over the internet\n",
    "# in our own API!!\n",
    "\n",
    "json.dumps(letters)[:1000]"
   ]
  },
  {
   "cell_type": "markdown",
   "metadata": {},
   "source": [
    "# Annex: ultra easy scraping with pandas!\n",
    "\n",
    "When the data we want is already formatted as a table, we can do it even more easily! Just use `pandas.read_html`:"
   ]
  },
  {
   "cell_type": "code",
   "execution_count": 25,
   "metadata": {
    "collapsed": true
   },
   "outputs": [],
   "source": [
    "tables = pd.read_html('https://en.wikipedia.org/wiki/List_of_accidents_and_disasters_by_death_toll', header=0)"
   ]
  },
  {
   "cell_type": "code",
   "execution_count": 26,
   "metadata": {},
   "outputs": [
    {
     "data": {
      "text/html": [
       "<div>\n",
       "<style>\n",
       "    .dataframe thead tr:only-child th {\n",
       "        text-align: right;\n",
       "    }\n",
       "\n",
       "    .dataframe thead th {\n",
       "        text-align: left;\n",
       "    }\n",
       "\n",
       "    .dataframe tbody tr th {\n",
       "        vertical-align: top;\n",
       "    }\n",
       "</style>\n",
       "<table border=\"1\" class=\"dataframe\">\n",
       "  <thead>\n",
       "    <tr style=\"text-align: right;\">\n",
       "      <th></th>\n",
       "      <th>Deaths</th>\n",
       "      <th>Date</th>\n",
       "      <th>Incident</th>\n",
       "    </tr>\n",
       "  </thead>\n",
       "  <tbody>\n",
       "    <tr>\n",
       "      <th>0</th>\n",
       "      <td>20000</td>\n",
       "      <td>000000001626-05-30-000030 May 1626</td>\n",
       "      <td>Wanggongchang Explosion in Beijing, China in t...</td>\n",
       "    </tr>\n",
       "    <tr>\n",
       "      <th>1</th>\n",
       "      <td>6000</td>\n",
       "      <td>000000001948-11-01-00001 November 1948</td>\n",
       "      <td>Boiler and ammunition explosion aboard an unid...</td>\n",
       "    </tr>\n",
       "    <tr>\n",
       "      <th>2</th>\n",
       "      <td>3000</td>\n",
       "      <td>000000001769-08-18-000018 August 1769</td>\n",
       "      <td>A lightning bolt caused the Brescia Explosion ...</td>\n",
       "    </tr>\n",
       "    <tr>\n",
       "      <th>3</th>\n",
       "      <td>1950</td>\n",
       "      <td>000000001917-12-06-00006 December 1917</td>\n",
       "      <td>Halifax Explosion in Nova Scotia, Canada[43]</td>\n",
       "    </tr>\n",
       "    <tr>\n",
       "      <th>4</th>\n",
       "      <td>1500</td>\n",
       "      <td>000000001941-06-08-00008 June 1941</td>\n",
       "      <td>Ammunition plant with facilities explode at Sm...</td>\n",
       "    </tr>\n",
       "  </tbody>\n",
       "</table>\n",
       "</div>"
      ],
      "text/plain": [
       "  Deaths                                    Date  \\\n",
       "0  20000      000000001626-05-30-000030 May 1626   \n",
       "1   6000  000000001948-11-01-00001 November 1948   \n",
       "2   3000   000000001769-08-18-000018 August 1769   \n",
       "3   1950  000000001917-12-06-00006 December 1917   \n",
       "4   1500      000000001941-06-08-00008 June 1941   \n",
       "\n",
       "                                            Incident  \n",
       "0  Wanggongchang Explosion in Beijing, China in t...  \n",
       "1  Boiler and ammunition explosion aboard an unid...  \n",
       "2  A lightning bolt caused the Brescia Explosion ...  \n",
       "3       Halifax Explosion in Nova Scotia, Canada[43]  \n",
       "4  Ammunition plant with facilities explode at Sm...  "
      ]
     },
     "execution_count": 26,
     "metadata": {},
     "output_type": "execute_result"
    }
   ],
   "source": [
    "tables[4].head()"
   ]
  },
  {
   "cell_type": "markdown",
   "metadata": {},
   "source": [
    "# Annex II: exercises"
   ]
  },
  {
   "cell_type": "markdown",
   "metadata": {},
   "source": [
    "### Exercise:\n",
    "\n",
    "Extract the date of the worst aviation disaster from: https://en.wikipedia.org/wiki/List_of_accidents_and_disasters_by_death_toll\n",
    "\n",
    "Prerequisites: pandas, pd.read_html"
   ]
  },
  {
   "cell_type": "code",
   "execution_count": 27,
   "metadata": {},
   "outputs": [
    {
     "data": {
      "text/plain": [
       "0    27 March 1977\n",
       "Name: Date, dtype: object"
      ]
     },
     "execution_count": 27,
     "metadata": {},
     "output_type": "execute_result"
    }
   ],
   "source": [
    "aviation = pd.read_html('https://en.wikipedia.org/wiki/List_of_accidents_and_disasters_by_death_toll', header=0)[2]\n",
    "aviation.head(1)['Date']"
   ]
  },
  {
   "cell_type": "markdown",
   "metadata": {},
   "source": [
    "### Exercise: \n",
    "\n",
    "Assuming the list is exhaustive, calculate how many people died in accidental explosions per decade in the XX century. Plot it.\n",
    "\n",
    "Data: \n",
    "https://en.wikipedia.org/wiki/List_of_accidents_and_disasters_by_death_toll\n",
    "\n",
    "Prerequisites: pandas, pd.read_html, pd.to_datetime, matplotlib or seaborn"
   ]
  },
  {
   "cell_type": "code",
   "execution_count": 28,
   "metadata": {},
   "outputs": [
    {
     "data": {
      "text/html": [
       "<div>\n",
       "<style>\n",
       "    .dataframe thead tr:only-child th {\n",
       "        text-align: right;\n",
       "    }\n",
       "\n",
       "    .dataframe thead th {\n",
       "        text-align: left;\n",
       "    }\n",
       "\n",
       "    .dataframe tbody tr th {\n",
       "        vertical-align: top;\n",
       "    }\n",
       "</style>\n",
       "<table border=\"1\" class=\"dataframe\">\n",
       "  <thead>\n",
       "    <tr style=\"text-align: right;\">\n",
       "      <th></th>\n",
       "      <th>Deaths</th>\n",
       "      <th>Date</th>\n",
       "      <th>Incident</th>\n",
       "    </tr>\n",
       "  </thead>\n",
       "  <tbody>\n",
       "    <tr>\n",
       "      <th>0</th>\n",
       "      <td>20000</td>\n",
       "      <td>000000001626-05-30-000030 May 1626</td>\n",
       "      <td>Wanggongchang Explosion in Beijing, China in t...</td>\n",
       "    </tr>\n",
       "    <tr>\n",
       "      <th>1</th>\n",
       "      <td>6000</td>\n",
       "      <td>000000001948-11-01-00001 November 1948</td>\n",
       "      <td>Boiler and ammunition explosion aboard an unid...</td>\n",
       "    </tr>\n",
       "    <tr>\n",
       "      <th>2</th>\n",
       "      <td>3000</td>\n",
       "      <td>000000001769-08-18-000018 August 1769</td>\n",
       "      <td>A lightning bolt caused the Brescia Explosion ...</td>\n",
       "    </tr>\n",
       "    <tr>\n",
       "      <th>3</th>\n",
       "      <td>1950</td>\n",
       "      <td>000000001917-12-06-00006 December 1917</td>\n",
       "      <td>Halifax Explosion in Nova Scotia, Canada[43]</td>\n",
       "    </tr>\n",
       "    <tr>\n",
       "      <th>4</th>\n",
       "      <td>1500</td>\n",
       "      <td>000000001941-06-08-00008 June 1941</td>\n",
       "      <td>Ammunition plant with facilities explode at Sm...</td>\n",
       "    </tr>\n",
       "  </tbody>\n",
       "</table>\n",
       "</div>"
      ],
      "text/plain": [
       "  Deaths                                    Date  \\\n",
       "0  20000      000000001626-05-30-000030 May 1626   \n",
       "1   6000  000000001948-11-01-00001 November 1948   \n",
       "2   3000   000000001769-08-18-000018 August 1769   \n",
       "3   1950  000000001917-12-06-00006 December 1917   \n",
       "4   1500      000000001941-06-08-00008 June 1941   \n",
       "\n",
       "                                            Incident  \n",
       "0  Wanggongchang Explosion in Beijing, China in t...  \n",
       "1  Boiler and ammunition explosion aboard an unid...  \n",
       "2  A lightning bolt caused the Brescia Explosion ...  \n",
       "3       Halifax Explosion in Nova Scotia, Canada[43]  \n",
       "4  Ammunition plant with facilities explode at Sm...  "
      ]
     },
     "execution_count": 28,
     "metadata": {},
     "output_type": "execute_result"
    }
   ],
   "source": [
    "explosions = pd.read_html('https://en.wikipedia.org/wiki/List_of_accidents_and_disasters_by_death_toll', header=0)[4]\n",
    "explosions.head()"
   ]
  },
  {
   "cell_type": "code",
   "execution_count": 29,
   "metadata": {
    "collapsed": true
   },
   "outputs": [],
   "source": [
    "explosions['date'] = explosions['Date'].str[8:18]"
   ]
  },
  {
   "cell_type": "code",
   "execution_count": 30,
   "metadata": {
    "collapsed": true
   },
   "outputs": [],
   "source": [
    "explosions['Deaths'] = pd.to_numeric(explosions.Deaths.str.replace('[^0-9]', ''))"
   ]
  },
  {
   "cell_type": "code",
   "execution_count": 31,
   "metadata": {
    "collapsed": true
   },
   "outputs": [],
   "source": [
    "explosions['Decade'] = explosions['date'].str[:3] + '0s'"
   ]
  },
  {
   "cell_type": "code",
   "execution_count": 32,
   "metadata": {
    "collapsed": true
   },
   "outputs": [],
   "source": [
    "twentieth_century = explosions[(explosions['Decade'] > '1900') & (explosions['Decade'] < '2000')]\n",
    "per_decade = twentieth_century.groupby('Decade')['Deaths'].sum()"
   ]
  },
  {
   "cell_type": "code",
   "execution_count": 33,
   "metadata": {},
   "outputs": [
    {
     "data": {
      "text/plain": [
       "<matplotlib.axes._subplots.AxesSubplot at 0x7f880c56f748>"
      ]
     },
     "execution_count": 33,
     "metadata": {},
     "output_type": "execute_result"
    },
    {
     "data": {
      "image/png": "[encoded data removed]",
      "text/plain": [
       "<matplotlib.figure.Figure at 0x7f880baebdd8>"
      ]
     },
     "metadata": {},
     "output_type": "display_data"
    }
   ],
   "source": [
    "import seaborn as sns\n",
    "%matplotlib inline\n",
    "\n",
    "sns.barplot(data=twentieth_century, \n",
    "            x='Decade', \n",
    "            y='Deaths', \n",
    "            order=sorted(twentieth_century['Decade'].unique()),\n",
    "            ci=None,\n",
    "            color='darkgrey')"
   ]
  },
  {
   "cell_type": "markdown",
   "metadata": {},
   "source": [
    "### Exercise: \n",
    "\n",
    "create a function that, given the two tables extracted from http://en.wikipedia.org/wiki/List_of_S%26P_500_companies and a date, returns the list of companies in the S&P 500 at that date."
   ]
  },
  {
   "cell_type": "code",
   "execution_count": null,
   "metadata": {
    "collapsed": true
   },
   "outputs": [],
   "source": []
  }
 ],
 "metadata": {
  "kernelspec": {
   "display_name": "Python 3",
   "language": "python",
   "name": "python3"
  },
  "language_info": {
   "codemirror_mode": {
    "name": "ipython",
    "version": 3
   },
   "file_extension": ".py",
   "mimetype": "text/x-python",
   "name": "python",
   "nbconvert_exporter": "python",
   "pygments_lexer": "ipython3",
   "version": "3.5.2"
  }
 },
 "nbformat": 4,
 "nbformat_minor": 1
}
