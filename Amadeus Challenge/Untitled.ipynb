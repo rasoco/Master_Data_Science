{
 "cells": [
  {
   "cell_type": "code",
   "execution_count": 4,
   "metadata": {},
   "outputs": [
    {
     "name": "stdout",
     "output_type": "stream",
     "text": [
      "total 1M\r\n",
      "drwxrwxr-x 3 raquelsl raquelsl 1M ene  5 18:44 Amadeus Challenge\r\n",
      "drwx------ 2 raquelsl raquelsl 1M dic 25 22:03 Git and Github\r\n",
      "drwxrwxr-x 2 raquelsl raquelsl 1M dic 25 19:50 Linux\r\n",
      "-rw-rw-r-- 1 raquelsl raquelsl 0M dic 25 22:54 LinuxShell-02.pdf\r\n",
      "drwx------ 3 raquelsl raquelsl 1M dic 25 20:55 Python\r\n"
     ]
    }
   ],
   "source": [
    "!ls -l --block-size=M ../"
   ]
  },
  {
   "cell_type": "code",
   "execution_count": null,
   "metadata": {},
   "outputs": [],
   "source": [
    "!cat bookings.csv | wc -l\n"
   ]
  },
  {
   "cell_type": "code",
   "execution_count": null,
   "metadata": {},
   "outputs": [],
   "source": []
  }
 ],
 "metadata": {
  "kernelspec": {
   "display_name": "Python 3",
   "language": "python",
   "name": "python3"
  },
  "language_info": {
   "codemirror_mode": {
    "name": "ipython",
    "version": 3
   },
   "file_extension": ".py",
   "mimetype": "text/x-python",
   "name": "python",
   "nbconvert_exporter": "python",
   "pygments_lexer": "ipython3",
   "version": "3.5.2"
  }
 },
 "nbformat": 4,
 "nbformat_minor": 2
}
