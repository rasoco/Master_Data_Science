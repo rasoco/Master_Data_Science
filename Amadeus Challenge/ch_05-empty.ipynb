{
 "cells": [
  {
   "cell_type": "markdown",
   "metadata": {
    "collapsed": true
   },
   "source": [
    "## Write a Web Service\n",
    "\n",
    "Wrap the output of the second exercise in a web service that returns the data in JSON format (instead of printing to the standard output).\n",
    "\n",
    "The web service should accept a parameter n>0. For the top 10 airports, n is 10. For the X top airports, n is X \n"
   ]
  },
  {
   "cell_type": "markdown",
   "metadata": {},
   "source": [
    "## Web Service"
   ]
  },
  {
   "cell_type": "raw",
   "metadata": {},
   "source": [
    "JavaScript Object Notation, es un formato de texto ligero para el intercambio de datos\n",
    "JSON is text, written with JavaScript object notation.\n",
    "    JSON is data exchange format. You convert to it when you need to make the data available externally. \n",
    "var myObj = { \"name\":\"John\", \"age\":31, \"city\":\"New York\" };"
   ]
  },
  {
   "cell_type": "markdown",
   "metadata": {},
   "source": [
    "https://jsonformatter.org/json-pretty-print #says if it is valid or not  \n",
    "https://jsonformatter.curiousconcept.com/ # you can drill down"
   ]
  },
  {
   "cell_type": "code",
   "execution_count": 1,
   "metadata": {},
   "outputs": [],
   "source": [
    "import json"
   ]
  },
  {
   "cell_type": "code",
   "execution_count": 2,
   "metadata": {},
   "outputs": [
    {
     "data": {
      "text/plain": [
       "['a', 'b', 'c', 'd']"
      ]
     },
     "execution_count": 2,
     "metadata": {},
     "output_type": "execute_result"
    }
   ],
   "source": [
    "list(\"abcd\")"
   ]
  },
  {
   "cell_type": "code",
   "execution_count": 4,
   "metadata": {},
   "outputs": [
    {
     "data": {
      "text/plain": [
       "'[\"a\", \"b\", \"c\", \"d\"]'"
      ]
     },
     "execution_count": 4,
     "metadata": {},
     "output_type": "execute_result"
    }
   ],
   "source": [
    "json.dumps(list(\"abcd\"))"
   ]
  },
  {
   "cell_type": "code",
   "execution_count": 5,
   "metadata": {},
   "outputs": [],
   "source": [
    "myDict={'name':'Hey', \"age\":31, \"city\":\"Madrid\"}"
   ]
  },
  {
   "cell_type": "code",
   "execution_count": 6,
   "metadata": {},
   "outputs": [
    {
     "data": {
      "text/plain": [
       "{'name': 'Hey', 'age': 31, 'city': 'Madrid'}"
      ]
     },
     "execution_count": 6,
     "metadata": {},
     "output_type": "execute_result"
    }
   ],
   "source": [
    "myDict"
   ]
  },
  {
   "cell_type": "code",
   "execution_count": 7,
   "metadata": {},
   "outputs": [
    {
     "data": {
      "text/plain": [
       "'{\"name\": \"Hey\", \"age\": 31, \"city\": \"Madrid\"}'"
      ]
     },
     "execution_count": 7,
     "metadata": {},
     "output_type": "execute_result"
    }
   ],
   "source": [
    "json.dumps(myDict)"
   ]
  },
  {
   "cell_type": "code",
   "execution_count": 9,
   "metadata": {},
   "outputs": [
    {
     "data": {
      "text/plain": [
       "{'name': ['Hey', 'Holi'], 'age': [31, 45], 'city': ['Madrid', 'New York']}"
      ]
     },
     "execution_count": 9,
     "metadata": {},
     "output_type": "execute_result"
    }
   ],
   "source": [
    "myDict2={'name':['Hey', 'Holi'], \"age\":[31, 45], \"city\":[\"Madrid\", 'New York']}\n",
    "myDict2"
   ]
  },
  {
   "cell_type": "code",
   "execution_count": 10,
   "metadata": {},
   "outputs": [],
   "source": [
    "import pandas as pd"
   ]
  },
  {
   "cell_type": "code",
   "execution_count": 11,
   "metadata": {},
   "outputs": [],
   "source": [
    "df_from_dict=pd.DataFrame.from_dict(myDict2)"
   ]
  },
  {
   "cell_type": "code",
   "execution_count": 12,
   "metadata": {},
   "outputs": [
    {
     "data": {
      "text/html": [
       "<div>\n",
       "<style scoped>\n",
       "    .dataframe tbody tr th:only-of-type {\n",
       "        vertical-align: middle;\n",
       "    }\n",
       "\n",
       "    .dataframe tbody tr th {\n",
       "        vertical-align: top;\n",
       "    }\n",
       "\n",
       "    .dataframe thead th {\n",
       "        text-align: right;\n",
       "    }\n",
       "</style>\n",
       "<table border=\"1\" class=\"dataframe\">\n",
       "  <thead>\n",
       "    <tr style=\"text-align: right;\">\n",
       "      <th></th>\n",
       "      <th>name</th>\n",
       "      <th>age</th>\n",
       "      <th>city</th>\n",
       "    </tr>\n",
       "  </thead>\n",
       "  <tbody>\n",
       "    <tr>\n",
       "      <th>0</th>\n",
       "      <td>Hey</td>\n",
       "      <td>31</td>\n",
       "      <td>Madrid</td>\n",
       "    </tr>\n",
       "    <tr>\n",
       "      <th>1</th>\n",
       "      <td>Holi</td>\n",
       "      <td>45</td>\n",
       "      <td>New York</td>\n",
       "    </tr>\n",
       "  </tbody>\n",
       "</table>\n",
       "</div>"
      ],
      "text/plain": [
       "   name  age      city\n",
       "0   Hey   31    Madrid\n",
       "1  Holi   45  New York"
      ]
     },
     "execution_count": 12,
     "metadata": {},
     "output_type": "execute_result"
    }
   ],
   "source": [
    "df_from_dict"
   ]
  },
  {
   "cell_type": "code",
   "execution_count": 13,
   "metadata": {},
   "outputs": [
    {
     "data": {
      "text/plain": [
       "'{\"name\":{\"0\":\"Hey\",\"1\":\"Holi\"},\"age\":{\"0\":31,\"1\":45},\"city\":{\"0\":\"Madrid\",\"1\":\"New York\"}}'"
      ]
     },
     "execution_count": 13,
     "metadata": {},
     "output_type": "execute_result"
    }
   ],
   "source": [
    "df_from_dict.to_json()"
   ]
  },
  {
   "cell_type": "code",
   "execution_count": 14,
   "metadata": {},
   "outputs": [],
   "source": [
    "df_from_dict=pd.DataFrame.from_dict(myDict2, orient='index')"
   ]
  },
  {
   "cell_type": "code",
   "execution_count": 15,
   "metadata": {},
   "outputs": [
    {
     "data": {
      "text/plain": [
       "'{\"0\":{\"name\":\"Hey\",\"age\":31,\"city\":\"Madrid\"},\"1\":{\"name\":\"Holi\",\"age\":45,\"city\":\"New York\"}}'"
      ]
     },
     "execution_count": 15,
     "metadata": {},
     "output_type": "execute_result"
    }
   ],
   "source": [
    "df_from_dict.to_json()"
   ]
  },
  {
   "cell_type": "code",
   "execution_count": 16,
   "metadata": {},
   "outputs": [
    {
     "data": {
      "text/html": [
       "<div>\n",
       "<style scoped>\n",
       "    .dataframe tbody tr th:only-of-type {\n",
       "        vertical-align: middle;\n",
       "    }\n",
       "\n",
       "    .dataframe tbody tr th {\n",
       "        vertical-align: top;\n",
       "    }\n",
       "\n",
       "    .dataframe thead th {\n",
       "        text-align: right;\n",
       "    }\n",
       "</style>\n",
       "<table border=\"1\" class=\"dataframe\">\n",
       "  <thead>\n",
       "    <tr style=\"text-align: right;\">\n",
       "      <th></th>\n",
       "      <th>0</th>\n",
       "      <th>1</th>\n",
       "    </tr>\n",
       "  </thead>\n",
       "  <tbody>\n",
       "    <tr>\n",
       "      <th>name</th>\n",
       "      <td>Hey</td>\n",
       "      <td>Holi</td>\n",
       "    </tr>\n",
       "    <tr>\n",
       "      <th>age</th>\n",
       "      <td>31</td>\n",
       "      <td>45</td>\n",
       "    </tr>\n",
       "    <tr>\n",
       "      <th>city</th>\n",
       "      <td>Madrid</td>\n",
       "      <td>New York</td>\n",
       "    </tr>\n",
       "  </tbody>\n",
       "</table>\n",
       "</div>"
      ],
      "text/plain": [
       "           0         1\n",
       "name     Hey      Holi\n",
       "age       31        45\n",
       "city  Madrid  New York"
      ]
     },
     "execution_count": 16,
     "metadata": {},
     "output_type": "execute_result"
    }
   ],
   "source": [
    "df_from_dict"
   ]
  },
  {
   "cell_type": "code",
   "execution_count": 17,
   "metadata": {},
   "outputs": [
    {
     "name": "stdout",
     "output_type": "stream",
     "text": [
      "\u001b[0m\u001b[01;31mbookings.csv.bz2\u001b[0m         ch_03-Empty.ipynb   \u001b[01;31msearches.csv.bz2\u001b[0m\r\n",
      "\u001b[01;31mbookings.sample.csv.bz2\u001b[0m  ch_04-Empty.ipynb   top_airports.csv\r\n",
      "ch_01-Empty.ipynb        ch_05b-empty.ipynb\r\n",
      "ch_02-Empty.ipynb        ch_05-empty.ipynb\r\n"
     ]
    }
   ],
   "source": [
    "ls"
   ]
  },
  {
   "cell_type": "code",
   "execution_count": 19,
   "metadata": {},
   "outputs": [],
   "source": [
    "df=pd.read_csv('top_airports.csv', sep='^')"
   ]
  },
  {
   "cell_type": "code",
   "execution_count": 21,
   "metadata": {},
   "outputs": [
    {
     "data": {
      "text/plain": [
       "'{\"arr_port\":{\"0\":\"LHR\",\"1\":\"MCO\",\"2\":\"LAX\",\"3\":\"LAS\",\"4\":\"JFK\",\"5\":\"CDG\",\"6\":\"BKK\",\"7\":\"MIA\",\"8\":\"SFO\",\"9\":\"DXB\",\"10\":\"ORD\",\"11\":\"FCO\",\"12\":\"IST\",\"13\":\"DFW\",\"14\":\"CUN\",\"15\":\"MAD\",\"16\":\"BCN\",\"17\":\"LGA\",\"18\":\"ATL\",\"19\":\"EWR\",\"20\":\"BOS\",\"21\":\"DEL\",\"22\":\"SYD\",\"23\":\"BOM\",\"24\":\"MUC\",\"25\":\"DEN\",\"26\":\"MNL\",\"27\":\"HKG\",\"28\":\"FRA\",\"29\":\"ORY\",\"30\":\"SEA\",\"31\":\"FLL\",\"32\":\"TXL\",\"33\":\"AMS\",\"34\":\"PHX\",\"35\":\"DCA\",\"36\":\"MEX\",\"37\":\"IAH\",\"38\":\"JED\",\"39\":\"PVG\",\"40\":\"YYZ\",\"41\":\"VIE\",\"42\":\"LIS\",\"43\":\"SIN\",\"44\":\"CAI\",\"45\":\"HNL\",\"46\":\"ATH\",\"47\":\"MEL\",\"48\":\"SAN\",\"49\":\"JNB\",\"50\":\"PEK\",\"51\":\"BOG\",\"52\":\"PHL\",\"53\":\"ARN\",\"54\":\"TPA\",\"55\":\"SVO\",\"56\":\"BRU\",\"57\":\"ZRH\",\"58\":\"TLV\",\"59\":\"LIM\",\"60\":\"MSP\",\"61\":\"CPH\",\"62\":\"BNE\",\"63\":\"RUH\",\"64\":\"IAD\",\"65\":\"ICN\",\"66\":\"DUS\",\"67\":\"KUL\",\"68\":\"DTW\",\"69\":\"OSL\",\"70\":\"MXP\",\"71\":\"CLT\",\"72\":\"NRT\",\"73\":\"LED\",\"74\":\"YVR\",\"75\":\"CPT\",\"76\":\"MSY\",\"77\":\"HAM\",\"78\":\"PUJ\",\"79\":\"AKL\",\"80\":\"MAA\",\"81\":\"NCE\",\"82\":\"GVA\",\"83\":\"TPE\",\"84\":\"YUL\",\"85\":\"HKT\",\"86\":\"LIN\",\"87\":\"PRG\",\"88\":\"GRU\",\"89\":\"PMI\",\"90\":\"TUN\",\"91\":\"SJU\",\"92\":\"DME\",\"93\":\"BWI\",\"94\":\"SLC\",\"95\":\"BLR\",\"96\":\"PER\",\"97\":\"DUB\",\"98\":\"STL\",\"99\":\"DPS\"},\"pax\":{\"0\":88809,\"1\":70930,\"2\":70530,\"3\":69630,\"4\":66270,\"5\":64490,\"6\":59460,\"7\":58150,\"8\":58000,\"9\":55590,\"10\":53200,\"11\":45120,\"12\":43850,\"13\":42420,\"14\":42000,\"15\":41410,\"16\":41200,\"17\":40712,\"18\":39780,\"19\":36890,\"20\":35840,\"21\":35680,\"22\":33690,\"23\":33440,\"24\":33180,\"25\":32630,\"26\":32400,\"27\":32020,\"28\":31970,\"29\":31800,\"30\":31530,\"31\":31170,\"32\":30590,\"33\":30580,\"34\":29730,\"35\":29000,\"36\":28120,\"37\":28090,\"38\":27090,\"39\":26630,\"40\":26070,\"41\":25750,\"42\":25050,\"43\":24874,\"44\":24640,\"45\":24140,\"46\":24100,\"47\":23830,\"48\":23720,\"49\":23710,\"50\":23680,\"51\":23090,\"52\":22210,\"53\":21800,\"54\":21530,\"55\":21292,\"56\":20940,\"57\":20190,\"58\":20190,\"59\":20150,\"60\":20030,\"61\":19740,\"62\":19480,\"63\":19440,\"64\":19170,\"65\":18560,\"66\":18250,\"67\":18200,\"68\":17800,\"69\":17000,\"70\":16950,\"71\":16862,\"72\":16570,\"73\":15960,\"74\":15920,\"75\":15840,\"76\":15820,\"77\":15640,\"78\":14960,\"79\":14940,\"80\":14940,\"81\":14880,\"82\":14720,\"83\":14450,\"84\":14040,\"85\":14040,\"86\":14020,\"87\":13990,\"88\":13850,\"89\":13840,\"90\":13830,\"91\":13730,\"92\":13600,\"93\":13590,\"94\":13530,\"95\":13490,\"96\":13300,\"97\":12900,\"98\":12760,\"99\":12740},\"AirportName\":{\"0\":\"London Heathrow Airport\",\"1\":\"Orlando International Airport\",\"2\":\"Los Angeles International Airport\",\"3\":\"McCarran International Airport\",\"4\":\"John F. Kennedy International Airport\",\"5\":\"Paris Charles de Gaulle Airport\",\"6\":\"Suvarnabhumi Airport\",\"7\":\"Miami International Airport\",\"8\":\"San Francisco International Airport\",\"9\":\"Dubai International Airport\",\"10\":\"Chicago O\\'Hare International Airport\",\"11\":\"Leonardo da Vinci\\\\u2013Fiumicino Airport\",\"12\":\"Istanbul Airport\",\"13\":\"Dallas\\\\/Fort Worth International Airport\",\"14\":\"Canc\\\\u00fan International Airport\",\"15\":\"Adolfo Su\\\\u00e1rez Madrid\\\\u2013Barajas Airport\",\"16\":\"Barcelona\\\\u2013El Prat Airport\",\"17\":\"La Guardia Airport\",\"18\":\"Hartsfield-Jackson Atlanta International Airport\",\"19\":\"Newark Liberty International Airport\",\"20\":\"Logan International Airport\",\"21\":\"Indira Gandhi International Airport\",\"22\":\"Sydney International Airport\",\"23\":\"Chhatrapati Shivaji Maharaj International Airport\",\"24\":\"Munich International Airport\",\"25\":\"Denver International Airport\",\"26\":\"Ninoy Aquino Manila International Airport\",\"27\":\"Hong Kong International Airport\",\"28\":\"Frankfurt Airport\",\"29\":\"Paris Orly Airport\",\"30\":\"Seattle-Tacoma International Airport\",\"31\":\"Fort Lauderdale\\\\/Hollywood International Airport\",\"32\":\"Berlin Tegel Airport\",\"33\":\"Amsterdam Airport Schiphol\",\"34\":\"Phoenix Sky Harbor International Airport\",\"35\":\"Ronald Reagan Washington National Airport\",\"36\":\"Benito Ju\\\\u00e1rez International Airport\",\"37\":\"George Bush Intercontinental Airport\",\"38\":\"Jeddah King Abdul Aziz International Airport\",\"39\":\"Shanghai Pudong International Airport\",\"40\":\"Toronto Pearson International Airport\",\"41\":\"Vienna International Airport\",\"42\":\"Lisbon Humberto Delgado Airport\",\"43\":\"Singapore Changi Airport\",\"44\":\"Cairo International Airport\",\"45\":\"Daniel K. Inouye International Airport\",\"46\":\"Athens Eleftherios Venizelos International Airport\",\"47\":\"Melbourne Airport\",\"48\":\"San Diego International Airport\",\"49\":\"O.R. Tambo International Airport\",\"50\":\"Beijing Capital International Airport\",\"51\":\"El Dorado International Airport\",\"52\":\"Philadelphia International Airport\",\"53\":\"Stockholm Arlanda Airport\",\"54\":\"Tampa International Airport\",\"55\":\"Sheremetyevo International Airport\",\"56\":\"Brussels Airport\",\"57\":\"Zurich Airport\",\"58\":\"Ben Gurion Airport\",\"59\":\"Jorge Ch\\\\u00e1vez International Airport\",\"60\":\"Minneapolis-St Paul International Airport\",\"61\":\"Copenhagen Airport\",\"62\":\"Brisbane Airport\",\"63\":\"King Khalid International\",\"64\":\"Washington Dulles International Airport\",\"65\":\"Incheon International Airport\",\"66\":\"D\\\\u00fcsseldorf International Airport\",\"67\":\"Kuala Lumpur International Airport\",\"68\":\"Detroit Metropolitan Wayne County Airport\",\"69\":\"Oslo Airport, Gardermoen\",\"70\":\"Milano Malpensa Airport\",\"71\":\"Charlotte Douglas International Airport\",\"72\":\"Narita International Airport\",\"73\":\"Pulkovo Airport\",\"74\":\"Vancouver International Airport\",\"75\":\"Cape Town International Airport\",\"76\":\"Louis Armstrong New Orleans International Airport\",\"77\":\"Hamburg Airport\",\"78\":\"Punta Cana International Airport\",\"79\":\"Auckland International Airport\",\"80\":\"Chennai International Airport\",\"81\":\"Nice C\\\\u00f4te d\\'Azur International Airport\",\"82\":\"A\\\\u00e9roport Gen\\\\u00e8ve-Cointrin\",\"83\":\"Taiwan Taoyuan International Airport\",\"84\":\"Montr\\\\u00e9al-Pierre Elliott Trudeau International Airport\",\"85\":\"Phuket International Airport\",\"86\":\"Milano Linate Airport\",\"87\":\"Prague V\\\\u00e1clav Havel Airport\",\"88\":\"S\\\\u00e3o Paulo\\\\u2013Guarulhos International Airport\",\"89\":\"Palma de Mallorca Airport\",\"90\":\"Tunis-Carthage Airport\",\"91\":\"Luis Mu\\\\u00f1oz Mar\\\\u00edn International Airport\",\"92\":\"Domodedovo International Airport\",\"93\":\"Baltimore-Washington International Airport\",\"94\":\"Salt Lake City International Airport\",\"95\":\"Kempegowda International Airport\",\"96\":\"Perth Airport\",\"97\":\"Dublin Airport\",\"98\":\"Lambert\\\\u2013St. Louis International Airport\",\"99\":\"Ngurah Rai International Airport\"}}'"
      ]
     },
     "execution_count": 21,
     "metadata": {},
     "output_type": "execute_result"
    }
   ],
   "source": [
    "df.head(100).to_json()"
   ]
  },
  {
   "cell_type": "code",
   "execution_count": null,
   "metadata": {},
   "outputs": [],
   "source": []
  },
  {
   "cell_type": "code",
   "execution_count": null,
   "metadata": {},
   "outputs": [],
   "source": []
  },
  {
   "cell_type": "code",
   "execution_count": null,
   "metadata": {},
   "outputs": [],
   "source": [
    "----- hemos llegado hasta aqui -----"
   ]
  },
  {
   "cell_type": "raw",
   "metadata": {},
   "source": [
    "http://flask.pocoo.org/docs/0.10/quickstart/"
   ]
  },
  {
   "cell_type": "code",
   "execution_count": 7,
   "metadata": {},
   "outputs": [],
   "source": [
    "from flask import Flask"
   ]
  },
  {
   "cell_type": "code",
   "execution_count": 2,
   "metadata": {},
   "outputs": [],
   "source": [
    "app = Flask(\"My first web service\")\n",
    "@app.route('/hello', methods=['GET'])\n",
    "#GET    The browser tells the server to just get the information stored on that page and send it. \n",
    "def get_hello():\n",
    "    return \"Hello DS from the service!\""
   ]
  },
  {
   "cell_type": "code",
   "execution_count": 3,
   "metadata": {
    "collapsed": true
   },
   "outputs": [
    {
     "name": "stdout",
     "output_type": "stream",
     "text": [
      " * Serving Flask app \"My first web service\" (lazy loading)\n",
      " * Environment: production\n",
      "   WARNING: Do not use the development server in a production environment.\n",
      "   Use a production WSGI server instead.\n",
      " * Debug mode: off\n"
     ]
    },
    {
     "name": "stderr",
     "output_type": "stream",
     "text": [
      " * Running on http://127.0.0.1:5000/ (Press CTRL+C to quit)\n",
      "127.0.0.1 - - [11/Jan/2019 07:48:58] \"\u001b[33mGET / HTTP/1.1\u001b[0m\" 404 -\n",
      "127.0.0.1 - - [11/Jan/2019 07:48:58] \"\u001b[33mGET /favicon.ico HTTP/1.1\u001b[0m\" 404 -\n",
      "127.0.0.1 - - [11/Jan/2019 07:49:14] \"\u001b[37mGET /hello HTTP/1.1\u001b[0m\" 200 -\n",
      "127.0.0.1 - - [11/Jan/2019 07:49:40] \"\u001b[37mGET /hello HTTP/1.1\u001b[0m\" 200 -\n",
      "127.0.0.1 - - [11/Jan/2019 07:49:41] \"\u001b[37mGET /hello HTTP/1.1\u001b[0m\" 200 -\n",
      "127.0.0.1 - - [11/Jan/2019 07:49:42] \"\u001b[37mGET /hello HTTP/1.1\u001b[0m\" 200 -\n",
      "127.0.0.1 - - [11/Jan/2019 07:49:42] \"\u001b[37mGET /hello HTTP/1.1\u001b[0m\" 200 -\n",
      "127.0.0.1 - - [11/Jan/2019 07:49:42] \"\u001b[37mGET /hello HTTP/1.1\u001b[0m\" 200 -\n"
     ]
    }
   ],
   "source": [
    "app.run()\n",
    "#Running on http://127.0.0.1:5000/"
   ]
  },
  {
   "cell_type": "raw",
   "metadata": {},
   "source": [
    "http://127.0.0.1:5000/hello"
   ]
  },
  {
   "cell_type": "raw",
   "metadata": {},
   "source": [
    "HTTP (the protocol web applications are speaking) knows different methods for accessing URLs. By default, a route only answers to GET requests, but that can be changed by providing the methods argument to the route() decorator. "
   ]
  },
  {
   "cell_type": "raw",
   "metadata": {},
   "source": [
    "The HTTP method (also often called “the verb”) tells the server what the clients wants to do with the requested page."
   ]
  },
  {
   "cell_type": "raw",
   "metadata": {},
   "source": [
    "GET\n",
    "    The browser tells the server to just get the information stored on that page and send it. This is probably the most common method.\n",
    "\n",
    "HEAD\n",
    "    The browser tells the server to get the information, but it is only interested in the headers, not the content of the page. An application is supposed to handle that as if a GET request was received but to not deliver the actual content.\n",
    "    \n",
    "POST\n",
    "    The browser tells the server that it wants to post some new information to that URL and that the server must ensure the data is stored and only stored once. This is how HTML forms usually transmit data to the server.\n",
    "\n",
    "PUT\n",
    "    Similar to POST but the server might trigger the store procedure multiple times by overwriting the old values more than once. Now you might be asking why this is useful, but there are some good reasons to do it this way. Consider that the connection is lost during transmission: in this situation a system between the browser and the server might receive the request safely a second time without breaking things. With POST that would not be possible because it must only be triggered once.\n",
    "\n",
    "DELETE\n",
    "    Remove the information at the given location.\n",
    "\n",
    "OPTIONS\n",
    "    Provides a quick way for a client to figure out which methods are supported by this URL. Starting with Flask 0.6, this is implemented for you automatically. "
   ]
  },
  {
   "cell_type": "code",
   "execution_count": 6,
   "metadata": {},
   "outputs": [],
   "source": [
    "app = Flask(\"My second web service\")\n",
    "@app.route('/ret_number/<int:n>', methods=['GET'])\n",
    "#GET    The browser tells the server to just get the information stored on that page and send it. \n",
    "def get_hello(n):\n",
    "    return \"I will return you a number. It was %d !!!!\" % n"
   ]
  },
  {
   "cell_type": "code",
   "execution_count": 7,
   "metadata": {
    "collapsed": true
   },
   "outputs": [
    {
     "name": "stdout",
     "output_type": "stream",
     "text": [
      " * Serving Flask app \"My second web service\" (lazy loading)\n",
      " * Environment: production\n",
      "   WARNING: Do not use the development server in a production environment.\n",
      "   Use a production WSGI server instead.\n",
      " * Debug mode: off\n"
     ]
    },
    {
     "name": "stderr",
     "output_type": "stream",
     "text": [
      " * Running on http://127.0.0.1:5000/ (Press CTRL+C to quit)\n",
      "127.0.0.1 - - [11/Jan/2019 07:50:26] \"\u001b[33mGET /hello HTTP/1.1\u001b[0m\" 404 -\n",
      "127.0.0.1 - - [11/Jan/2019 07:50:35] \"\u001b[37mGET /ret_number/10 HTTP/1.1\u001b[0m\" 200 -\n",
      "127.0.0.1 - - [11/Jan/2019 07:51:03] \"\u001b[33mGET /ret_number/a HTTP/1.1\u001b[0m\" 404 -\n",
      "127.0.0.1 - - [11/Jan/2019 07:51:08] \"\u001b[33mGET /ret_number/1o HTTP/1.1\u001b[0m\" 404 -\n",
      "127.0.0.1 - - [11/Jan/2019 07:51:15] \"\u001b[37mGET /ret_number/10 HTTP/1.1\u001b[0m\" 200 -\n",
      "127.0.0.1 - - [11/Jan/2019 07:51:22] \"\u001b[33mGET /ret_number/-10 HTTP/1.1\u001b[0m\" 404 -\n"
     ]
    }
   ],
   "source": [
    "app.run()\n",
    "#Running on http://127.0.0.1:5000/"
   ]
  },
  {
   "cell_type": "code",
   "execution_count": null,
   "metadata": {},
   "outputs": [],
   "source": []
  },
  {
   "cell_type": "code",
   "execution_count": null,
   "metadata": {},
   "outputs": [],
   "source": []
  },
  {
   "cell_type": "code",
   "execution_count": null,
   "metadata": {},
   "outputs": [],
   "source": []
  },
  {
   "cell_type": "code",
   "execution_count": null,
   "metadata": {},
   "outputs": [],
   "source": []
  },
  {
   "cell_type": "code",
   "execution_count": 15,
   "metadata": {},
   "outputs": [],
   "source": [
    "import json\n",
    "#como mandariamos una lista\n",
    "#y un dict"
   ]
  },
  {
   "cell_type": "code",
   "execution_count": 16,
   "metadata": {},
   "outputs": [
    {
     "data": {
      "text/plain": [
       "'[\"a\", \"b\", \"c\", \"d\"]'"
      ]
     },
     "execution_count": 16,
     "metadata": {},
     "output_type": "execute_result"
    }
   ],
   "source": [
    "json.dumps(list(\"abcd\"))"
   ]
  },
  {
   "cell_type": "code",
   "execution_count": 17,
   "metadata": {},
   "outputs": [],
   "source": [
    "myDict = { \"name\":\"John\", \"age\":31, \"city\":\"New York\" };"
   ]
  },
  {
   "cell_type": "code",
   "execution_count": 18,
   "metadata": {},
   "outputs": [
    {
     "data": {
      "text/plain": [
       "'{\"name\": \"John\", \"age\": 31, \"city\": \"New York\"}'"
      ]
     },
     "execution_count": 18,
     "metadata": {},
     "output_type": "execute_result"
    }
   ],
   "source": [
    "json.dumps(myDict)"
   ]
  },
  {
   "cell_type": "code",
   "execution_count": 19,
   "metadata": {},
   "outputs": [],
   "source": [
    "myDict2 = { \"name\":[\"John\",\"Joana\"], \"age\":[31,29], \"city\":[\"New York\",\"Paris\"] };"
   ]
  },
  {
   "cell_type": "code",
   "execution_count": 20,
   "metadata": {},
   "outputs": [
    {
     "data": {
      "text/plain": [
       "'{\"name\": [\"John\", \"Joana\"], \"age\": [31, 29], \"city\": [\"New York\", \"Paris\"]}'"
      ]
     },
     "execution_count": 20,
     "metadata": {},
     "output_type": "execute_result"
    }
   ],
   "source": [
    "json.dumps(myDict2)"
   ]
  },
  {
   "cell_type": "code",
   "execution_count": null,
   "metadata": {
    "collapsed": true
   },
   "outputs": [],
   "source": []
  },
  {
   "cell_type": "code",
   "execution_count": null,
   "metadata": {
    "collapsed": true
   },
   "outputs": [],
   "source": []
  },
  {
   "cell_type": "code",
   "execution_count": null,
   "metadata": {
    "collapsed": true
   },
   "outputs": [],
   "source": []
  },
  {
   "cell_type": "code",
   "execution_count": null,
   "metadata": {
    "collapsed": true
   },
   "outputs": [],
   "source": []
  },
  {
   "cell_type": "markdown",
   "metadata": {},
   "source": [
    "# Ostaci"
   ]
  },
  {
   "cell_type": "code",
   "execution_count": 2,
   "metadata": {},
   "outputs": [
    {
     "data": {
      "text/plain": [
       "0    LHR     \n",
       "1    MCO     \n",
       "2    LAX     \n",
       "3    LAS     \n",
       "4    JFK     \n",
       "Name: arr_port, dtype: object"
      ]
     },
     "execution_count": 2,
     "metadata": {},
     "output_type": "execute_result"
    }
   ],
   "source": [
    "topairports.arr_port.head()"
   ]
  },
  {
   "cell_type": "code",
   "execution_count": 3,
   "metadata": {
    "collapsed": true
   },
   "outputs": [],
   "source": [
    "topairports2=topairports.copy()"
   ]
  },
  {
   "cell_type": "code",
   "execution_count": 5,
   "metadata": {},
   "outputs": [
    {
     "data": {
      "text/plain": [
       "['LHR     ', 'MCO     ', 'LAX     ', 'LAS     ', 'JFK     ']"
      ]
     },
     "execution_count": 5,
     "metadata": {},
     "output_type": "execute_result"
    }
   ],
   "source": [
    "list(topairports2.arr_port.head())"
   ]
  },
  {
   "cell_type": "markdown",
   "metadata": {},
   "source": [
    "map= works element wise on series\n",
    "\n",
    "apply= works on row/columns of DF (def=columns; axis=1 => rows); works on DF of group by\n",
    "\n",
    "applymap = works element wise on DF"
   ]
  },
  {
   "cell_type": "code",
   "execution_count": 13,
   "metadata": {},
   "outputs": [],
   "source": [
    "topairports2.arr_port=topairports2.arr_port.map(str.strip)"
   ]
  },
  {
   "cell_type": "code",
   "execution_count": 40,
   "metadata": {},
   "outputs": [],
   "source": [
    "a=['LHR     ', 'MCO     ', 'LAX     ', 'LAS     ', 'JFK     ']"
   ]
  },
  {
   "cell_type": "code",
   "execution_count": 41,
   "metadata": {
    "scrolled": true
   },
   "outputs": [
    {
     "data": {
      "text/plain": [
       "list"
      ]
     },
     "execution_count": 41,
     "metadata": {},
     "output_type": "execute_result"
    }
   ],
   "source": [
    "type(a)"
   ]
  },
  {
   "cell_type": "code",
   "execution_count": 44,
   "metadata": {},
   "outputs": [],
   "source": [
    "import pandas as pd"
   ]
  },
  {
   "cell_type": "code",
   "execution_count": 45,
   "metadata": {},
   "outputs": [],
   "source": [
    "A=pd.Series(a)"
   ]
  },
  {
   "cell_type": "code",
   "execution_count": 49,
   "metadata": {},
   "outputs": [
    {
     "data": {
      "text/plain": [
       "0    LHR\n",
       "1    MCO\n",
       "2    LAX\n",
       "3    LAS\n",
       "4    JFK\n",
       "dtype: object"
      ]
     },
     "execution_count": 49,
     "metadata": {},
     "output_type": "execute_result"
    }
   ],
   "source": [
    "A.str.strip()"
   ]
  },
  {
   "cell_type": "code",
   "execution_count": 50,
   "metadata": {},
   "outputs": [
    {
     "data": {
      "text/plain": [
       "0    LHR\n",
       "1    MCO\n",
       "2    LAX\n",
       "3    LAS\n",
       "4    JFK\n",
       "dtype: object"
      ]
     },
     "execution_count": 50,
     "metadata": {},
     "output_type": "execute_result"
    }
   ],
   "source": [
    "A.map(str.strip)"
   ]
  },
  {
   "cell_type": "code",
   "execution_count": 14,
   "metadata": {},
   "outputs": [
    {
     "data": {
      "text/plain": [
       "['LHR', 'MCO', 'LAX', 'LAS', 'JFK']"
      ]
     },
     "execution_count": 14,
     "metadata": {},
     "output_type": "execute_result"
    }
   ],
   "source": [
    "list(topairports2.arr_port.head())"
   ]
  },
  {
   "cell_type": "code",
   "execution_count": 22,
   "metadata": {},
   "outputs": [],
   "source": [
    "#topairports.pax=pd.to_numeric(topairports.pax)"
   ]
  },
  {
   "cell_type": "code",
   "execution_count": 28,
   "metadata": {},
   "outputs": [],
   "source": [
    "topairports2.pax=topairports2.pax.map(lambda x:int(x))"
   ]
  },
  {
   "cell_type": "code",
   "execution_count": 48,
   "metadata": {
    "collapsed": true
   },
   "outputs": [],
   "source": [
    "topairports2.to_csv('top_airports.csv',sep='^', index=False)"
   ]
  },
  {
   "cell_type": "code",
   "execution_count": 14,
   "metadata": {
    "collapsed": true
   },
   "outputs": [],
   "source": [
    "def plus_one(x):\n",
    "    return x+1\n",
    "def sum_serie(x):\n",
    "    return sum(x)"
   ]
  },
  {
   "cell_type": "code",
   "execution_count": 10,
   "metadata": {
    "collapsed": true
   },
   "outputs": [],
   "source": [
    "a=pd.DataFrame({\"one\":[1,2,3,4],\n",
    "               \"two\":[2, 3, 4, 5]}, index=[5, 6, 7, 8])"
   ]
  },
  {
   "cell_type": "code",
   "execution_count": 11,
   "metadata": {},
   "outputs": [
    {
     "data": {
      "text/html": [
       "<div>\n",
       "<table border=\"1\" class=\"dataframe\">\n",
       "  <thead>\n",
       "    <tr style=\"text-align: right;\">\n",
       "      <th></th>\n",
       "      <th>one</th>\n",
       "      <th>two</th>\n",
       "    </tr>\n",
       "  </thead>\n",
       "  <tbody>\n",
       "    <tr>\n",
       "      <th>5</th>\n",
       "      <td>1</td>\n",
       "      <td>2</td>\n",
       "    </tr>\n",
       "    <tr>\n",
       "      <th>6</th>\n",
       "      <td>2</td>\n",
       "      <td>3</td>\n",
       "    </tr>\n",
       "    <tr>\n",
       "      <th>7</th>\n",
       "      <td>3</td>\n",
       "      <td>4</td>\n",
       "    </tr>\n",
       "    <tr>\n",
       "      <th>8</th>\n",
       "      <td>4</td>\n",
       "      <td>5</td>\n",
       "    </tr>\n",
       "  </tbody>\n",
       "</table>\n",
       "</div>"
      ],
      "text/plain": [
       "   one  two\n",
       "5    1    2\n",
       "6    2    3\n",
       "7    3    4\n",
       "8    4    5"
      ]
     },
     "execution_count": 11,
     "metadata": {},
     "output_type": "execute_result"
    }
   ],
   "source": [
    "a"
   ]
  },
  {
   "cell_type": "code",
   "execution_count": 13,
   "metadata": {},
   "outputs": [
    {
     "data": {
      "text/html": [
       "<div>\n",
       "<table border=\"1\" class=\"dataframe\">\n",
       "  <thead>\n",
       "    <tr style=\"text-align: right;\">\n",
       "      <th></th>\n",
       "      <th>one</th>\n",
       "      <th>two</th>\n",
       "    </tr>\n",
       "  </thead>\n",
       "  <tbody>\n",
       "    <tr>\n",
       "      <th>5</th>\n",
       "      <td>2</td>\n",
       "      <td>3</td>\n",
       "    </tr>\n",
       "    <tr>\n",
       "      <th>6</th>\n",
       "      <td>3</td>\n",
       "      <td>4</td>\n",
       "    </tr>\n",
       "    <tr>\n",
       "      <th>7</th>\n",
       "      <td>4</td>\n",
       "      <td>5</td>\n",
       "    </tr>\n",
       "    <tr>\n",
       "      <th>8</th>\n",
       "      <td>5</td>\n",
       "      <td>6</td>\n",
       "    </tr>\n",
       "  </tbody>\n",
       "</table>\n",
       "</div>"
      ],
      "text/plain": [
       "   one  two\n",
       "5    2    3\n",
       "6    3    4\n",
       "7    4    5\n",
       "8    5    6"
      ]
     },
     "execution_count": 13,
     "metadata": {},
     "output_type": "execute_result"
    }
   ],
   "source": [
    "a.applymap(plus_one)"
   ]
  },
  {
   "cell_type": "code",
   "execution_count": 15,
   "metadata": {},
   "outputs": [
    {
     "data": {
      "text/plain": [
       "6"
      ]
     },
     "execution_count": 15,
     "metadata": {},
     "output_type": "execute_result"
    }
   ],
   "source": [
    "sum_serie([1,2,3])"
   ]
  },
  {
   "cell_type": "code",
   "execution_count": 17,
   "metadata": {},
   "outputs": [
    {
     "data": {
      "text/plain": [
       "10"
      ]
     },
     "execution_count": 17,
     "metadata": {},
     "output_type": "execute_result"
    }
   ],
   "source": [
    "sum_serie(a['one'])"
   ]
  },
  {
   "cell_type": "code",
   "execution_count": 24,
   "metadata": {},
   "outputs": [
    {
     "data": {
      "text/html": [
       "<div>\n",
       "<table border=\"1\" class=\"dataframe\">\n",
       "  <thead>\n",
       "    <tr style=\"text-align: right;\">\n",
       "      <th></th>\n",
       "      <th>one</th>\n",
       "      <th>two</th>\n",
       "    </tr>\n",
       "  </thead>\n",
       "  <tbody>\n",
       "    <tr>\n",
       "      <th>5</th>\n",
       "      <td>2</td>\n",
       "      <td>3</td>\n",
       "    </tr>\n",
       "    <tr>\n",
       "      <th>6</th>\n",
       "      <td>3</td>\n",
       "      <td>4</td>\n",
       "    </tr>\n",
       "    <tr>\n",
       "      <th>7</th>\n",
       "      <td>4</td>\n",
       "      <td>5</td>\n",
       "    </tr>\n",
       "    <tr>\n",
       "      <th>8</th>\n",
       "      <td>5</td>\n",
       "      <td>6</td>\n",
       "    </tr>\n",
       "  </tbody>\n",
       "</table>\n",
       "</div>"
      ],
      "text/plain": [
       "   one  two\n",
       "5    2    3\n",
       "6    3    4\n",
       "7    4    5\n",
       "8    5    6"
      ]
     },
     "execution_count": 24,
     "metadata": {},
     "output_type": "execute_result"
    }
   ],
   "source": [
    "a.apply(plus_one)"
   ]
  },
  {
   "cell_type": "code",
   "execution_count": 25,
   "metadata": {},
   "outputs": [
    {
     "ename": "AttributeError",
     "evalue": "'DataFrame' object has no attribute 'map'",
     "output_type": "error",
     "traceback": [
      "\u001b[1;31m---------------------------------------------------------------------------\u001b[0m",
      "\u001b[1;31mAttributeError\u001b[0m                            Traceback (most recent call last)",
      "\u001b[1;32m<ipython-input-25-9b463676f02e>\u001b[0m in \u001b[0;36m<module>\u001b[1;34m()\u001b[0m\n\u001b[1;32m----> 1\u001b[1;33m \u001b[0ma\u001b[0m\u001b[1;33m.\u001b[0m\u001b[0mmap\u001b[0m\u001b[1;33m(\u001b[0m\u001b[0mplus_one\u001b[0m\u001b[1;33m)\u001b[0m\u001b[1;33m\u001b[0m\u001b[0m\n\u001b[0m",
      "\u001b[1;32m/home/dsc/anaconda2/lib/python2.7/site-packages/pandas/core/generic.pyc\u001b[0m in \u001b[0;36m__getattr__\u001b[1;34m(self, name)\u001b[0m\n\u001b[0;32m   2358\u001b[0m                 \u001b[1;32mreturn\u001b[0m \u001b[0mself\u001b[0m\u001b[1;33m[\u001b[0m\u001b[0mname\u001b[0m\u001b[1;33m]\u001b[0m\u001b[1;33m\u001b[0m\u001b[0m\n\u001b[0;32m   2359\u001b[0m             raise AttributeError(\"'%s' object has no attribute '%s'\" %\n\u001b[1;32m-> 2360\u001b[1;33m                                  (type(self).__name__, name))\n\u001b[0m\u001b[0;32m   2361\u001b[0m \u001b[1;33m\u001b[0m\u001b[0m\n\u001b[0;32m   2362\u001b[0m     \u001b[1;32mdef\u001b[0m \u001b[0m__setattr__\u001b[0m\u001b[1;33m(\u001b[0m\u001b[0mself\u001b[0m\u001b[1;33m,\u001b[0m \u001b[0mname\u001b[0m\u001b[1;33m,\u001b[0m \u001b[0mvalue\u001b[0m\u001b[1;33m)\u001b[0m\u001b[1;33m:\u001b[0m\u001b[1;33m\u001b[0m\u001b[0m\n",
      "\u001b[1;31mAttributeError\u001b[0m: 'DataFrame' object has no attribute 'map'"
     ]
    }
   ],
   "source": [
    "a.map(plus_one)"
   ]
  },
  {
   "cell_type": "code",
   "execution_count": 26,
   "metadata": {},
   "outputs": [
    {
     "data": {
      "text/plain": [
       "5    2\n",
       "6    3\n",
       "7    4\n",
       "8    5\n",
       "Name: one, dtype: int64"
      ]
     },
     "execution_count": 26,
     "metadata": {},
     "output_type": "execute_result"
    }
   ],
   "source": [
    "a.one.map(plus_one)"
   ]
  },
  {
   "cell_type": "code",
   "execution_count": 27,
   "metadata": {},
   "outputs": [
    {
     "ename": "TypeError",
     "evalue": "'numpy.int64' object is not iterable",
     "output_type": "error",
     "traceback": [
      "\u001b[1;31m---------------------------------------------------------------------------\u001b[0m",
      "\u001b[1;31mTypeError\u001b[0m                                 Traceback (most recent call last)",
      "\u001b[1;32m<ipython-input-27-41cf78b21517>\u001b[0m in \u001b[0;36m<module>\u001b[1;34m()\u001b[0m\n\u001b[1;32m----> 1\u001b[1;33m \u001b[0ma\u001b[0m\u001b[1;33m.\u001b[0m\u001b[0mone\u001b[0m\u001b[1;33m.\u001b[0m\u001b[0mmap\u001b[0m\u001b[1;33m(\u001b[0m\u001b[0msum_serie\u001b[0m\u001b[1;33m)\u001b[0m\u001b[1;33m\u001b[0m\u001b[0m\n\u001b[0m",
      "\u001b[1;32m/home/dsc/anaconda2/lib/python2.7/site-packages/pandas/core/series.pyc\u001b[0m in \u001b[0;36mmap\u001b[1;34m(self, arg, na_action)\u001b[0m\n\u001b[0;32m   2052\u001b[0m                                      index=self.index).__finalize__(self)\n\u001b[0;32m   2053\u001b[0m         \u001b[1;32melse\u001b[0m\u001b[1;33m:\u001b[0m\u001b[1;33m\u001b[0m\u001b[0m\n\u001b[1;32m-> 2054\u001b[1;33m             \u001b[0mmapped\u001b[0m \u001b[1;33m=\u001b[0m \u001b[0mmap_f\u001b[0m\u001b[1;33m(\u001b[0m\u001b[0mvalues\u001b[0m\u001b[1;33m,\u001b[0m \u001b[0marg\u001b[0m\u001b[1;33m)\u001b[0m\u001b[1;33m\u001b[0m\u001b[0m\n\u001b[0m\u001b[0;32m   2055\u001b[0m             return self._constructor(mapped,\n\u001b[0;32m   2056\u001b[0m                                      index=self.index).__finalize__(self)\n",
      "\u001b[1;32mpandas/src/inference.pyx\u001b[0m in \u001b[0;36mpandas.lib.map_infer (pandas/lib.c:62578)\u001b[1;34m()\u001b[0m\n",
      "\u001b[1;32m<ipython-input-14-cdb98ec0e2f0>\u001b[0m in \u001b[0;36msum_serie\u001b[1;34m(x)\u001b[0m\n\u001b[0;32m      2\u001b[0m     \u001b[1;32mreturn\u001b[0m \u001b[0mx\u001b[0m\u001b[1;33m+\u001b[0m\u001b[1;36m1\u001b[0m\u001b[1;33m\u001b[0m\u001b[0m\n\u001b[0;32m      3\u001b[0m \u001b[1;32mdef\u001b[0m \u001b[0msum_serie\u001b[0m\u001b[1;33m(\u001b[0m\u001b[0mx\u001b[0m\u001b[1;33m)\u001b[0m\u001b[1;33m:\u001b[0m\u001b[1;33m\u001b[0m\u001b[0m\n\u001b[1;32m----> 4\u001b[1;33m     \u001b[1;32mreturn\u001b[0m \u001b[0msum\u001b[0m\u001b[1;33m(\u001b[0m\u001b[0mx\u001b[0m\u001b[1;33m)\u001b[0m\u001b[1;33m\u001b[0m\u001b[0m\n\u001b[0m",
      "\u001b[1;31mTypeError\u001b[0m: 'numpy.int64' object is not iterable"
     ]
    }
   ],
   "source": [
    "a.one.map(sum_serie)"
   ]
  },
  {
   "cell_type": "code",
   "execution_count": 28,
   "metadata": {},
   "outputs": [
    {
     "data": {
      "text/plain": [
       "one    10\n",
       "two    14\n",
       "dtype: int64"
      ]
     },
     "execution_count": 28,
     "metadata": {},
     "output_type": "execute_result"
    }
   ],
   "source": [
    "a.apply(sum_serie)"
   ]
  },
  {
   "cell_type": "code",
   "execution_count": null,
   "metadata": {
    "collapsed": true
   },
   "outputs": [],
   "source": []
  }
 ],
 "metadata": {
  "kernelspec": {
   "display_name": "Python 3",
   "language": "python",
   "name": "python3"
  },
  "language_info": {
   "codemirror_mode": {
    "name": "ipython",
    "version": 3
   },
   "file_extension": ".py",
   "mimetype": "text/x-python",
   "name": "python",
   "nbconvert_exporter": "python",
   "pygments_lexer": "ipython3",
   "version": "3.7.1"
  }
 },
 "nbformat": 4,
 "nbformat_minor": 1
}
