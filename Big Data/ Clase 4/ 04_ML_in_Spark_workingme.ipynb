{
  "nbformat": 4,
  "nbformat_minor": 0,
  "metadata": {
    "kernelspec": {
      "display_name": "Python 3",
      "language": "python",
      "name": "python3"
    },
    "language_info": {
      "codemirror_mode": {
        "name": "ipython",
        "version": 3
      },
      "file_extension": ".py",
      "mimetype": "text/x-python",
      "name": "python",
      "nbconvert_exporter": "python",
      "pygments_lexer": "ipython3",
      "version": "3.7.7"
    },
    "colab": {
      "name": "04-ML_in_Spark.workingme.ipynb",
      "provenance": [],
      "include_colab_link": true
    }
  },
  "cells": [
    {
      "cell_type": "markdown",
      "metadata": {
        "id": "view-in-github",
        "colab_type": "text"
      },
      "source": [
        "<a href=\"https://colab.research.google.com/github/rasoco/master_data_science/blob/master/Big%20Data/%20Clase%204/%2004_ML_in_Spark_workingme.ipynb\" target=\"_parent\"><img src=\"https://colab.research.google.com/assets/colab-badge.svg\" alt=\"Open In Colab\"/></a>"
      ]
    },
    {
      "cell_type": "markdown",
      "metadata": {
        "id": "V52-m_Nh5l7G",
        "colab_type": "text"
      },
      "source": [
        "# Tuning Machine Learning models in Spark\n",
        "\n",
        "<a href = \"http://yogen.io\"><img src=\"http://yogen.io/assets/logo.svg\" alt=\"yogen\" style=\"width: 200px; float: right;\"/></a>"
      ]
    },
    {
      "cell_type": "markdown",
      "metadata": {
        "id": "gfSNlCeo5l7I",
        "colab_type": "text"
      },
      "source": [
        "### If you are running this notebook in Google Colab\n",
        "\n",
        "Copy the following to a code cell and run it. It will install and set up Spark for you.\n",
        "\n",
        "```python\n",
        "!apt-get install openjdk-8-jdk-headless -qq > /dev/null\n",
        "!wget -q http://apache.uvigo.es/spark/spark-2.4.6/spark-2.4.6-bin-hadoop2.7.tgz\n",
        "!tar -xf spark-2.4.6-bin-hadoop2.7.tgz\n",
        "!pip install -q findspark\n",
        "\n",
        "import os\n",
        "import findspark\n",
        "from pyspark.sql import SparkSession\n",
        "\n",
        "os.environ[\"JAVA_HOME\"] = \"/usr/lib/jvm/java-8-openjdk-amd64\"\n",
        "os.environ[\"SPARK_HOME\"] = \"/content/spark-2.4.6-bin-hadoop2.7\"\n",
        "findspark.init()\n",
        "spark = SparkSession.builder.master(\"local[*]\").getOrCreate()\n",
        "```"
      ]
    },
    {
      "cell_type": "code",
      "metadata": {
        "id": "4-ZnDcaj5l7J",
        "colab_type": "code",
        "colab": {
          "base_uri": "https://localhost:8080/",
          "height": 69
        },
        "outputId": "bd343cf9-741c-421f-da92-cabaeeb252f7"
      },
      "source": [
        "!apt-get install openjdk-8-jdk-headless -qq > /dev/null\n",
        "!wget -q http://apache.uvigo.es/spark/spark-2.4.6/spark-2.4.6-bin-hadoop2.7.tgz\n",
        "!tar -xf spark-2.4.6-bin-hadoop2.7.tgz\n",
        "!pip install -q findspark pyspark==2.4.6\n",
        " \n",
        "import os\n",
        "import findspark\n",
        "from pyspark.sql import SparkSession\n",
        " \n",
        "os.environ[\"JAVA_HOME\"] = \"/usr/lib/jvm/java-8-openjdk-amd64\"\n",
        "os.environ[\"SPARK_HOME\"] = \"/content/spark-2.4.6-bin-hadoop2.7\"\n",
        "findspark.init()\n",
        "spark = SparkSession.builder.master(\"local[*]\").getOrCreate()"
      ],
      "execution_count": null,
      "outputs": [
        {
          "output_type": "stream",
          "text": [
            "\u001b[K     |████████████████████████████████| 218.4MB 61kB/s \n",
            "\u001b[K     |████████████████████████████████| 204kB 45.7MB/s \n",
            "\u001b[?25h  Building wheel for pyspark (setup.py) ... \u001b[?25l\u001b[?25hdone\n"
          ],
          "name": "stdout"
        }
      ]
    },
    {
      "cell_type": "markdown",
      "metadata": {
        "id": "7L46bXKu6CQh",
        "colab_type": "text"
      },
      "source": [
        "##Conecting with drive"
      ]
    },
    {
      "cell_type": "code",
      "metadata": {
        "id": "v7B1th-H6A8s",
        "colab_type": "code",
        "colab": {
          "base_uri": "https://localhost:8080/",
          "height": 128
        },
        "outputId": "7072cbfa-393d-49e6-f254-9ddb06a8d5f4"
      },
      "source": [
        "from google.colab import drive\n",
        "drive.mount('/content/drive')"
      ],
      "execution_count": null,
      "outputs": [
        {
          "output_type": "stream",
          "text": [
            "Go to this URL in a browser: https://accounts.google.com/o/oauth2/auth?client_id=947318989803-6bn6qk8qdgf4n4g3pfee6491hc0brc4i.apps.googleusercontent.com&redirect_uri=urn%3aietf%3awg%3aoauth%3a2.0%3aoob&response_type=code&scope=email%20https%3a%2f%2fwww.googleapis.com%2fauth%2fdocs.test%20https%3a%2f%2fwww.googleapis.com%2fauth%2fdrive%20https%3a%2f%2fwww.googleapis.com%2fauth%2fdrive.photos.readonly%20https%3a%2f%2fwww.googleapis.com%2fauth%2fpeopleapi.readonly\n",
            "\n",
            "Enter your authorization code:\n",
            "··········\n",
            "Mounted at /content/drive\n"
          ],
          "name": "stdout"
        }
      ]
    },
    {
      "cell_type": "code",
      "metadata": {
        "id": "VYGpA8OJ6Oaz",
        "colab_type": "code",
        "colab": {}
      },
      "source": [
        "df = spark.read.csv('/content/drive/My Drive/BigData Spark/Clase 1/On_Time_Reporting_Carrier_On_Time_Performance_(1987_present)_2018_12.csv.gz', header=True, inferSchema=True)"
      ],
      "execution_count": null,
      "outputs": []
    },
    {
      "cell_type": "markdown",
      "metadata": {
        "id": "seGq8qLX5l7M",
        "colab_type": "text"
      },
      "source": [
        "## ML Pipelines in Spark\n",
        "\n",
        "ML model training and tuning often represents running the same steps once and again. Often, we run the same steps with small variations in order to evaluate combinations of parameters. \n",
        "\n",
        "In order to make this use case a lot easier, Spark provides the [Pipeline](https://spark.apache.org/docs/2.3.0/ml-pipeline.html) abstraction.\n",
        "\n",
        "A Pipeline represents a series of steps in the processing of a dataset. Each step is a Transformer or an Estimator. The whole Pipeline is an Estimator, so we can .fit the whole pipeline in one step. When we do that, the steps'  .fit and .transform methods will be called in turn."
      ]
    },
    {
      "cell_type": "markdown",
      "metadata": {
        "id": "IYqBHiI45l7N",
        "colab_type": "text"
      },
      "source": [
        "![pipelineestimator](https://spark.apache.org/docs/2.3.0/img/ml-Pipeline.png)"
      ]
    },
    {
      "cell_type": "markdown",
      "metadata": {
        "id": "IYc5o35X5l7O",
        "colab_type": "text"
      },
      "source": [
        "![PipelineModel](https://spark.apache.org/docs/2.3.0/img/ml-PipelineModel.png)"
      ]
    },
    {
      "cell_type": "markdown",
      "metadata": {
        "id": "KuyXS79X5l7P",
        "colab_type": "text"
      },
      "source": [
        "## Example: predicting flight delays\n",
        "\n",
        "We'll be using the same [Transtats'](https://www.transtats.bts.gov/) OTP performance data] from way back when. Remember it?\n",
        "\n",
        "It's a table that contains all domestic departures by US air air carriers that represent at least one percent of domestic scheduled passenger revenues, with data on each individual departure including [Tail Number](https://en.wikipedia.org/wiki/Tail_number), departure delay, origin, destination and carrier.\n"
      ]
    },
    {
      "cell_type": "markdown",
      "metadata": {
        "id": "a-zQCgtK5l7Q",
        "colab_type": "text"
      },
      "source": [
        "### Load the data\n",
        "\n",
        "Opening .zip files in Spark is a bit of a pain. For now, let's just decompress the file we want to read. When we are ready to expand the processing to the cluster, we will need to do [this](https://stackoverflow.com/questions/28569788/how-to-open-stream-zip-files-through-spark).\n",
        "\n",
        "```python\n",
        "csvname = 'On_Time_Reporting_Carrier_On_Time_Performance_(1987_present)_2018_12.csv'\n",
        "columns_of_interest = ['Year', 'Month', 'DayofMonth', 'DayOfWeek', 'Reporting_Airline', \n",
        "                       'Tail_Number', 'Flight_Number_Reporting_Airline', 'Origin', \n",
        "                       'OriginCityName', 'OriginStateName', 'Dest', 'DestCityName', 'DestStateName',\n",
        "                       'DepTime', 'DepDelay', 'AirTime', 'Distance']\n",
        "```"
      ]
    },
    {
      "cell_type": "code",
      "metadata": {
        "scrolled": false,
        "id": "18TZ0L5r5l7Q",
        "colab_type": "code",
        "colab": {}
      },
      "source": [
        "csvname = '/content/drive/My Drive/BigData Spark/Clase 1/On_Time_Reporting_Carrier_On_Time_Performance_(1987_present)_2018_12.csv'\n",
        "columns_of_interest = ['Year', 'Month', 'DayofMonth', 'DayOfWeek', 'Reporting_Airline', \n",
        "                       'Tail_Number', 'Flight_Number_Reporting_Airline', 'Origin', \n",
        "                       'OriginCityName', 'OriginStateName', 'Dest', 'DestCityName', 'DestStateName',\n",
        "                       'DepTime', 'DepDelay', 'AirTime', 'Distance']"
      ],
      "execution_count": null,
      "outputs": []
    },
    {
      "cell_type": "code",
      "metadata": {
        "id": "Azoyldx87CjW",
        "colab_type": "code",
        "colab": {
          "base_uri": "https://localhost:8080/",
          "height": 108
        },
        "outputId": "c571e097-2b81-4165-a2a3-0c666289ccfd"
      },
      "source": [
        "ls -lrt"
      ],
      "execution_count": null,
      "outputs": [
        {
          "output_type": "stream",
          "text": [
            "total 227764\n",
            "drwxr-xr-x 13 1000 1000      4096 May 30 00:02 \u001b[0m\u001b[01;34mspark-2.4.6-bin-hadoop2.7\u001b[0m/\n",
            "-rw-r--r--  1 root root 233215067 May 30 00:54 spark-2.4.6-bin-hadoop2.7.tgz\n",
            "drwxr-xr-x  1 root root      4096 Jun 26 16:26 \u001b[01;34msample_data\u001b[0m/\n",
            "drwx------  4 root root      4096 Jul 10 18:07 \u001b[01;34mdrive\u001b[0m/\n"
          ],
          "name": "stdout"
        }
      ]
    },
    {
      "cell_type": "code",
      "metadata": {
        "id": "yOPGHstB7j4V",
        "colab_type": "code",
        "colab": {
          "base_uri": "https://localhost:8080/",
          "height": 1000
        },
        "outputId": "0602f7a2-34b6-4191-da22-45e35697ab39"
      },
      "source": [
        "from pyspark.sql import SparkSession\n",
        "csvname = '/content/drive/My Drive/BigData Spark/Clase 1/On_Time_Reporting_Carrier_On_Time_Performance_(1987_present)_2018_12.csv'\n",
        "columns_of_interest = ['Year', 'Month', 'DayofMonth', 'DayOfWeek', 'Reporting_Airline', \n",
        "                       'Tail_Number', 'Flight_Number_Reporting_Airline', 'Origin', \n",
        "                       'OriginCityName', 'OriginStateName', 'Dest', 'DestCityName', 'DestStateName',\n",
        "                       'DepTime', 'DepDelay', 'AirTime', 'Distance']\n",
        "spark = SparkSession.builder.getOrCreate()\n",
        "df = spark.read.csv('/content/drive/My Drive/BigData Spark/Clase 1/On_Time_Reporting_Carrier_On_Time_Performance_(1987_present)_2018_12.csv.gz', header=True, inferSchema=True)     \n",
        "df.printSchema()\n",
        "    "
      ],
      "execution_count": null,
      "outputs": [
        {
          "output_type": "stream",
          "text": [
            "root\n",
            " |-- Year: integer (nullable = true)\n",
            " |-- Quarter: integer (nullable = true)\n",
            " |-- Month: integer (nullable = true)\n",
            " |-- DayofMonth: integer (nullable = true)\n",
            " |-- DayOfWeek: integer (nullable = true)\n",
            " |-- FlightDate: timestamp (nullable = true)\n",
            " |-- Reporting_Airline: string (nullable = true)\n",
            " |-- DOT_ID_Reporting_Airline: integer (nullable = true)\n",
            " |-- IATA_CODE_Reporting_Airline: string (nullable = true)\n",
            " |-- Tail_Number: string (nullable = true)\n",
            " |-- Flight_Number_Reporting_Airline: integer (nullable = true)\n",
            " |-- OriginAirportID: integer (nullable = true)\n",
            " |-- OriginAirportSeqID: integer (nullable = true)\n",
            " |-- OriginCityMarketID: integer (nullable = true)\n",
            " |-- Origin: string (nullable = true)\n",
            " |-- OriginCityName: string (nullable = true)\n",
            " |-- OriginState: string (nullable = true)\n",
            " |-- OriginStateFips: integer (nullable = true)\n",
            " |-- OriginStateName: string (nullable = true)\n",
            " |-- OriginWac: integer (nullable = true)\n",
            " |-- DestAirportID: integer (nullable = true)\n",
            " |-- DestAirportSeqID: integer (nullable = true)\n",
            " |-- DestCityMarketID: integer (nullable = true)\n",
            " |-- Dest: string (nullable = true)\n",
            " |-- DestCityName: string (nullable = true)\n",
            " |-- DestState: string (nullable = true)\n",
            " |-- DestStateFips: integer (nullable = true)\n",
            " |-- DestStateName: string (nullable = true)\n",
            " |-- DestWac: integer (nullable = true)\n",
            " |-- CRSDepTime: integer (nullable = true)\n",
            " |-- DepTime: integer (nullable = true)\n",
            " |-- DepDelay: double (nullable = true)\n",
            " |-- DepDelayMinutes: double (nullable = true)\n",
            " |-- DepDel15: double (nullable = true)\n",
            " |-- DepartureDelayGroups: integer (nullable = true)\n",
            " |-- DepTimeBlk: string (nullable = true)\n",
            " |-- TaxiOut: double (nullable = true)\n",
            " |-- WheelsOff: integer (nullable = true)\n",
            " |-- WheelsOn: integer (nullable = true)\n",
            " |-- TaxiIn: double (nullable = true)\n",
            " |-- CRSArrTime: integer (nullable = true)\n",
            " |-- ArrTime: integer (nullable = true)\n",
            " |-- ArrDelay: double (nullable = true)\n",
            " |-- ArrDelayMinutes: double (nullable = true)\n",
            " |-- ArrDel15: double (nullable = true)\n",
            " |-- ArrivalDelayGroups: integer (nullable = true)\n",
            " |-- ArrTimeBlk: string (nullable = true)\n",
            " |-- Cancelled: double (nullable = true)\n",
            " |-- CancellationCode: string (nullable = true)\n",
            " |-- Diverted: double (nullable = true)\n",
            " |-- CRSElapsedTime: double (nullable = true)\n",
            " |-- ActualElapsedTime: double (nullable = true)\n",
            " |-- AirTime: double (nullable = true)\n",
            " |-- Flights: double (nullable = true)\n",
            " |-- Distance: double (nullable = true)\n",
            " |-- DistanceGroup: integer (nullable = true)\n",
            " |-- CarrierDelay: double (nullable = true)\n",
            " |-- WeatherDelay: double (nullable = true)\n",
            " |-- NASDelay: double (nullable = true)\n",
            " |-- SecurityDelay: double (nullable = true)\n",
            " |-- LateAircraftDelay: double (nullable = true)\n",
            " |-- FirstDepTime: integer (nullable = true)\n",
            " |-- TotalAddGTime: double (nullable = true)\n",
            " |-- LongestAddGTime: double (nullable = true)\n",
            " |-- DivAirportLandings: integer (nullable = true)\n",
            " |-- DivReachedDest: double (nullable = true)\n",
            " |-- DivActualElapsedTime: double (nullable = true)\n",
            " |-- DivArrDelay: double (nullable = true)\n",
            " |-- DivDistance: double (nullable = true)\n",
            " |-- Div1Airport: string (nullable = true)\n",
            " |-- Div1AirportID: integer (nullable = true)\n",
            " |-- Div1AirportSeqID: integer (nullable = true)\n",
            " |-- Div1WheelsOn: integer (nullable = true)\n",
            " |-- Div1TotalGTime: double (nullable = true)\n",
            " |-- Div1LongestGTime: double (nullable = true)\n",
            " |-- Div1WheelsOff: integer (nullable = true)\n",
            " |-- Div1TailNum: string (nullable = true)\n",
            " |-- Div2Airport: string (nullable = true)\n",
            " |-- Div2AirportID: integer (nullable = true)\n",
            " |-- Div2AirportSeqID: integer (nullable = true)\n",
            " |-- Div2WheelsOn: integer (nullable = true)\n",
            " |-- Div2TotalGTime: double (nullable = true)\n",
            " |-- Div2LongestGTime: double (nullable = true)\n",
            " |-- Div2WheelsOff: integer (nullable = true)\n",
            " |-- Div2TailNum: string (nullable = true)\n",
            " |-- Div3Airport: string (nullable = true)\n",
            " |-- Div3AirportID: string (nullable = true)\n",
            " |-- Div3AirportSeqID: string (nullable = true)\n",
            " |-- Div3WheelsOn: string (nullable = true)\n",
            " |-- Div3TotalGTime: string (nullable = true)\n",
            " |-- Div3LongestGTime: string (nullable = true)\n",
            " |-- Div3WheelsOff: string (nullable = true)\n",
            " |-- Div3TailNum: string (nullable = true)\n",
            " |-- Div4Airport: string (nullable = true)\n",
            " |-- Div4AirportID: string (nullable = true)\n",
            " |-- Div4AirportSeqID: string (nullable = true)\n",
            " |-- Div4WheelsOn: string (nullable = true)\n",
            " |-- Div4TotalGTime: string (nullable = true)\n",
            " |-- Div4LongestGTime: string (nullable = true)\n",
            " |-- Div4WheelsOff: string (nullable = true)\n",
            " |-- Div4TailNum: string (nullable = true)\n",
            " |-- Div5Airport: string (nullable = true)\n",
            " |-- Div5AirportID: string (nullable = true)\n",
            " |-- Div5AirportSeqID: string (nullable = true)\n",
            " |-- Div5WheelsOn: string (nullable = true)\n",
            " |-- Div5TotalGTime: string (nullable = true)\n",
            " |-- Div5LongestGTime: string (nullable = true)\n",
            " |-- Div5WheelsOff: string (nullable = true)\n",
            " |-- Div5TailNum: string (nullable = true)\n",
            " |-- _c109: string (nullable = true)\n",
            "\n"
          ],
          "name": "stdout"
        }
      ]
    },
    {
      "cell_type": "code",
      "metadata": {
        "id": "KyNTXb3H80dF",
        "colab_type": "code",
        "colab": {
          "base_uri": "https://localhost:8080/",
          "height": 363
        },
        "outputId": "7cd26e14-dec6-47f7-9ac9-e81fe74d37c1"
      },
      "source": [
        "flights = df.select(columns_of_interest) #save this columns \n",
        "flights.printSchema() # devuelve columnas, l tipo de columna y si puede estar vacío o no\n"
      ],
      "execution_count": null,
      "outputs": [
        {
          "output_type": "stream",
          "text": [
            "root\n",
            " |-- Year: integer (nullable = true)\n",
            " |-- Month: integer (nullable = true)\n",
            " |-- DayofMonth: integer (nullable = true)\n",
            " |-- DayOfWeek: integer (nullable = true)\n",
            " |-- Reporting_Airline: string (nullable = true)\n",
            " |-- Tail_Number: string (nullable = true)\n",
            " |-- Flight_Number_Reporting_Airline: integer (nullable = true)\n",
            " |-- Origin: string (nullable = true)\n",
            " |-- OriginCityName: string (nullable = true)\n",
            " |-- OriginStateName: string (nullable = true)\n",
            " |-- Dest: string (nullable = true)\n",
            " |-- DestCityName: string (nullable = true)\n",
            " |-- DestStateName: string (nullable = true)\n",
            " |-- DepTime: integer (nullable = true)\n",
            " |-- DepDelay: double (nullable = true)\n",
            " |-- AirTime: double (nullable = true)\n",
            " |-- Distance: double (nullable = true)\n",
            "\n"
          ],
          "name": "stdout"
        }
      ]
    },
    {
      "cell_type": "markdown",
      "metadata": {
        "id": "NbT9-0I45l7b",
        "colab_type": "text"
      },
      "source": [
        "### Drop nas\n",
        "\n",
        "There are only a few departures for which any of the columns of interest contains null values. The most expedient way to handle them is to just drop them, since they won't make much of a difference."
      ]
    },
    {
      "cell_type": "code",
      "metadata": {
        "id": "6ip3ZUsy5l7b",
        "colab_type": "code",
        "colab": {
          "base_uri": "https://localhost:8080/",
          "height": 274
        },
        "outputId": "e0eb279f-1768-46d1-d562-68b3c9b0dbba"
      },
      "source": [
        "flights.summary().show() #crear un dataframe"
      ],
      "execution_count": null,
      "outputs": [
        {
          "output_type": "stream",
          "text": [
            "+-------+------+------+------------------+-----------------+-----------------+-----------+-------------------------------+------+--------------+---------------+------+------------+-------------+------------------+-----------------+------------------+-----------------+\n",
            "|summary|  Year| Month|        DayofMonth|        DayOfWeek|Reporting_Airline|Tail_Number|Flight_Number_Reporting_Airline|Origin|OriginCityName|OriginStateName|  Dest|DestCityName|DestStateName|           DepTime|         DepDelay|           AirTime|         Distance|\n",
            "+-------+------+------+------------------+-----------------+-----------------+-----------+-------------------------------+------+--------------+---------------+------+------------+-------------+------------------+-----------------+------------------+-----------------+\n",
            "|  count|593842|593842|            593842|           593842|           593842|     592744|                         593842|593842|        593842|         593842|593842|      593842|       593842|            587316|           587316|            585737|           593842|\n",
            "|   mean|2018.0|  12.0|16.097707807800727|4.068541800680989|             null|       null|             2662.9640897747213|  null|          null|           null|  null|        null|         null|1332.8357477065158|8.993885744641727|113.39116531822303|808.3849374075933|\n",
            "| stddev|   0.0|   0.0|  8.88205747846318|2.056023127069142|             null|       null|             1849.1157912856013|  null|          null|           null|  null|        null|         null|498.72658596274135|42.96837009861061| 71.68438472757524|597.8730831895672|\n",
            "|    min|  2018|    12|                 1|                1|               9E|      215NV|                              1|   ABE|  Aberdeen, SD|        Alabama|   ABE|Aberdeen, SD|      Alabama|                 1|            -72.0|               7.0|             31.0|\n",
            "|    25%|  2018|    12|                 8|                2|             null|       null|                           1104|  null|          null|           null|  null|        null|         null|               920|             -5.0|              61.0|            369.0|\n",
            "|    50%|  2018|    12|                16|                4|             null|       null|                           2240|  null|          null|           null|  null|        null|         null|              1327|             -2.0|              95.0|            645.0|\n",
            "|    75%|  2018|    12|                24|                6|             null|       null|                           4067|  null|          null|           null|  null|        null|         null|              1740|              6.0|             144.0|           1046.0|\n",
            "|    max|  2018|    12|                31|                7|               YX|     N999JB|                           7909|   YUM|      Yuma, AZ|        Wyoming|   YUM|    Yuma, AZ|      Wyoming|              2400|           2098.0|             695.0|           4983.0|\n",
            "+-------+------+------+------------------+-----------------+-----------------+-----------+-------------------------------+------+--------------+---------------+------+------------+-------------+------------------+-----------------+------------------+-----------------+\n",
            "\n"
          ],
          "name": "stdout"
        }
      ]
    },
    {
      "cell_type": "code",
      "metadata": {
        "id": "3l_jmQaJ-z4l",
        "colab_type": "code",
        "colab": {
          "base_uri": "https://localhost:8080/",
          "height": 35
        },
        "outputId": "aabdfa25-8af6-40b7-e7a4-39376ddba156"
      },
      "source": [
        "flights.count()"
      ],
      "execution_count": null,
      "outputs": [
        {
          "output_type": "execute_result",
          "data": {
            "text/plain": [
              "593842"
            ]
          },
          "metadata": {
            "tags": []
          },
          "execution_count": 13
        }
      ]
    },
    {
      "cell_type": "code",
      "metadata": {
        "id": "q_DVLWsJ_Mrs",
        "colab_type": "code",
        "colab": {}
      },
      "source": [
        "from pyspark.sql import functions, types #para que me diga el numero de nulls\n",
        "\n",
        "flights.select(\n",
        "    \n",
        ")"
      ],
      "execution_count": null,
      "outputs": []
    },
    {
      "cell_type": "markdown",
      "metadata": {
        "id": "zJ6oPrwg5l7f",
        "colab_type": "text"
      },
      "source": [
        "NA-related functions are grouped in a .na attribute of DataFrames."
      ]
    },
    {
      "cell_type": "code",
      "metadata": {
        "id": "Xk17rzN55l7f",
        "colab_type": "code",
        "colab": {
          "base_uri": "https://localhost:8080/",
          "height": 35
        },
        "outputId": "c74fe889-0a1c-44b5-cfe8-47c63d91c94b"
      },
      "source": [
        "flights.na"
      ],
      "execution_count": null,
      "outputs": [
        {
          "output_type": "execute_result",
          "data": {
            "text/plain": [
              "<pyspark.sql.dataframe.DataFrameNaFunctions at 0x7f20497c5b70>"
            ]
          },
          "metadata": {
            "tags": []
          },
          "execution_count": 7
        }
      ]
    },
    {
      "cell_type": "code",
      "metadata": {
        "id": "5UJUrmZE_kK1",
        "colab_type": "code",
        "colab": {
          "base_uri": "https://localhost:8080/",
          "height": 274
        },
        "outputId": "e8f0b1bf-584e-42a6-8b6d-3d0ef54402bb"
      },
      "source": [
        "flights2 = flights.na.drop() #siempre guardar no sobreescribir variables, los objetos son inmutables, eliminamos los blancos\n",
        "\n",
        "flights2.summary().show(10)"
      ],
      "execution_count": null,
      "outputs": [
        {
          "output_type": "stream",
          "text": [
            "+-------+------+------+------------------+------------------+-----------------+-----------+-------------------------------+------+--------------+---------------+------+------------+-------------+-----------------+------------------+------------------+-----------------+\n",
            "|summary|  Year| Month|        DayofMonth|         DayOfWeek|Reporting_Airline|Tail_Number|Flight_Number_Reporting_Airline|Origin|OriginCityName|OriginStateName|  Dest|DestCityName|DestStateName|          DepTime|          DepDelay|           AirTime|         Distance|\n",
            "+-------+------+------+------------------+------------------+-----------------+-----------+-------------------------------+------+--------------+---------------+------+------------+-------------+-----------------+------------------+------------------+-----------------+\n",
            "|  count|585737|585737|            585737|            585737|           585737|     585737|                         585737|585737|        585737|         585737|585737|      585737|       585737|           585737|            585737|            585737|           585737|\n",
            "|   mean|2018.0|  12.0|16.081123439359303| 4.062505868674849|             null|       null|             2652.0830219023214|  null|          null|           null|  null|        null|         null|1332.735956581196| 8.937229507441053|113.39116531822303| 810.832288211262|\n",
            "| stddev|   0.0|   0.0| 8.876294545706712|2.0551602362337915|             null|       null|             1846.9631261215582|  null|          null|           null|  null|        null|         null|498.7060314361032|42.810522667065385| 71.68438472757524|598.9523413942758|\n",
            "|    min|  2018|    12|                 1|                 1|               9E|      215NV|                              1|   ABE|  Aberdeen, SD|        Alabama|   ABE|Aberdeen, SD|      Alabama|                1|             -72.0|               7.0|             31.0|\n",
            "|    25%|  2018|    12|                 8|                 2|             null|       null|                           1097|  null|          null|           null|  null|        null|         null|              920|              -5.0|              61.0|            369.0|\n",
            "|    50%|  2018|    12|                16|                 4|             null|       null|                           2228|  null|          null|           null|  null|        null|         null|             1327|              -2.0|              95.0|            646.0|\n",
            "|    75%|  2018|    12|                24|                 6|             null|       null|                           4052|  null|          null|           null|  null|        null|         null|             1740|               6.0|             144.0|           1050.0|\n",
            "|    max|  2018|    12|                31|                 7|               YX|     N999JB|                           7909|   YUM|      Yuma, AZ|        Wyoming|   YUM|    Yuma, AZ|      Wyoming|             2400|            2098.0|             695.0|           4983.0|\n",
            "+-------+------+------+------------------+------------------+-----------------+-----------+-------------------------------+------+--------------+---------------+------+------------+-------------+-----------------+------------------+------------------+-----------------+\n",
            "\n"
          ],
          "name": "stdout"
        }
      ]
    },
    {
      "cell_type": "code",
      "metadata": {
        "id": "-Va_MzNFE1E9",
        "colab_type": "code",
        "colab": {
          "base_uri": "https://localhost:8080/",
          "height": 363
        },
        "outputId": "e3747f6a-9301-46ca-a160-42d3e7656e2f"
      },
      "source": [
        "flights2.printSchema()"
      ],
      "execution_count": null,
      "outputs": [
        {
          "output_type": "stream",
          "text": [
            "root\n",
            " |-- Year: integer (nullable = true)\n",
            " |-- Month: integer (nullable = true)\n",
            " |-- DayofMonth: integer (nullable = true)\n",
            " |-- DayOfWeek: integer (nullable = true)\n",
            " |-- Reporting_Airline: string (nullable = true)\n",
            " |-- Tail_Number: string (nullable = true)\n",
            " |-- Flight_Number_Reporting_Airline: integer (nullable = true)\n",
            " |-- Origin: string (nullable = true)\n",
            " |-- OriginCityName: string (nullable = true)\n",
            " |-- OriginStateName: string (nullable = true)\n",
            " |-- Dest: string (nullable = true)\n",
            " |-- DestCityName: string (nullable = true)\n",
            " |-- DestStateName: string (nullable = true)\n",
            " |-- DepTime: integer (nullable = true)\n",
            " |-- DepDelay: double (nullable = true)\n",
            " |-- AirTime: double (nullable = true)\n",
            " |-- Distance: double (nullable = true)\n",
            "\n"
          ],
          "name": "stdout"
        }
      ]
    },
    {
      "cell_type": "markdown",
      "metadata": {
        "id": "LCAiTsxp5l7j",
        "colab_type": "text"
      },
      "source": [
        "## Feature extraction and generation of target variable\n",
        "\n",
        "The departing hour is the most important factor in delays, so we need to calculate it from the departure time. Since the input file uses a funny format for times, Spark has interpreted them as floats:"
      ]
    },
    {
      "cell_type": "markdown",
      "metadata": {
        "id": "v4t3-dYNEgBg",
        "colab_type": "text"
      },
      "source": [
        "Model Machine Learning: sacer las features para entrenar y variable objetivo.\n",
        "\n",
        "ML: Hacer un modelo para predicir si un vuelo recibirá retraso o no Problema Clasificación. \n",
        "\n",
        "Transformacion mi target DepTime a categorica. \n",
        "Feature: DepHour."
      ]
    },
    {
      "cell_type": "code",
      "metadata": {
        "scrolled": true,
        "id": "fAWFbHHn5l7k",
        "colab_type": "code",
        "colab": {
          "base_uri": "https://localhost:8080/",
          "height": 217
        },
        "outputId": "934d11d9-b576-4122-9ca7-6323e4bb08d2"
      },
      "source": [
        "flights2.select('DepTime').show(5) #es una variable númerica, cambiarla de númerica a categorica poniendo un umbral a partir de 15 minutos es retraso."
      ],
      "execution_count": null,
      "outputs": [
        {
          "output_type": "stream",
          "text": [
            "+-------+\n",
            "|DepTime|\n",
            "+-------+\n",
            "|   1048|\n",
            "|    638|\n",
            "|   1710|\n",
            "|   1318|\n",
            "|    953|\n",
            "+-------+\n",
            "only showing top 5 rows\n",
            "\n"
          ],
          "name": "stdout"
        }
      ]
    },
    {
      "cell_type": "markdown",
      "metadata": {
        "id": "q3vO5gN_5l7o",
        "colab_type": "text"
      },
      "source": [
        "#### Exercise\n",
        "\n",
        "Calculated the 'DepHour' column that represents the hour as an int."
      ]
    },
    {
      "cell_type": "code",
      "metadata": {
        "id": "ttG09ZHo5l7o",
        "colab_type": "code",
        "colab": {}
      },
      "source": [
        "from pyspark.sql import types\n",
        "flights3 = flights2.withColumn('DepHour', (flights2['DepTime'] / 100).cast(types.IntegerType()))"
      ],
      "execution_count": null,
      "outputs": []
    },
    {
      "cell_type": "code",
      "metadata": {
        "id": "8yc_cUVbGDJB",
        "colab_type": "code",
        "colab": {
          "base_uri": "https://localhost:8080/",
          "height": 381
        },
        "outputId": "3153c432-1946-4e71-eed5-a8d808585c11"
      },
      "source": [
        "flights3.printSchema()"
      ],
      "execution_count": null,
      "outputs": [
        {
          "output_type": "stream",
          "text": [
            "root\n",
            " |-- Year: integer (nullable = true)\n",
            " |-- Month: integer (nullable = true)\n",
            " |-- DayofMonth: integer (nullable = true)\n",
            " |-- DayOfWeek: integer (nullable = true)\n",
            " |-- Reporting_Airline: string (nullable = true)\n",
            " |-- Tail_Number: string (nullable = true)\n",
            " |-- Flight_Number_Reporting_Airline: integer (nullable = true)\n",
            " |-- Origin: string (nullable = true)\n",
            " |-- OriginCityName: string (nullable = true)\n",
            " |-- OriginStateName: string (nullable = true)\n",
            " |-- Dest: string (nullable = true)\n",
            " |-- DestCityName: string (nullable = true)\n",
            " |-- DestStateName: string (nullable = true)\n",
            " |-- DepTime: integer (nullable = true)\n",
            " |-- DepDelay: double (nullable = true)\n",
            " |-- AirTime: double (nullable = true)\n",
            " |-- Distance: double (nullable = true)\n",
            " |-- DepHour: integer (nullable = true)\n",
            "\n"
          ],
          "name": "stdout"
        }
      ]
    },
    {
      "cell_type": "code",
      "metadata": {
        "id": "ZJ_91-VnGNQx",
        "colab_type": "code",
        "colab": {
          "base_uri": "https://localhost:8080/",
          "height": 365
        },
        "outputId": "b47b5a5c-446a-4c58-b787-b0b3cafe1e1f"
      },
      "source": [
        "% time\n",
        "fligths3.show(10)"
      ],
      "execution_count": null,
      "outputs": [
        {
          "output_type": "stream",
          "text": [
            "CPU times: user 2 µs, sys: 0 ns, total: 2 µs\n",
            "Wall time: 5.25 µs\n",
            "+----+-----+----------+---------+-----------------+-----------+-------------------------------+------+--------------+---------------+----+----------------+-------------+-------+--------+-------+--------+----+\n",
            "|Year|Month|DayofMonth|DayOfWeek|Reporting_Airline|Tail_Number|Flight_Number_Reporting_Airline|Origin|OriginCityName|OriginStateName|Dest|    DestCityName|DestStateName|DepTime|DepDelay|AirTime|Distance|Hour|\n",
            "+----+-----+----------+---------+-----------------+-----------+-------------------------------+------+--------------+---------------+----+----------------+-------------+-------+--------+-------+--------+----+\n",
            "|2018|   12|        25|        2|               WN|     N566WN|                           1823|   OAK|   Oakland, CA|     California| GEG|     Spokane, WA|   Washington|   1048|    18.0|  111.0|   723.0|  10|\n",
            "|2018|   12|        25|        2|               WN|     N562WN|                            982|   OAK|   Oakland, CA|     California| HOU|     Houston, TX|        Texas|    638|    -2.0|  204.0|  1642.0|   6|\n",
            "|2018|   12|        25|        2|               WN|     N8611F|                           1562|   OAK|   Oakland, CA|     California| HOU|     Houston, TX|        Texas|   1710|     0.0|  207.0|  1642.0|  17|\n",
            "|2018|   12|        25|        2|               WN|     N7721E|                           1687|   OAK|   Oakland, CA|     California| HOU|     Houston, TX|        Texas|   1318|    -2.0|  204.0|  1642.0|  13|\n",
            "|2018|   12|        25|        2|               WN|     N218WN|                           1877|   OAK|   Oakland, CA|     California| HOU|     Houston, TX|        Texas|    953|    -2.0|  205.0|  1642.0|   9|\n",
            "|2018|   12|        25|        2|               WN|     N8615E|                            646|   OAK|   Oakland, CA|     California| IND|Indianapolis, IN|      Indiana|   1646|     1.0|  216.0|  1933.0|  16|\n",
            "|2018|   12|        25|        2|               WN|     N704SW|                            353|   OAK|   Oakland, CA|     California| LAS|   Las Vegas, NV|       Nevada|   1813|    13.0|   64.0|   407.0|  18|\n",
            "|2018|   12|        25|        2|               WN|     N785SW|                            661|   OAK|   Oakland, CA|     California| LAS|   Las Vegas, NV|       Nevada|   1450|     0.0|   62.0|   407.0|  14|\n",
            "|2018|   12|        25|        2|               WN|     N8657B|                           1068|   OAK|   Oakland, CA|     California| LAS|   Las Vegas, NV|       Nevada|    953|    -2.0|   62.0|   407.0|   9|\n",
            "|2018|   12|        25|        2|               WN|     N419WN|                           1498|   OAK|   Oakland, CA|     California| LAS|   Las Vegas, NV|       Nevada|   1219|    -6.0|   67.0|   407.0|  12|\n",
            "+----+-----+----------+---------+-----------------+-----------+-------------------------------+------+--------------+---------------+----+----------------+-------------+-------+--------+-------+--------+----+\n",
            "only showing top 10 rows\n",
            "\n"
          ],
          "name": "stdout"
        }
      ]
    },
    {
      "cell_type": "markdown",
      "metadata": {
        "id": "0Lq3zH-QGedg",
        "colab_type": "text"
      },
      "source": [
        "Crear una función para quitar los ultimos caracteres"
      ]
    },
    {
      "cell_type": "code",
      "metadata": {
        "id": "GeIBNbaxGht7",
        "colab_type": "code",
        "colab": {}
      },
      "source": [
        "str(num)[:-2]\n",
        "from pyspark.sql import functions, types\n",
        "time = 1034\n",
        "def strHour(time):\n",
        "  return int(str(time)[:-2])\n",
        "strHour(time)"
      ],
      "execution_count": null,
      "outputs": []
    },
    {
      "cell_type": "code",
      "metadata": {
        "id": "o721hpvoJNzB",
        "colab_type": "code",
        "colab": {}
      },
      "source": [
        "from pyspark.sql import functions, types"
      ],
      "execution_count": null,
      "outputs": []
    },
    {
      "cell_type": "code",
      "metadata": {
        "id": "x1tKWFikIkoC",
        "colab_type": "code",
        "colab": {}
      },
      "source": [
        "takeHour_udf = functions.udf(lambda time:int(str(time)[:-2]), returnType=types.IntegerType()) #no me hace falta la funcion, creo una lambda "
      ],
      "execution_count": null,
      "outputs": []
    },
    {
      "cell_type": "code",
      "metadata": {
        "id": "HD_cyIR9IzLu",
        "colab_type": "code",
        "colab": {
          "base_uri": "https://localhost:8080/",
          "height": 171
        },
        "outputId": "7344ea57-424d-4fea-bccb-69733a72ed6e"
      },
      "source": [
        "flights3b= flights2.withColumn(\"DepHour\", takeHour_udf(\"DepTime\").cast(types.IntegerType()))"
      ],
      "execution_count": null,
      "outputs": [
        {
          "output_type": "error",
          "ename": "NameError",
          "evalue": "ignored",
          "traceback": [
            "\u001b[0;31m---------------------------------------------------------------------------\u001b[0m",
            "\u001b[0;31mNameError\u001b[0m                                 Traceback (most recent call last)",
            "\u001b[0;32m<ipython-input-12-1aaf3c7f143b>\u001b[0m in \u001b[0;36m<module>\u001b[0;34m()\u001b[0m\n\u001b[0;32m----> 1\u001b[0;31m \u001b[0mflights3b\u001b[0m\u001b[0;34m=\u001b[0m \u001b[0mflights2\u001b[0m\u001b[0;34m.\u001b[0m\u001b[0mwithColumn\u001b[0m\u001b[0;34m(\u001b[0m\u001b[0;34m\"DepHour\"\u001b[0m\u001b[0;34m,\u001b[0m \u001b[0mtakeHour_udf\u001b[0m\u001b[0;34m(\u001b[0m\u001b[0;34m\"DepTime\"\u001b[0m\u001b[0;34m)\u001b[0m\u001b[0;34m.\u001b[0m\u001b[0mcast\u001b[0m\u001b[0;34m(\u001b[0m\u001b[0mtypes\u001b[0m\u001b[0;34m.\u001b[0m\u001b[0mIntegerType\u001b[0m\u001b[0;34m(\u001b[0m\u001b[0;34m)\u001b[0m\u001b[0;34m)\u001b[0m\u001b[0;34m)\u001b[0m\u001b[0;34m\u001b[0m\u001b[0;34m\u001b[0m\u001b[0m\n\u001b[0m",
            "\u001b[0;31mNameError\u001b[0m: name 'takeHour_udf' is not defined"
          ]
        }
      ]
    },
    {
      "cell_type": "code",
      "metadata": {
        "id": "JLEES75JJbr4",
        "colab_type": "code",
        "colab": {
          "base_uri": "https://localhost:8080/",
          "height": 237
        },
        "outputId": "465c7937-850b-41d2-aa76-134e287b448d"
      },
      "source": [
        "flights3b.show(5)"
      ],
      "execution_count": null,
      "outputs": [
        {
          "output_type": "stream",
          "text": [
            "+----+-----+----------+---------+-----------------+-----------+-------------------------------+------+--------------+---------------+----+------------+-------------+-------+--------+-------+--------+-------+\n",
            "|Year|Month|DayofMonth|DayOfWeek|Reporting_Airline|Tail_Number|Flight_Number_Reporting_Airline|Origin|OriginCityName|OriginStateName|Dest|DestCityName|DestStateName|DepTime|DepDelay|AirTime|Distance|DepHour|\n",
            "+----+-----+----------+---------+-----------------+-----------+-------------------------------+------+--------------+---------------+----+------------+-------------+-------+--------+-------+--------+-------+\n",
            "|2018|   12|        25|        2|               WN|     N566WN|                           1823|   OAK|   Oakland, CA|     California| GEG| Spokane, WA|   Washington|   1048|    18.0|  111.0|   723.0|     10|\n",
            "|2018|   12|        25|        2|               WN|     N562WN|                            982|   OAK|   Oakland, CA|     California| HOU| Houston, TX|        Texas|    638|    -2.0|  204.0|  1642.0|      6|\n",
            "|2018|   12|        25|        2|               WN|     N8611F|                           1562|   OAK|   Oakland, CA|     California| HOU| Houston, TX|        Texas|   1710|     0.0|  207.0|  1642.0|     17|\n",
            "|2018|   12|        25|        2|               WN|     N7721E|                           1687|   OAK|   Oakland, CA|     California| HOU| Houston, TX|        Texas|   1318|    -2.0|  204.0|  1642.0|     13|\n",
            "|2018|   12|        25|        2|               WN|     N218WN|                           1877|   OAK|   Oakland, CA|     California| HOU| Houston, TX|        Texas|    953|    -2.0|  205.0|  1642.0|      9|\n",
            "+----+-----+----------+---------+-----------------+-----------+-------------------------------+------+--------------+---------------+----+------------+-------------+-------+--------+-------+--------+-------+\n",
            "only showing top 5 rows\n",
            "\n"
          ],
          "name": "stdout"
        }
      ]
    },
    {
      "cell_type": "markdown",
      "metadata": {
        "id": "HKQi9kB_5l7r",
        "colab_type": "text"
      },
      "source": [
        "We will also generate a binary target variable. The aviation industry considers a flight delayed when it departs more than 15 minutes after its scheduled departure time, so we will use that. We will create it as an integer, since that is what the learning algorithms expect."
      ]
    },
    {
      "cell_type": "markdown",
      "metadata": {
        "id": "wVe-4GRcHOMX",
        "colab_type": "text"
      },
      "source": [
        "delayed mayor 15 minutos 1\n",
        "\n",
        "delayed menor 15 minutos 0"
      ]
    },
    {
      "cell_type": "markdown",
      "metadata": {
        "id": "MCxvMMdNHqru",
        "colab_type": "text"
      },
      "source": [
        ""
      ]
    },
    {
      "cell_type": "code",
      "metadata": {
        "id": "iIDBmmNc5l7r",
        "colab_type": "code",
        "colab": {}
      },
      "source": [
        "flights4 = flights3.withColumn('Delayed', (flights3['DepDelay'] > 15).cast(types.IntegerType())) #más de 15 minutos 1"
      ],
      "execution_count": null,
      "outputs": []
    },
    {
      "cell_type": "code",
      "metadata": {
        "id": "KeEsOdI6Kax4",
        "colab_type": "code",
        "colab": {
          "base_uri": "https://localhost:8080/",
          "height": 237
        },
        "outputId": "a1ce6765-f489-468f-d9cd-81d45b8f8973"
      },
      "source": [
        "flights4.show(5)"
      ],
      "execution_count": null,
      "outputs": [
        {
          "output_type": "stream",
          "text": [
            "+----+-----+----------+---------+-----------------+-----------+-------------------------------+------+--------------+---------------+----+------------+-------------+-------+--------+-------+--------+-------+-------+\n",
            "|Year|Month|DayofMonth|DayOfWeek|Reporting_Airline|Tail_Number|Flight_Number_Reporting_Airline|Origin|OriginCityName|OriginStateName|Dest|DestCityName|DestStateName|DepTime|DepDelay|AirTime|Distance|DepHour|Delayed|\n",
            "+----+-----+----------+---------+-----------------+-----------+-------------------------------+------+--------------+---------------+----+------------+-------------+-------+--------+-------+--------+-------+-------+\n",
            "|2018|   12|        25|        2|               WN|     N566WN|                           1823|   OAK|   Oakland, CA|     California| GEG| Spokane, WA|   Washington|   1048|    18.0|  111.0|   723.0|     10|      1|\n",
            "|2018|   12|        25|        2|               WN|     N562WN|                            982|   OAK|   Oakland, CA|     California| HOU| Houston, TX|        Texas|    638|    -2.0|  204.0|  1642.0|      6|      0|\n",
            "|2018|   12|        25|        2|               WN|     N8611F|                           1562|   OAK|   Oakland, CA|     California| HOU| Houston, TX|        Texas|   1710|     0.0|  207.0|  1642.0|     17|      0|\n",
            "|2018|   12|        25|        2|               WN|     N7721E|                           1687|   OAK|   Oakland, CA|     California| HOU| Houston, TX|        Texas|   1318|    -2.0|  204.0|  1642.0|     13|      0|\n",
            "|2018|   12|        25|        2|               WN|     N218WN|                           1877|   OAK|   Oakland, CA|     California| HOU| Houston, TX|        Texas|    953|    -2.0|  205.0|  1642.0|      9|      0|\n",
            "+----+-----+----------+---------+-----------------+-----------+-------------------------------+------+--------------+---------------+----+------------+-------------+-------+--------+-------+--------+-------+-------+\n",
            "only showing top 5 rows\n",
            "\n"
          ],
          "name": "stdout"
        }
      ]
    },
    {
      "cell_type": "markdown",
      "metadata": {
        "id": "HSA7dQFk5l7v",
        "colab_type": "text"
      },
      "source": [
        "In order to make the training times manageable, let's pick only 10% of the data to train."
      ]
    },
    {
      "cell_type": "code",
      "metadata": {
        "id": "w5qrx5pu5l7v",
        "colab_type": "code",
        "colab": {}
      },
      "source": [
        "train, rest = flights4.randomSplit([0.1, 0.9]) #10% train, 90 test, lo hacemos así porque tarda mucho en correr"
      ],
      "execution_count": null,
      "outputs": []
    },
    {
      "cell_type": "code",
      "metadata": {
        "id": "w-OKxqSYK91X",
        "colab_type": "code",
        "colab": {
          "base_uri": "https://localhost:8080/",
          "height": 328
        },
        "outputId": "73fe0604-f033-4e61-e7b9-bb0f63b45bf4"
      },
      "source": [
        "train.show(10)"
      ],
      "execution_count": null,
      "outputs": [
        {
          "output_type": "stream",
          "text": [
            "+----+-----+----------+---------+-----------------+-----------+-------------------------------+------+--------------------+---------------+----+---------------+-------------+-------+--------+-------+--------+-------+-------+\n",
            "|Year|Month|DayofMonth|DayOfWeek|Reporting_Airline|Tail_Number|Flight_Number_Reporting_Airline|Origin|      OriginCityName|OriginStateName|Dest|   DestCityName|DestStateName|DepTime|DepDelay|AirTime|Distance|DepHour|Delayed|\n",
            "+----+-----+----------+---------+-----------------+-----------+-------------------------------+------+--------------------+---------------+----+---------------+-------------+-------+--------+-------+--------+-------+-------+\n",
            "|2018|   12|         1|        6|               9E|     N134EV|                           5161|   EVV|      Evansville, IN|        Indiana| ATL|    Atlanta, GA|      Georgia|    609|     9.0|   64.0|   350.0|      6|      0|\n",
            "|2018|   12|         1|        6|               9E|     N138EV|                           5153|   IAH|         Houston, TX|          Texas| DTW|    Detroit, MI|     Michigan|   1044|    -6.0|  117.0|  1075.0|     10|      0|\n",
            "|2018|   12|         1|        6|               9E|     N228PQ|                           5132|   IND|    Indianapolis, IN|        Indiana| JFK|   New York, NY|     New York|   1355|     0.0|   94.0|   665.0|     13|      0|\n",
            "|2018|   12|         1|        6|               9E|     N299PQ|                           5531|   MSN|         Madison, WI|      Wisconsin| MSP|Minneapolis, MN|    Minnesota|   1147|    -5.0|   43.0|   228.0|     11|      0|\n",
            "|2018|   12|         1|        6|               9E|     N300PQ|                           5216|   BMI|Bloomington/Norma...|       Illinois| ATL|    Atlanta, GA|      Georgia|    551|    -9.0|  117.0|   533.0|      5|      0|\n",
            "|2018|   12|         1|        6|               9E|     N304PQ|                           3351|   MSN|         Madison, WI|      Wisconsin| DTW|    Detroit, MI|     Michigan|   1235|   -13.0|   61.0|   311.0|     12|      0|\n",
            "|2018|   12|         1|        6|               9E|     N314PQ|                           3291|   BUF|         Buffalo, NY|       New York| JFK|   New York, NY|     New York|    905|    -7.0|   61.0|   301.0|      9|      0|\n",
            "|2018|   12|         1|        6|               9E|     N315PQ|                           5041|   JFK|        New York, NY|       New York| DCA| Washington, DC|     Virginia|   1443|    -2.0|   52.0|   213.0|     14|      0|\n",
            "|2018|   12|         1|        6|               9E|     N315PQ|                           5375|   BOS|          Boston, MA|  Massachusetts| JFK|   New York, NY|     New York|   1145|    -5.0|   42.0|   187.0|     11|      0|\n",
            "|2018|   12|         1|        6|               9E|     N324PQ|                           5116|   CLE|       Cleveland, OH|           Ohio| JFK|   New York, NY|     New York|    829|    -1.0|   60.0|   425.0|      8|      0|\n",
            "+----+-----+----------+---------+-----------------+-----------+-------------------------------+------+--------------------+---------------+----+---------------+-------------+-------+--------+-------+--------+-------+-------+\n",
            "only showing top 10 rows\n",
            "\n"
          ],
          "name": "stdout"
        }
      ]
    },
    {
      "cell_type": "markdown",
      "metadata": {
        "id": "D-7s2m7I5l7x",
        "colab_type": "text"
      },
      "source": [
        "## Handle different fields in different ways\n",
        "\n",
        "We have features of at least three kinds:\n",
        "\n",
        "* Numeric continuous fields, which we can use as input to many algorithms as they are. In particular, decision trees can take continuous variables with any value as input, since they only look for the cutoff point that most increases the homogeneity of the resulting groups. In contrast, if we were using a logistic regression with regularization, for example, we would need to first scale the variables to have comparable magnitudes.\n",
        "\n",
        "* There are fields which we will treat as categorical variables, but which are already integers. These need to be one-hot encoded.\n",
        "\n",
        "* Finally, there are several categorical variables that are encoded as strings. These need to be one-hot encoded, but OneHotEncoder requires numeric input. Therefore, we will need to apply a StringIndexer to each of them before one-hot encoding.\n",
        "\n",
        "```python\n",
        "# Reminder:\n",
        "\n",
        "categorical_fields = ['Year', 'Month', 'DayofMonth', 'DayOfWeek', 'Reporting_Airline', \n",
        "                      'Origin', 'OriginCityName', 'OriginStateName', \n",
        "                      'Dest', 'DestCityName', 'DestStateName']\n",
        "\n",
        "string_fields = [field.name for field in flights_sample.schema.fields if field.dataType == types.StringType()]\n",
        "\n",
        "continuous_fields = ['Distance', 'DepHour']\n",
        "\n",
        "target_field = 'Delayed'\n",
        "```"
      ]
    },
    {
      "cell_type": "code",
      "metadata": {
        "id": "4W2lnQCxNV8o",
        "colab_type": "code",
        "colab": {
          "base_uri": "https://localhost:8080/",
          "height": 55
        },
        "outputId": "18906c00-b9d9-4914-b5ef-510144ffe235"
      },
      "source": [
        "train.schema"
      ],
      "execution_count": null,
      "outputs": [
        {
          "output_type": "execute_result",
          "data": {
            "text/plain": [
              "StructType(List(StructField(Year,IntegerType,true),StructField(Month,IntegerType,true),StructField(DayofMonth,IntegerType,true),StructField(DayOfWeek,IntegerType,true),StructField(Reporting_Airline,StringType,true),StructField(Tail_Number,StringType,true),StructField(Flight_Number_Reporting_Airline,IntegerType,true),StructField(Origin,StringType,true),StructField(OriginCityName,StringType,true),StructField(OriginStateName,StringType,true),StructField(Dest,StringType,true),StructField(DestCityName,StringType,true),StructField(DestStateName,StringType,true),StructField(DepTime,IntegerType,true),StructField(DepDelay,DoubleType,true),StructField(AirTime,DoubleType,true),StructField(Distance,DoubleType,true),StructField(DepHour,IntegerType,true),StructField(Delayed,IntegerType,true)))"
            ]
          },
          "metadata": {
            "tags": []
          },
          "execution_count": 72
        }
      ]
    },
    {
      "cell_type": "code",
      "metadata": {
        "id": "BLb1tojkNc75",
        "colab_type": "code",
        "colab": {
          "base_uri": "https://localhost:8080/",
          "height": 363
        },
        "outputId": "92ba2507-4774-4527-8d1e-ebbd65e776a7"
      },
      "source": [
        "for field in train.schema.fields:\n",
        "  print(field.name, field.dataType)"
      ],
      "execution_count": null,
      "outputs": [
        {
          "output_type": "stream",
          "text": [
            "Year IntegerType\n",
            "Month IntegerType\n",
            "DayofMonth IntegerType\n",
            "DayOfWeek IntegerType\n",
            "Reporting_Airline StringType\n",
            "Tail_Number StringType\n",
            "Flight_Number_Reporting_Airline IntegerType\n",
            "Origin StringType\n",
            "OriginCityName StringType\n",
            "OriginStateName StringType\n",
            "Dest StringType\n",
            "DestCityName StringType\n",
            "DestStateName StringType\n",
            "DepTime IntegerType\n",
            "DepDelay DoubleType\n",
            "AirTime DoubleType\n",
            "Distance DoubleType\n",
            "DepHour IntegerType\n",
            "Delayed IntegerType\n"
          ],
          "name": "stdout"
        }
      ]
    },
    {
      "cell_type": "code",
      "metadata": {
        "id": "maHcU5Mk5l7y",
        "colab_type": "code",
        "colab": {}
      },
      "source": [
        "categorical_fields = ['Year', 'Month', 'DayofMonth', 'DayOfWeek', 'Reporting_Airline', \n",
        "                      'Origin', 'OriginCityName', 'OriginStateName', \n",
        "                      'Dest', 'DestCityName', 'DestStateName']\n",
        " \n",
        "string_fields = [field.name for field in train.schema.fields if field.dataType == types.StringType()] #list comprehensions, para saber si son campos strings\n",
        " \n",
        "continuous_fields = ['Distance', 'DepHour']\n",
        " \n",
        "target_field = 'Delayed'"
      ],
      "execution_count": null,
      "outputs": []
    },
    {
      "cell_type": "code",
      "metadata": {
        "id": "ArMa2k7RN7AX",
        "colab_type": "code",
        "colab": {
          "base_uri": "https://localhost:8080/",
          "height": 163
        },
        "outputId": "4c6de58b-87a0-47f4-91e5-9c54d9e345ef"
      },
      "source": [
        "string_fields"
      ],
      "execution_count": null,
      "outputs": [
        {
          "output_type": "execute_result",
          "data": {
            "text/plain": [
              "['Reporting_Airline',\n",
              " 'Tail_Number',\n",
              " 'Origin',\n",
              " 'OriginCityName',\n",
              " 'OriginStateName',\n",
              " 'Dest',\n",
              " 'DestCityName',\n",
              " 'DestStateName']"
            ]
          },
          "metadata": {
            "tags": []
          },
          "execution_count": 75
        }
      ]
    },
    {
      "cell_type": "markdown",
      "metadata": {
        "id": "bUNvon2k5l79",
        "colab_type": "text"
      },
      "source": [
        "We have generated the list of names of columns that have dataType string with a list comprehension, rather than hard-coding it, but it is just like the other ones."
      ]
    },
    {
      "cell_type": "code",
      "metadata": {
        "id": "HyG-RoPe5l79",
        "colab_type": "code",
        "colab": {
          "base_uri": "https://localhost:8080/",
          "height": 399
        },
        "outputId": "28eb72bb-a2d4-4c08-ba91-bd92eb84d2c0"
      },
      "source": [
        "train.printSchema()"
      ],
      "execution_count": null,
      "outputs": [
        {
          "output_type": "stream",
          "text": [
            "root\n",
            " |-- Year: integer (nullable = true)\n",
            " |-- Month: integer (nullable = true)\n",
            " |-- DayofMonth: integer (nullable = true)\n",
            " |-- DayOfWeek: integer (nullable = true)\n",
            " |-- Reporting_Airline: string (nullable = true)\n",
            " |-- Tail_Number: string (nullable = true)\n",
            " |-- Flight_Number_Reporting_Airline: integer (nullable = true)\n",
            " |-- Origin: string (nullable = true)\n",
            " |-- OriginCityName: string (nullable = true)\n",
            " |-- OriginStateName: string (nullable = true)\n",
            " |-- Dest: string (nullable = true)\n",
            " |-- DestCityName: string (nullable = true)\n",
            " |-- DestStateName: string (nullable = true)\n",
            " |-- DepTime: integer (nullable = true)\n",
            " |-- DepDelay: double (nullable = true)\n",
            " |-- AirTime: double (nullable = true)\n",
            " |-- Distance: double (nullable = true)\n",
            " |-- DepHour: integer (nullable = true)\n",
            " |-- Delayed: integer (nullable = true)\n",
            "\n"
          ],
          "name": "stdout"
        }
      ]
    },
    {
      "cell_type": "markdown",
      "metadata": {
        "id": "h03mJuOg5l8A",
        "colab_type": "text"
      },
      "source": [
        "## Handling categorical fields\n",
        "\n",
        "Let's do the processing of just one field first, as an example. Then we will process the rest."
      ]
    },
    {
      "cell_type": "markdown",
      "metadata": {
        "id": "nU3DKxr_5l8B",
        "colab_type": "text"
      },
      "source": [
        "### StringIndexer \n",
        "\n",
        "A [StringIndexer](https://spark.apache.org/docs/2.2.0/ml-features.html#stringindexer) is an estimator that takes a single string field, then produces a transformer that codifies said field as numeric labels that are fit for feeding to a one-hot encoding. \n",
        "\n",
        "We need to specify an input column, an output column, and a way to handle invalids. In this case, invalids are values that the indexer has not seen during fitting but that the transformer finds during processing. Its values are 'error' (the default), which is pretty self-explanatory, 'skip', which drops them, and 'keep', which is what we want. It will assign all unseen labels to a single category index."
      ]
    },
    {
      "cell_type": "code",
      "metadata": {
        "id": "1DXPh1bIP9kW",
        "colab_type": "code",
        "colab": {}
      },
      "source": [
        "from pyspark.ml.feature import StringIndexer"
      ],
      "execution_count": null,
      "outputs": []
    },
    {
      "cell_type": "code",
      "metadata": {
        "id": "MZEBRT8f5l8C",
        "colab_type": "code",
        "colab": {}
      },
      "source": [
        "carrier_indexer = StringIndexer(inputCol='Reporting_Airline', outputCol='Reporting_Airline_index',handleInvalid= 'keep') #esto es un estimador \n",
        "#que columna entra y cual sale, aprendiendo del dataset que le he metido \n",
        "#keep:esta aerolinea no esta en el fit pero guardetela para entrenar"
      ],
      "execution_count": null,
      "outputs": []
    },
    {
      "cell_type": "code",
      "metadata": {
        "id": "Qg90FOorQciE",
        "colab_type": "code",
        "colab": {}
      },
      "source": [
        "carriers = train.select('Reporting_Airline')"
      ],
      "execution_count": null,
      "outputs": []
    },
    {
      "cell_type": "code",
      "metadata": {
        "id": "DqQKhBssQSUe",
        "colab_type": "code",
        "colab": {}
      },
      "source": [
        "carrier_indexer_transformer = carrier_indexer.fit(carriers) #lo pasa a numerito, entrenar el estimador"
      ],
      "execution_count": null,
      "outputs": []
    },
    {
      "cell_type": "code",
      "metadata": {
        "id": "NOQ3WdI3Rs_N",
        "colab_type": "code",
        "colab": {
          "base_uri": "https://localhost:8080/",
          "height": 217
        },
        "outputId": "5a7bfb63-7f10-4e6c-c681-8b29553cb9ce"
      },
      "source": [
        "carrier_indexer_transformer.transform(carriers).show(5)"
      ],
      "execution_count": null,
      "outputs": [
        {
          "output_type": "stream",
          "text": [
            "+-----------------+-----------------------+\n",
            "|Reporting_Airline|Reporting_Airline_index|\n",
            "+-----------------+-----------------------+\n",
            "|               9E|                   10.0|\n",
            "|               9E|                   10.0|\n",
            "|               9E|                   10.0|\n",
            "|               9E|                   10.0|\n",
            "|               9E|                   10.0|\n",
            "+-----------------+-----------------------+\n",
            "only showing top 5 rows\n",
            "\n"
          ],
          "name": "stdout"
        }
      ]
    },
    {
      "cell_type": "markdown",
      "metadata": {
        "id": "t5w-7Oz2uT1e",
        "colab_type": "text"
      },
      "source": [
        "Si tienes tres opciones rojo, amarillo, azul, definir tres varialbes 0,1 (R), 0,1(AM), 0,1(AZ)"
      ]
    },
    {
      "cell_type": "markdown",
      "metadata": {
        "id": "5CKldKKd5l8I",
        "colab_type": "text"
      },
      "source": [
        "### OneHotEncoder \n",
        "\n",
        "En PANDAS DUMMIES\n",
        "\n",
        "A [OneHotEncoder](https://spark.apache.org/docs/latest/ml-features#onehotencoderestimator) generates a n-1 length vector column for an n-category column of category indices. \n",
        "\n",
        "We need to specify an input and an output column."
      ]
    },
    {
      "cell_type": "code",
      "metadata": {
        "id": "VMUDNDYV5l8J",
        "colab_type": "code",
        "colab": {}
      },
      "source": [
        "# from pyspark.ml.feature import OneHotEnconderEstimator\n",
        "from pyspark.ml.feature import OneHotEncoderEstimator"
      ],
      "execution_count": null,
      "outputs": []
    },
    {
      "cell_type": "code",
      "metadata": {
        "id": "DlY7-R31xRgl",
        "colab_type": "code",
        "colab": {}
      },
      "source": [
        "onehot_encoder = OneHotEncoderEstimator(inputCols=['Reporting_Airline_index'], outputCols=['Reporting_Airline_onehot'])"
      ],
      "execution_count": null,
      "outputs": []
    },
    {
      "cell_type": "code",
      "metadata": {
        "id": "uuLGa2MxxUyU",
        "colab_type": "code",
        "colab": {}
      },
      "source": [
        "# The whole process for a single field would be like this:\n",
        "\n",
        "carrier_indexer_transformer = carrier_indexer.fit(carriers)\n",
        "\n",
        "indexed = carrier_indexer_transformer.transform(carriers)\n",
        "\n",
        "onehot_encoder_model = onehot_encoder.fit(indexed)\n",
        "onehot_encoded = onehot_encoder_model.transform(indexed)"
      ],
      "execution_count": null,
      "outputs": []
    },
    {
      "cell_type": "code",
      "metadata": {
        "id": "XvnUc4P-yGFo",
        "colab_type": "code",
        "colab": {
          "base_uri": "https://localhost:8080/",
          "height": 217
        },
        "outputId": "b20ab159-d706-4441-c792-b1b9c445df88"
      },
      "source": [
        "onehot_encoded.show(5)"
      ],
      "execution_count": null,
      "outputs": [
        {
          "output_type": "stream",
          "text": [
            "+-----------------+-----------------------+------------------------+\n",
            "|Reporting_Airline|Reporting_Airline_index|Reporting_Airline_onehot|\n",
            "+-----------------+-----------------------+------------------------+\n",
            "|               9E|                   10.0|         (17,[10],[1.0])|\n",
            "|               9E|                   10.0|         (17,[10],[1.0])|\n",
            "|               9E|                   10.0|         (17,[10],[1.0])|\n",
            "|               9E|                   10.0|         (17,[10],[1.0])|\n",
            "|               9E|                   10.0|         (17,[10],[1.0])|\n",
            "+-----------------+-----------------------+------------------------+\n",
            "only showing top 5 rows\n",
            "\n"
          ],
          "name": "stdout"
        }
      ]
    },
    {
      "cell_type": "markdown",
      "metadata": {
        "id": "RLGC1SwJ5l8O",
        "colab_type": "text"
      },
      "source": [
        "### SparseVectors\n",
        "\n",
        "The vectors produced by OneHotEncoder will each have only one non-zero value, but can potentially be very long. An efficient way to represent them is therefore a SparseVector, and that is what OneHotEncoder generates. \n",
        "\n",
        "A SparseVector is a data structure that only stores the length of the vector, a list of positions, and a list of values. All other values are assumed to be 0s.\n",
        "\n",
        "This way, a vector like the following, with lenght 15 and non-zero values only on positions 3 and 9:\n",
        "\n",
        "```python\n",
        "[0.0, 0.0, 0.0, 6.0, 0.0, 0.0, 0.0, 0.0, 0.0, 4.0, 0.0, 0.0, 0.0, 0.0, 0.0]\n",
        "```\n",
        "\n",
        "can be compactly expressed as\n",
        "\n",
        "```python\n",
        "(15, [3, 9], [6.0, 4.0])\n",
        "```"
      ]
    },
    {
      "cell_type": "markdown",
      "metadata": {
        "id": "VS8mxjAEx4TE",
        "colab_type": "text"
      },
      "source": [
        "Para ahorrar megas comprimos el vector\n",
        "\n"
      ]
    },
    {
      "cell_type": "code",
      "metadata": {
        "id": "5B8K4kx-5l8O",
        "colab_type": "code",
        "colab": {}
      },
      "source": [
        "from pyspark.ml.linalg import SparseVector"
      ],
      "execution_count": null,
      "outputs": []
    },
    {
      "cell_type": "markdown",
      "metadata": {
        "id": "3fiLimSq5l8R",
        "colab_type": "text"
      },
      "source": [
        "## Let's build our first Pipeline!\n",
        "\n",
        "Our pipeline consists of a number of StringIndexers, followed by one OneHotEncoder, followed by a VectorAssembler, with a RandomForestClassifier at the end.\n",
        "\n",
        "A Spark Pipeline is a single Estimator. We build it secifying the stages it comprises, and then we are ready to .fit it in one go. This will save us a lot of trouble, since we don't need to fit and transform each stage individually."
      ]
    },
    {
      "cell_type": "code",
      "metadata": {
        "id": "2-7ux9SZ5l8S",
        "colab_type": "code",
        "colab": {
          "base_uri": "https://localhost:8080/",
          "height": 35
        },
        "outputId": "b782c0af-0f6d-42be-81ef-4e051d9b7d51"
      },
      "source": [
        "from pyspark.ml.pipeline import Pipeline\n",
        "\n",
        "Pipeline"
      ],
      "execution_count": null,
      "outputs": [
        {
          "output_type": "execute_result",
          "data": {
            "text/plain": [
              "pyspark.ml.pipeline.Pipeline"
            ]
          },
          "metadata": {
            "tags": []
          },
          "execution_count": 60
        }
      ]
    },
    {
      "cell_type": "markdown",
      "metadata": {
        "id": "J5K6BRgM3ziA",
        "colab_type": "text"
      },
      "source": [
        "**Ejemplo para entender StringIndexer y HotEnconder**\n",
        "\n",
        "myCarriers = [\"America Airlines\", \"Iberia\",\"Lufthansa\",\"America Airlines\", \"America Airlines\", \"Lufthansa\"]\n",
        "\n",
        "myCarriers_index = [0,1,2,0,0,2]\n",
        "\n",
        "myCarriers_1Hot = [(1,0,0),(0,1,0),(0,0,1), (1,0,0),(1,0,0),(0,0,1)]"
      ]
    },
    {
      "cell_type": "markdown",
      "metadata": {
        "id": "rA6SSalr5l8b",
        "colab_type": "text"
      },
      "source": [
        "### StringIndexer stages\n",
        "\n",
        "We only need to StringIndex some of the fields. We are going to build the input and output column names programatically.\n"
      ]
    },
    {
      "cell_type": "code",
      "metadata": {
        "id": "3wPmdHp35l8c",
        "colab_type": "code",
        "colab": {}
      },
      "source": [
        "# Reminder:\n",
        " \n",
        "categorical_fields = ['Year', 'Month', 'DayofMonth', 'DayOfWeek', 'Reporting_Airline', \n",
        "                      'Origin', 'OriginCityName', 'OriginStateName', \n",
        "                      'Dest', 'DestCityName', 'DestStateName']\n",
        " \n",
        "string_fields = [field.name for field in train.schema.fields if field.dataType == types.StringType()] #estamos trabaando con train\n",
        " \n",
        "continuous_fields = ['Distance', 'DepHour']\n",
        " \n",
        "target_field = 'Delayed'"
      ],
      "execution_count": null,
      "outputs": []
    },
    {
      "cell_type": "code",
      "metadata": {
        "id": "HPVSadL1z6fZ",
        "colab_type": "code",
        "colab": {
          "base_uri": "https://localhost:8080/",
          "height": 163
        },
        "outputId": "027c2ca4-0437-49fa-8cc8-093188a93dac"
      },
      "source": [
        "string_fields"
      ],
      "execution_count": null,
      "outputs": [
        {
          "output_type": "execute_result",
          "data": {
            "text/plain": [
              "['Reporting_Airline',\n",
              " 'Tail_Number',\n",
              " 'Origin',\n",
              " 'OriginCityName',\n",
              " 'OriginStateName',\n",
              " 'Dest',\n",
              " 'DestCityName',\n",
              " 'DestStateName']"
            ]
          },
          "metadata": {
            "tags": []
          },
          "execution_count": 38
        }
      ]
    },
    {
      "cell_type": "markdown",
      "metadata": {
        "id": "hyf4h9BSzwxr",
        "colab_type": "text"
      },
      "source": [
        "Estamos trabajando con train"
      ]
    },
    {
      "cell_type": "markdown",
      "metadata": {
        "id": "B1_5yQJ80Ume",
        "colab_type": "text"
      },
      "source": [
        "###Definimos todos los String que necesitamos con una list comprehesion\n"
      ]
    },
    {
      "cell_type": "code",
      "metadata": {
        "id": "tMLQmuIyz98c",
        "colab_type": "code",
        "colab": {}
      },
      "source": [
        "indexers = [StringIndexer(inputCol=field, outputCol=field + '_index', handleInvalid='keep') for field in string_fields] #leemos de derecha a izquierda"
      ],
      "execution_count": null,
      "outputs": []
    },
    {
      "cell_type": "code",
      "metadata": {
        "id": "CrTCAoew0T-X",
        "colab_type": "code",
        "colab": {
          "base_uri": "https://localhost:8080/",
          "height": 163
        },
        "outputId": "eeba741e-72e1-4f3b-8a34-bf337ef29f09"
      },
      "source": [
        "indexers"
      ],
      "execution_count": null,
      "outputs": [
        {
          "output_type": "execute_result",
          "data": {
            "text/plain": [
              "[StringIndexer_b62b12dc039b,\n",
              " StringIndexer_06aa24a44f68,\n",
              " StringIndexer_5a68b83f0646,\n",
              " StringIndexer_7898fb6d4679,\n",
              " StringIndexer_5ea76a735bea,\n",
              " StringIndexer_54610e4c92e2,\n",
              " StringIndexer_c53acbe6d11d,\n",
              " StringIndexer_0439a5b20217]"
            ]
          },
          "metadata": {
            "tags": []
          },
          "execution_count": 87
        }
      ]
    },
    {
      "cell_type": "markdown",
      "metadata": {
        "id": "fWDfecun5l8e",
        "colab_type": "text"
      },
      "source": [
        "### OneHotEncoderEstimator\n",
        "\n",
        "One OneHotEncoderEstimator can handle all categorical columns. We are also going to build it programatically"
      ]
    },
    {
      "cell_type": "code",
      "metadata": {
        "id": "B0JHexBi5l8f",
        "colab_type": "code",
        "colab": {
          "base_uri": "https://localhost:8080/",
          "height": 35
        },
        "outputId": "4f5a2bbc-efa2-4788-e0b5-0d3eccde1403"
      },
      "source": [
        "non_string_categoricals = [field for field in categorical_fields if field not in string_fields] #campos que son categoricos que ya son numeros\n",
        "non_string_categoricals"
      ],
      "execution_count": null,
      "outputs": [
        {
          "output_type": "execute_result",
          "data": {
            "text/plain": [
              "['Year', 'Month', 'DayofMonth', 'DayOfWeek']"
            ]
          },
          "metadata": {
            "tags": []
          },
          "execution_count": 88
        }
      ]
    },
    {
      "cell_type": "code",
      "metadata": {
        "id": "g7dg5vJ700ob",
        "colab_type": "code",
        "colab": {}
      },
      "source": [
        "nsc_onehot_output = [ field + '_1hot' for field in non_string_categoricals] #preparando el nombre de la columna"
      ],
      "execution_count": null,
      "outputs": []
    },
    {
      "cell_type": "code",
      "metadata": {
        "id": "TpKN1KLg03Xl",
        "colab_type": "code",
        "colab": {
          "base_uri": "https://localhost:8080/",
          "height": 163
        },
        "outputId": "f3c0c492-6705-499c-806a-330fc4ec65f7"
      },
      "source": [
        "string_fields"
      ],
      "execution_count": null,
      "outputs": [
        {
          "output_type": "execute_result",
          "data": {
            "text/plain": [
              "['Reporting_Airline',\n",
              " 'Tail_Number',\n",
              " 'Origin',\n",
              " 'OriginCityName',\n",
              " 'OriginStateName',\n",
              " 'Dest',\n",
              " 'DestCityName',\n",
              " 'DestStateName']"
            ]
          },
          "metadata": {
            "tags": []
          },
          "execution_count": 90
        }
      ]
    },
    {
      "cell_type": "code",
      "metadata": {
        "id": "_V0bZwyK1HcI",
        "colab_type": "code",
        "colab": {}
      },
      "source": [
        "sc_onehot_input = [ field+'_index' for field in string_fields]\n",
        "sc_onehot_output = [ field + '_1hot' for field in string_fields]"
      ],
      "execution_count": null,
      "outputs": []
    },
    {
      "cell_type": "code",
      "metadata": {
        "id": "IFudzmIp1HJc",
        "colab_type": "code",
        "colab": {
          "base_uri": "https://localhost:8080/",
          "height": 163
        },
        "outputId": "bf513267-9c2c-473f-830a-3b027574df9d"
      },
      "source": [
        "sc_onehot_input #variables que son string las voy a transformar index"
      ],
      "execution_count": null,
      "outputs": [
        {
          "output_type": "execute_result",
          "data": {
            "text/plain": [
              "['Reporting_Airline_index',\n",
              " 'Tail_Number_index',\n",
              " 'Origin_index',\n",
              " 'OriginCityName_index',\n",
              " 'OriginStateName_index',\n",
              " 'Dest_index',\n",
              " 'DestCityName_index',\n",
              " 'DestStateName_index']"
            ]
          },
          "metadata": {
            "tags": []
          },
          "execution_count": 92
        }
      ]
    },
    {
      "cell_type": "code",
      "metadata": {
        "id": "eb1oU_8b1HTz",
        "colab_type": "code",
        "colab": {
          "base_uri": "https://localhost:8080/",
          "height": 35
        },
        "outputId": "92a163a5-cb9a-418f-9d81-7b95bcf311fc"
      },
      "source": [
        "nsc_onehot_output #"
      ],
      "execution_count": null,
      "outputs": [
        {
          "output_type": "execute_result",
          "data": {
            "text/plain": [
              "['Year_1hot', 'Month_1hot', 'DayofMonth_1hot', 'DayOfWeek_1hot']"
            ]
          },
          "metadata": {
            "tags": []
          },
          "execution_count": 93
        }
      ]
    },
    {
      "cell_type": "code",
      "metadata": {
        "id": "XTKUu3Em1bWu",
        "colab_type": "code",
        "colab": {
          "base_uri": "https://localhost:8080/",
          "height": 235
        },
        "outputId": "45a28eca-ee7a-4220-b3f6-0ee280cd47af"
      },
      "source": [
        "non_string_categoricals + sc_onehot_input"
      ],
      "execution_count": null,
      "outputs": [
        {
          "output_type": "execute_result",
          "data": {
            "text/plain": [
              "['Year',\n",
              " 'Month',\n",
              " 'DayofMonth',\n",
              " 'DayOfWeek',\n",
              " 'Reporting_Airline_index',\n",
              " 'Tail_Number_index',\n",
              " 'Origin_index',\n",
              " 'OriginCityName_index',\n",
              " 'OriginStateName_index',\n",
              " 'Dest_index',\n",
              " 'DestCityName_index',\n",
              " 'DestStateName_index']"
            ]
          },
          "metadata": {
            "tags": []
          },
          "execution_count": 94
        }
      ]
    },
    {
      "cell_type": "code",
      "metadata": {
        "id": "KPEBfBqQ1k1Z",
        "colab_type": "code",
        "colab": {
          "base_uri": "https://localhost:8080/",
          "height": 235
        },
        "outputId": "78d758ae-8d88-4ee0-b517-11a22a8e94c1"
      },
      "source": [
        "nsc_onehot_output + sc_onehot_output #resultado final que todas las vlbes que son categoricas an a tener hot detras"
      ],
      "execution_count": null,
      "outputs": [
        {
          "output_type": "execute_result",
          "data": {
            "text/plain": [
              "['Year_1hot',\n",
              " 'Month_1hot',\n",
              " 'DayofMonth_1hot',\n",
              " 'DayOfWeek_1hot',\n",
              " 'Reporting_Airline_1hot',\n",
              " 'Tail_Number_1hot',\n",
              " 'Origin_1hot',\n",
              " 'OriginCityName_1hot',\n",
              " 'OriginStateName_1hot',\n",
              " 'Dest_1hot',\n",
              " 'DestCityName_1hot',\n",
              " 'DestStateName_1hot']"
            ]
          },
          "metadata": {
            "tags": []
          },
          "execution_count": 95
        }
      ]
    },
    {
      "cell_type": "code",
      "metadata": {
        "id": "1ZA1J_fy1wJT",
        "colab_type": "code",
        "colab": {}
      },
      "source": [
        "onehotencoder = OneHotEncoderEstimator(inputCols = non_string_categoricals + sc_onehot_input, \n",
        "                                       outputCols = nsc_onehot_output + sc_onehot_output)"
      ],
      "execution_count": null,
      "outputs": []
    },
    {
      "cell_type": "markdown",
      "metadata": {
        "id": "FAOb9XgF5l8i",
        "colab_type": "text"
      },
      "source": [
        "### VectorAssembler\n",
        "\n",
        "Once we have generated our features, we can assemble them into a single features column, together with the continuous_fields."
      ]
    },
    {
      "cell_type": "markdown",
      "metadata": {
        "id": "qQhTq0LP4J5o",
        "colab_type": "text"
      },
      "source": [
        "Una columna con toda la informacion de las variables lo hacemos con VectorAssembler, estamos estimando"
      ]
    },
    {
      "cell_type": "code",
      "metadata": {
        "id": "U_XXf6Xy5l8j",
        "colab_type": "code",
        "colab": {}
      },
      "source": [
        "from pyspark.ml.feature import VectorAssembler\n",
        "\n",
        "vectorAssembling = VectorAssembler(inputCols= nsc_onehot_output + sc_onehot_output + continuous_fields, #lista de variables\n",
        "                   outputCol='features') #unificarlo en una columna"
      ],
      "execution_count": null,
      "outputs": []
    },
    {
      "cell_type": "markdown",
      "metadata": {
        "id": "YW85mnVa76Mt",
        "colab_type": "text"
      },
      "source": [
        "# Full ML with Spark\n",
        "## 1) PIPELINE preparation\n",
        "### Steps:\n",
        "0) Prepare label/target column.\n",
        "\n",
        "1) String => StringIndex => Estimator called \"indexers\". (Vbles que son categoricas cambiarlas)\n",
        "\n",
        "2) StringIndex => OneHotEncoding => Estimator called \"onehotencoder\".\n",
        "\n",
        "3) Assembling Features => Assembling all features in the same column.\n",
        "\n",
        "4) Prepare ML Model (Estimator).\n",
        "\n",
        "==> Results on a Estimator\n",
        "\n",
        "## 2) Fit the pipeline\n",
        "## 3) Apply pipeline to test data in order to obtain predictions."
      ]
    },
    {
      "cell_type": "markdown",
      "metadata": {
        "id": "tpnku_835l8m",
        "colab_type": "text"
      },
      "source": [
        "### RandomForestClassifier\n",
        "\n",
        "Aaaaand we are ready to do some Machine Learning! We'll use a RandomForestClassifier to try to predict delayed versus non delayed flights, a binary classification task."
      ]
    },
    {
      "cell_type": "code",
      "metadata": {
        "id": "7lnJTYeB5l8n",
        "colab_type": "code",
        "colab": {}
      },
      "source": [
        "from pyspark.ml.classification import RandomForestClassifier\n",
        "\n",
        "rf_classifier = RandomForestClassifier(featuresCol='features', labelCol='Delayed') #feautresCol son las features mientras que labelCol es label/target\n",
        "#numero de randomforest es el default"
      ],
      "execution_count": null,
      "outputs": []
    },
    {
      "cell_type": "markdown",
      "metadata": {
        "id": "ZMI0cLS05l8p",
        "colab_type": "text"
      },
      "source": [
        "### Pipeline!\n",
        "\n",
        "Now that we have all the stages, we are finally ready to put them together into a single Estimator, our Pipeline."
      ]
    },
    {
      "cell_type": "code",
      "metadata": {
        "id": "Dz6_EWCz5l8q",
        "colab_type": "code",
        "colab": {
          "base_uri": "https://localhost:8080/",
          "height": 163
        },
        "outputId": "843801b0-5adf-4c7b-a3a1-3f871607d260"
      },
      "source": [
        "indexers"
      ],
      "execution_count": null,
      "outputs": [
        {
          "output_type": "execute_result",
          "data": {
            "text/plain": [
              "[StringIndexer_b62b12dc039b,\n",
              " StringIndexer_06aa24a44f68,\n",
              " StringIndexer_5a68b83f0646,\n",
              " StringIndexer_7898fb6d4679,\n",
              " StringIndexer_5ea76a735bea,\n",
              " StringIndexer_54610e4c92e2,\n",
              " StringIndexer_c53acbe6d11d,\n",
              " StringIndexer_0439a5b20217]"
            ]
          },
          "metadata": {
            "tags": []
          },
          "execution_count": 99
        }
      ]
    },
    {
      "cell_type": "code",
      "metadata": {
        "id": "4PbXN1QY9c_-",
        "colab_type": "code",
        "colab": {
          "base_uri": "https://localhost:8080/",
          "height": 35
        },
        "outputId": "481db06d-a261-4e1d-bccb-be6b48b12a85"
      },
      "source": [
        "onehotencoder"
      ],
      "execution_count": null,
      "outputs": [
        {
          "output_type": "execute_result",
          "data": {
            "text/plain": [
              "OneHotEncoderEstimator_b8ca28c984ff"
            ]
          },
          "metadata": {
            "tags": []
          },
          "execution_count": 100
        }
      ]
    },
    {
      "cell_type": "code",
      "metadata": {
        "id": "ahTYjaFj9pAC",
        "colab_type": "code",
        "colab": {}
      },
      "source": [
        "myStages = indexers + [onehotencoder, vectorAssembling, rf_classifier]"
      ],
      "execution_count": null,
      "outputs": []
    },
    {
      "cell_type": "code",
      "metadata": {
        "id": "IGwrbUzg9rLS",
        "colab_type": "code",
        "colab": {
          "base_uri": "https://localhost:8080/",
          "height": 217
        },
        "outputId": "87e6bfd8-1276-4800-f028-327064979e62"
      },
      "source": [
        "myStages #es una lista de estimadores"
      ],
      "execution_count": null,
      "outputs": [
        {
          "output_type": "execute_result",
          "data": {
            "text/plain": [
              "[StringIndexer_b62b12dc039b,\n",
              " StringIndexer_06aa24a44f68,\n",
              " StringIndexer_5a68b83f0646,\n",
              " StringIndexer_7898fb6d4679,\n",
              " StringIndexer_5ea76a735bea,\n",
              " StringIndexer_54610e4c92e2,\n",
              " StringIndexer_c53acbe6d11d,\n",
              " StringIndexer_0439a5b20217,\n",
              " OneHotEncoderEstimator_b8ca28c984ff,\n",
              " VectorAssembler_385ffa83fdf0,\n",
              " RandomForestClassifier_6eecc63cb490]"
            ]
          },
          "metadata": {
            "tags": []
          },
          "execution_count": 103
        }
      ]
    },
    {
      "cell_type": "code",
      "metadata": {
        "id": "-XFQi1yu9t4k",
        "colab_type": "code",
        "colab": {
          "base_uri": "https://localhost:8080/",
          "height": 35
        },
        "outputId": "d6035644-8048-48d6-8cc1-7cd67ef24828"
      },
      "source": [
        "pipeline = Pipeline(stages=stages)\n",
        "\n",
        "pipeline"
      ],
      "execution_count": null,
      "outputs": [
        {
          "output_type": "execute_result",
          "data": {
            "text/plain": [
              "Pipeline_f51072450bf8"
            ]
          },
          "metadata": {
            "tags": []
          },
          "execution_count": 104
        }
      ]
    },
    {
      "cell_type": "markdown",
      "metadata": {
        "id": "SMdevEZx98kG",
        "colab_type": "text"
      },
      "source": [
        "Hasta aqui no hemos hecho nada, solo esta preparando el Pipeline"
      ]
    },
    {
      "cell_type": "code",
      "metadata": {
        "id": "eM1IQ76x-AR_",
        "colab_type": "code",
        "colab": {
          "base_uri": "https://localhost:8080/",
          "height": 54
        },
        "outputId": "de916240-ff3a-411e-d398-872029df4382"
      },
      "source": [
        "%%time\n",
        "\n",
        "pipeline_model = pipeline.fit(train)"
      ],
      "execution_count": null,
      "outputs": [
        {
          "output_type": "stream",
          "text": [
            "CPU times: user 123 ms, sys: 25.4 ms, total: 148 ms\n",
            "Wall time: 2min 11s\n"
          ],
          "name": "stdout"
        }
      ]
    },
    {
      "cell_type": "code",
      "metadata": {
        "id": "QPNeDurs-CYH",
        "colab_type": "code",
        "colab": {
          "base_uri": "https://localhost:8080/",
          "height": 55
        },
        "outputId": "acaad2aa-3a89-4404-d95d-6572d0a2ceae"
      },
      "source": [
        "predicted = pipeline_model.transform(rest)\n",
        "predicted"
      ],
      "execution_count": null,
      "outputs": [
        {
          "output_type": "execute_result",
          "data": {
            "text/plain": [
              "DataFrame[Year: int, Month: int, DayofMonth: int, DayOfWeek: int, Reporting_Airline: string, Tail_Number: string, Flight_Number_Reporting_Airline: int, Origin: string, OriginCityName: string, OriginStateName: string, Dest: string, DestCityName: string, DestStateName: string, DepTime: int, DepDelay: double, AirTime: double, Distance: double, DepHour: int, Delayed: int, Reporting_Airline_index: double, Tail_Number_index: double, Origin_index: double, OriginCityName_index: double, OriginStateName_index: double, Dest_index: double, DestCityName_index: double, DestStateName_index: double, Origin_1hot: vector, Year_1hot: vector, Reporting_Airline_1hot: vector, OriginStateName_1hot: vector, DestStateName_1hot: vector, DayofMonth_1hot: vector, Dest_1hot: vector, Month_1hot: vector, OriginCityName_1hot: vector, Tail_Number_1hot: vector, DayOfWeek_1hot: vector, DestCityName_1hot: vector, features: vector, rawPrediction: vector, probability: vector, prediction: double]"
            ]
          },
          "metadata": {
            "tags": []
          },
          "execution_count": 106
        }
      ]
    },
    {
      "cell_type": "code",
      "metadata": {
        "id": "rsgYYqzn-E3p",
        "colab_type": "code",
        "colab": {
          "base_uri": "https://localhost:8080/",
          "height": 835
        },
        "outputId": "ff51349e-0c58-403a-e6b9-81dd06b4965d"
      },
      "source": [
        "predicted.printSchema()"
      ],
      "execution_count": null,
      "outputs": [
        {
          "output_type": "stream",
          "text": [
            "root\n",
            " |-- Year: integer (nullable = true)\n",
            " |-- Month: integer (nullable = true)\n",
            " |-- DayofMonth: integer (nullable = true)\n",
            " |-- DayOfWeek: integer (nullable = true)\n",
            " |-- Reporting_Airline: string (nullable = true)\n",
            " |-- Tail_Number: string (nullable = true)\n",
            " |-- Flight_Number_Reporting_Airline: integer (nullable = true)\n",
            " |-- Origin: string (nullable = true)\n",
            " |-- OriginCityName: string (nullable = true)\n",
            " |-- OriginStateName: string (nullable = true)\n",
            " |-- Dest: string (nullable = true)\n",
            " |-- DestCityName: string (nullable = true)\n",
            " |-- DestStateName: string (nullable = true)\n",
            " |-- DepTime: integer (nullable = true)\n",
            " |-- DepDelay: double (nullable = true)\n",
            " |-- AirTime: double (nullable = true)\n",
            " |-- Distance: double (nullable = true)\n",
            " |-- DepHour: integer (nullable = true)\n",
            " |-- Delayed: integer (nullable = true)\n",
            " |-- Reporting_Airline_index: double (nullable = false)\n",
            " |-- Tail_Number_index: double (nullable = false)\n",
            " |-- Origin_index: double (nullable = false)\n",
            " |-- OriginCityName_index: double (nullable = false)\n",
            " |-- OriginStateName_index: double (nullable = false)\n",
            " |-- Dest_index: double (nullable = false)\n",
            " |-- DestCityName_index: double (nullable = false)\n",
            " |-- DestStateName_index: double (nullable = false)\n",
            " |-- Origin_1hot: vector (nullable = true)\n",
            " |-- Year_1hot: vector (nullable = true)\n",
            " |-- Reporting_Airline_1hot: vector (nullable = true)\n",
            " |-- OriginStateName_1hot: vector (nullable = true)\n",
            " |-- DestStateName_1hot: vector (nullable = true)\n",
            " |-- DayofMonth_1hot: vector (nullable = true)\n",
            " |-- Dest_1hot: vector (nullable = true)\n",
            " |-- Month_1hot: vector (nullable = true)\n",
            " |-- OriginCityName_1hot: vector (nullable = true)\n",
            " |-- Tail_Number_1hot: vector (nullable = true)\n",
            " |-- DayOfWeek_1hot: vector (nullable = true)\n",
            " |-- DestCityName_1hot: vector (nullable = true)\n",
            " |-- features: vector (nullable = true)\n",
            " |-- rawPrediction: vector (nullable = true)\n",
            " |-- probability: vector (nullable = true)\n",
            " |-- prediction: double (nullable = false)\n",
            "\n"
          ],
          "name": "stdout"
        }
      ]
    },
    {
      "cell_type": "code",
      "metadata": {
        "id": "uHAXb2WC-Gye",
        "colab_type": "code",
        "colab": {
          "base_uri": "https://localhost:8080/",
          "height": 108
        },
        "outputId": "1ed70935-bcf1-40d4-b562-0a2131e621ca"
      },
      "source": [
        "predicted.select('probability').take(5) #mirar la probabilidad y agrupar"
      ],
      "execution_count": null,
      "outputs": [
        {
          "output_type": "execute_result",
          "data": {
            "text/plain": [
              "[Row(probability=DenseVector([0.831, 0.169])),\n",
              " Row(probability=DenseVector([0.831, 0.169])),\n",
              " Row(probability=DenseVector([0.831, 0.169])),\n",
              " Row(probability=DenseVector([0.831, 0.169])),\n",
              " Row(probability=DenseVector([0.831, 0.169]))]"
            ]
          },
          "metadata": {
            "tags": []
          },
          "execution_count": 108
        }
      ]
    },
    {
      "cell_type": "code",
      "metadata": {
        "id": "nmR7lDHk-IeA",
        "colab_type": "code",
        "colab": {
          "base_uri": "https://localhost:8080/",
          "height": 108
        },
        "outputId": "ebd822a3-397e-4c33-e243-2853bd7ffe6f"
      },
      "source": [
        "predicted.select('rawPrediction','prediction').take(5) #rawPrediction es algo que el tiene dentro que explica como ha sacado la probabilidad"
      ],
      "execution_count": null,
      "outputs": [
        {
          "output_type": "execute_result",
          "data": {
            "text/plain": [
              "[Row(rawPrediction=DenseVector([16.6207, 3.3793]), prediction=0.0),\n",
              " Row(rawPrediction=DenseVector([16.6207, 3.3793]), prediction=0.0),\n",
              " Row(rawPrediction=DenseVector([16.6207, 3.3793]), prediction=0.0),\n",
              " Row(rawPrediction=DenseVector([16.6207, 3.3793]), prediction=0.0),\n",
              " Row(rawPrediction=DenseVector([16.6207, 3.3793]), prediction=0.0)]"
            ]
          },
          "metadata": {
            "tags": []
          },
          "execution_count": 110
        }
      ]
    },
    {
      "cell_type": "markdown",
      "metadata": {
        "id": "bdvnBdmb5l8s",
        "colab_type": "text"
      },
      "source": [
        "Now that we have gone to the trouble of building our Pipeline, fitting it and using it to predict the probabilty of delay on unseen data is as easy as using a single Estimator:"
      ]
    },
    {
      "cell_type": "code",
      "metadata": {
        "scrolled": false,
        "id": "M4rj3s9D5l8t",
        "colab_type": "code",
        "colab": {}
      },
      "source": [
        ""
      ],
      "execution_count": null,
      "outputs": []
    },
    {
      "cell_type": "markdown",
      "metadata": {
        "id": "f0ZTKBVT5l8w",
        "colab_type": "text"
      },
      "source": [
        "## Evaluating and tuning our Pipeline\n",
        "\n",
        "Probably the most interesting use of Spark Pipelines is quickly (in terms of coding time) evaluating many combinations of hyperparameters to feed our model and choosing the best ones. For that, we can use a TrainValidationSplit or a CrossValidator. The CrossValidator will generally perform better, but it will take several times as much. I'm using here the TrainValidationSplit because the API is the same."
      ]
    },
    {
      "cell_type": "code",
      "metadata": {
        "id": "pammv2t75l8w",
        "colab_type": "code",
        "colab": {
          "base_uri": "https://localhost:8080/",
          "height": 1000
        },
        "outputId": "20c192b3-cab5-4939-c96a-8abb79f33cbd"
      },
      "source": [
        "from pyspark.ml.tuning import TrainValidationSplit, CrossValidator\n",
        "\n",
        "help(TrainValidationSplit)"
      ],
      "execution_count": null,
      "outputs": [
        {
          "output_type": "stream",
          "text": [
            "Help on class TrainValidationSplit in module pyspark.ml.tuning:\n",
            "\n",
            "class TrainValidationSplit(pyspark.ml.base.Estimator, ValidatorParams, pyspark.ml.param.shared.HasParallelism, pyspark.ml.param.shared.HasCollectSubModels, pyspark.ml.util.MLReadable, pyspark.ml.util.MLWritable)\n",
            " |  .. note:: Experimental\n",
            " |  \n",
            " |  Validation for hyper-parameter tuning. Randomly splits the input dataset into train and\n",
            " |  validation sets, and uses evaluation metric on the validation set to select the best model.\n",
            " |  Similar to :class:`CrossValidator`, but only splits the set once.\n",
            " |  \n",
            " |  >>> from pyspark.ml.classification import LogisticRegression\n",
            " |  >>> from pyspark.ml.evaluation import BinaryClassificationEvaluator\n",
            " |  >>> from pyspark.ml.linalg import Vectors\n",
            " |  >>> dataset = spark.createDataFrame(\n",
            " |  ...     [(Vectors.dense([0.0]), 0.0),\n",
            " |  ...      (Vectors.dense([0.4]), 1.0),\n",
            " |  ...      (Vectors.dense([0.5]), 0.0),\n",
            " |  ...      (Vectors.dense([0.6]), 1.0),\n",
            " |  ...      (Vectors.dense([1.0]), 1.0)] * 10,\n",
            " |  ...     [\"features\", \"label\"])\n",
            " |  >>> lr = LogisticRegression()\n",
            " |  >>> grid = ParamGridBuilder().addGrid(lr.maxIter, [0, 1]).build()\n",
            " |  >>> evaluator = BinaryClassificationEvaluator()\n",
            " |  >>> tvs = TrainValidationSplit(estimator=lr, estimatorParamMaps=grid, evaluator=evaluator,\n",
            " |  ...     parallelism=2)\n",
            " |  >>> tvsModel = tvs.fit(dataset)\n",
            " |  >>> evaluator.evaluate(tvsModel.transform(dataset))\n",
            " |  0.8333...\n",
            " |  \n",
            " |  .. versionadded:: 2.0.0\n",
            " |  \n",
            " |  Method resolution order:\n",
            " |      TrainValidationSplit\n",
            " |      pyspark.ml.base.Estimator\n",
            " |      ValidatorParams\n",
            " |      pyspark.ml.param.shared.HasSeed\n",
            " |      pyspark.ml.param.shared.HasParallelism\n",
            " |      pyspark.ml.param.shared.HasCollectSubModels\n",
            " |      pyspark.ml.param.Params\n",
            " |      pyspark.ml.util.Identifiable\n",
            " |      pyspark.ml.util.MLReadable\n",
            " |      pyspark.ml.util.MLWritable\n",
            " |      builtins.object\n",
            " |  \n",
            " |  Methods defined here:\n",
            " |  \n",
            " |  __init__(self, estimator=None, estimatorParamMaps=None, evaluator=None, trainRatio=0.75, parallelism=1, collectSubModels=False, seed=None)\n",
            " |      __init__(self, estimator=None, estimatorParamMaps=None, evaluator=None, trainRatio=0.75,                 parallelism=1, collectSubModels=False, seed=None)\n",
            " |  \n",
            " |  copy(self, extra=None)\n",
            " |      Creates a copy of this instance with a randomly generated uid\n",
            " |      and some extra params. This copies creates a deep copy of\n",
            " |      the embedded paramMap, and copies the embedded and extra parameters over.\n",
            " |      \n",
            " |      :param extra: Extra parameters to copy to the new instance\n",
            " |      :return: Copy of this instance\n",
            " |      \n",
            " |      .. versionadded:: 2.0.0\n",
            " |  \n",
            " |  getTrainRatio(self)\n",
            " |      Gets the value of trainRatio or its default value.\n",
            " |      \n",
            " |      .. versionadded:: 2.0.0\n",
            " |  \n",
            " |  setParams(self, estimator=None, estimatorParamMaps=None, evaluator=None, trainRatio=0.75, parallelism=1, collectSubModels=False, seed=None)\n",
            " |      setParams(self, estimator=None, estimatorParamMaps=None, evaluator=None, trainRatio=0.75,                  parallelism=1, collectSubModels=False, seed=None):\n",
            " |      Sets params for the train validation split.\n",
            " |      \n",
            " |      .. versionadded:: 2.0.0\n",
            " |  \n",
            " |  setTrainRatio(self, value)\n",
            " |      Sets the value of :py:attr:`trainRatio`.\n",
            " |      \n",
            " |      .. versionadded:: 2.0.0\n",
            " |  \n",
            " |  write(self)\n",
            " |      Returns an MLWriter instance for this ML instance.\n",
            " |      \n",
            " |      .. versionadded:: 2.3.0\n",
            " |  \n",
            " |  ----------------------------------------------------------------------\n",
            " |  Class methods defined here:\n",
            " |  \n",
            " |  read() from builtins.type\n",
            " |      Returns an MLReader instance for this class.\n",
            " |      \n",
            " |      .. versionadded:: 2.3.0\n",
            " |  \n",
            " |  ----------------------------------------------------------------------\n",
            " |  Data and other attributes defined here:\n",
            " |  \n",
            " |  trainRatio = Param(parent='undefined', name='trainRatio', doc...d     ...\n",
            " |  \n",
            " |  ----------------------------------------------------------------------\n",
            " |  Methods inherited from pyspark.ml.base.Estimator:\n",
            " |  \n",
            " |  fit(self, dataset, params=None)\n",
            " |      Fits a model to the input dataset with optional parameters.\n",
            " |      \n",
            " |      :param dataset: input dataset, which is an instance of :py:class:`pyspark.sql.DataFrame`\n",
            " |      :param params: an optional param map that overrides embedded params. If a list/tuple of\n",
            " |                     param maps is given, this calls fit on each param map and returns a list of\n",
            " |                     models.\n",
            " |      :returns: fitted model(s)\n",
            " |      \n",
            " |      .. versionadded:: 1.3.0\n",
            " |  \n",
            " |  fitMultiple(self, dataset, paramMaps)\n",
            " |      Fits a model to the input dataset for each param map in `paramMaps`.\n",
            " |      \n",
            " |      :param dataset: input dataset, which is an instance of :py:class:`pyspark.sql.DataFrame`.\n",
            " |      :param paramMaps: A Sequence of param maps.\n",
            " |      :return: A thread safe iterable which contains one model for each param map. Each\n",
            " |               call to `next(modelIterator)` will return `(index, model)` where model was fit\n",
            " |               using `paramMaps[index]`. `index` values may not be sequential.\n",
            " |      \n",
            " |      .. note:: DeveloperApi\n",
            " |      .. note:: Experimental\n",
            " |      \n",
            " |      .. versionadded:: 2.3.0\n",
            " |  \n",
            " |  ----------------------------------------------------------------------\n",
            " |  Data and other attributes inherited from pyspark.ml.base.Estimator:\n",
            " |  \n",
            " |  __metaclass__ = <class 'abc.ABCMeta'>\n",
            " |      Metaclass for defining Abstract Base Classes (ABCs).\n",
            " |      \n",
            " |      Use this metaclass to create an ABC.  An ABC can be subclassed\n",
            " |      directly, and then acts as a mix-in class.  You can also register\n",
            " |      unrelated concrete classes (even built-in classes) and unrelated\n",
            " |      ABCs as 'virtual subclasses' -- these and their descendants will\n",
            " |      be considered subclasses of the registering ABC by the built-in\n",
            " |      issubclass() function, but the registering ABC won't show up in\n",
            " |      their MRO (Method Resolution Order) nor will method\n",
            " |      implementations defined by the registering ABC be callable (not\n",
            " |      even via super()).\n",
            " |  \n",
            " |  ----------------------------------------------------------------------\n",
            " |  Methods inherited from ValidatorParams:\n",
            " |  \n",
            " |  getEstimator(self)\n",
            " |      Gets the value of estimator or its default value.\n",
            " |  \n",
            " |  getEstimatorParamMaps(self)\n",
            " |      Gets the value of estimatorParamMaps or its default value.\n",
            " |  \n",
            " |  getEvaluator(self)\n",
            " |      Gets the value of evaluator or its default value.\n",
            " |  \n",
            " |  setEstimator(self, value)\n",
            " |      Sets the value of :py:attr:`estimator`.\n",
            " |  \n",
            " |  setEstimatorParamMaps(self, value)\n",
            " |      Sets the value of :py:attr:`estimatorParamMaps`.\n",
            " |  \n",
            " |  setEvaluator(self, value)\n",
            " |      Sets the value of :py:attr:`evaluator`.\n",
            " |  \n",
            " |  ----------------------------------------------------------------------\n",
            " |  Data and other attributes inherited from ValidatorParams:\n",
            " |  \n",
            " |  estimator = Param(parent='undefined', name='estimator', doc='estimator...\n",
            " |  \n",
            " |  estimatorParamMaps = Param(parent='undefined', name='estimatorParamMap...\n",
            " |  \n",
            " |  evaluator = Param(parent='undefined', name='evaluator', doc=...r-param...\n",
            " |  \n",
            " |  ----------------------------------------------------------------------\n",
            " |  Methods inherited from pyspark.ml.param.shared.HasSeed:\n",
            " |  \n",
            " |  getSeed(self)\n",
            " |      Gets the value of seed or its default value.\n",
            " |  \n",
            " |  setSeed(self, value)\n",
            " |      Sets the value of :py:attr:`seed`.\n",
            " |  \n",
            " |  ----------------------------------------------------------------------\n",
            " |  Data and other attributes inherited from pyspark.ml.param.shared.HasSeed:\n",
            " |  \n",
            " |  seed = Param(parent='undefined', name='seed', doc='random seed.')\n",
            " |  \n",
            " |  ----------------------------------------------------------------------\n",
            " |  Methods inherited from pyspark.ml.param.shared.HasParallelism:\n",
            " |  \n",
            " |  getParallelism(self)\n",
            " |      Gets the value of parallelism or its default value.\n",
            " |  \n",
            " |  setParallelism(self, value)\n",
            " |      Sets the value of :py:attr:`parallelism`.\n",
            " |  \n",
            " |  ----------------------------------------------------------------------\n",
            " |  Data and other attributes inherited from pyspark.ml.param.shared.HasParallelism:\n",
            " |  \n",
            " |  parallelism = Param(parent='undefined', name='parallelism', do...to us...\n",
            " |  \n",
            " |  ----------------------------------------------------------------------\n",
            " |  Methods inherited from pyspark.ml.param.shared.HasCollectSubModels:\n",
            " |  \n",
            " |  getCollectSubModels(self)\n",
            " |      Gets the value of collectSubModels or its default value.\n",
            " |  \n",
            " |  setCollectSubModels(self, value)\n",
            " |      Sets the value of :py:attr:`collectSubModels`.\n",
            " |  \n",
            " |  ----------------------------------------------------------------------\n",
            " |  Data and other attributes inherited from pyspark.ml.param.shared.HasCollectSubModels:\n",
            " |  \n",
            " |  collectSubModels = Param(parent='undefined', name='collectSubModels......\n",
            " |  \n",
            " |  ----------------------------------------------------------------------\n",
            " |  Methods inherited from pyspark.ml.param.Params:\n",
            " |  \n",
            " |  explainParam(self, param)\n",
            " |      Explains a single param and returns its name, doc, and optional\n",
            " |      default value and user-supplied value in a string.\n",
            " |  \n",
            " |  explainParams(self)\n",
            " |      Returns the documentation of all params with their optionally\n",
            " |      default values and user-supplied values.\n",
            " |  \n",
            " |  extractParamMap(self, extra=None)\n",
            " |      Extracts the embedded default param values and user-supplied\n",
            " |      values, and then merges them with extra values from input into\n",
            " |      a flat param map, where the latter value is used if there exist\n",
            " |      conflicts, i.e., with ordering: default param values <\n",
            " |      user-supplied values < extra.\n",
            " |      \n",
            " |      :param extra: extra param values\n",
            " |      :return: merged param map\n",
            " |  \n",
            " |  getOrDefault(self, param)\n",
            " |      Gets the value of a param in the user-supplied param map or its\n",
            " |      default value. Raises an error if neither is set.\n",
            " |  \n",
            " |  getParam(self, paramName)\n",
            " |      Gets a param by its name.\n",
            " |  \n",
            " |  hasDefault(self, param)\n",
            " |      Checks whether a param has a default value.\n",
            " |  \n",
            " |  hasParam(self, paramName)\n",
            " |      Tests whether this instance contains a param with a given\n",
            " |      (string) name.\n",
            " |  \n",
            " |  isDefined(self, param)\n",
            " |      Checks whether a param is explicitly set by user or has\n",
            " |      a default value.\n",
            " |  \n",
            " |  isSet(self, param)\n",
            " |      Checks whether a param is explicitly set by user.\n",
            " |  \n",
            " |  set(self, param, value)\n",
            " |      Sets a parameter in the embedded param map.\n",
            " |  \n",
            " |  ----------------------------------------------------------------------\n",
            " |  Data descriptors inherited from pyspark.ml.param.Params:\n",
            " |  \n",
            " |  params\n",
            " |      Returns all params ordered by name. The default implementation\n",
            " |      uses :py:func:`dir` to get all attributes of type\n",
            " |      :py:class:`Param`.\n",
            " |  \n",
            " |  ----------------------------------------------------------------------\n",
            " |  Methods inherited from pyspark.ml.util.Identifiable:\n",
            " |  \n",
            " |  __repr__(self)\n",
            " |      Return repr(self).\n",
            " |  \n",
            " |  ----------------------------------------------------------------------\n",
            " |  Data descriptors inherited from pyspark.ml.util.Identifiable:\n",
            " |  \n",
            " |  __dict__\n",
            " |      dictionary for instance variables (if defined)\n",
            " |  \n",
            " |  __weakref__\n",
            " |      list of weak references to the object (if defined)\n",
            " |  \n",
            " |  ----------------------------------------------------------------------\n",
            " |  Class methods inherited from pyspark.ml.util.MLReadable:\n",
            " |  \n",
            " |  load(path) from builtins.type\n",
            " |      Reads an ML instance from the input path, a shortcut of `read().load(path)`.\n",
            " |  \n",
            " |  ----------------------------------------------------------------------\n",
            " |  Methods inherited from pyspark.ml.util.MLWritable:\n",
            " |  \n",
            " |  save(self, path)\n",
            " |      Save this ML instance to the given path, a shortcut of 'write().save(path)'.\n",
            "\n"
          ],
          "name": "stdout"
        }
      ]
    },
    {
      "cell_type": "markdown",
      "metadata": {
        "id": "c0-z3yBN5l8z",
        "colab_type": "text"
      },
      "source": [
        "### Params and Evaluators\n",
        "\n",
        "In order to evaluate different sets of parameters, we need a) the set of parameters to iterate through and b) a metric to compare the results. \n",
        "\n",
        "The first element is represented by ParamMaps, which we build with a ParamGridBuilder, and the second by an Evaluator that needs to be specific to the relevant task."
      ]
    },
    {
      "cell_type": "code",
      "metadata": {
        "id": "MnEw3en-5l8z",
        "colab_type": "code",
        "colab": {}
      },
      "source": [
        "from pyspark.ml.tuning import ParamGridBuilder\n",
        "\n",
        "builder = ParamGridBuilder()\n",
        "\n",
        "our_param_map = builder.addGrid(rf_classifier.maxDepth, [5, 15])\\\n",
        "                       .addGrid(rf_classifier.numTrees, [10, 30])\\\n",
        "                       .build()"
      ],
      "execution_count": null,
      "outputs": []
    },
    {
      "cell_type": "code",
      "metadata": {
        "id": "ZX0IuzcZ5l83",
        "colab_type": "code",
        "colab": {}
      },
      "source": [
        "from pyspark.ml.evaluation import BinaryClassificationEvaluator\n",
        "\n",
        "our_evaluator = BinaryClassificationEvaluator(labelCol='Delayed') #es binario si es delayed o no delayed"
      ],
      "execution_count": null,
      "outputs": []
    },
    {
      "cell_type": "markdown",
      "metadata": {
        "id": "dNGQua2TDP9R",
        "colab_type": "text"
      },
      "source": [
        "Threshold, Roc Curve.\n",
        "\n",
        "Fale Positive Rate and True Positive Rate"
      ]
    },
    {
      "cell_type": "markdown",
      "metadata": {
        "id": "h_HXrnTP5l82",
        "colab_type": "text"
      },
      "source": [
        "We now have all the elements in place to perform our fit:"
      ]
    },
    {
      "cell_type": "code",
      "metadata": {
        "id": "Xp1ejxTm-WI8",
        "colab_type": "code",
        "colab": {}
      },
      "source": [
        "split = TrainValidationSplit(estimator=pipeline, \n",
        "                             evaluator=our_evaluator, \n",
        "                             estimatorParamMaps=our_param_map)"
      ],
      "execution_count": null,
      "outputs": []
    },
    {
      "cell_type": "code",
      "metadata": {
        "id": "QCn0xrOK-YAA",
        "colab_type": "code",
        "colab": {
          "base_uri": "https://localhost:8080/",
          "height": 54
        },
        "outputId": "55d0b6e2-b424-4305-f54b-3510edebecc5"
      },
      "source": [
        "%%time\n",
        "\n",
        "split_model_chosen = split.fit(train)"
      ],
      "execution_count": null,
      "outputs": [
        {
          "output_type": "stream",
          "text": [
            "CPU times: user 1.36 s, sys: 286 ms, total: 1.65 s\n",
            "Wall time: 4min 7s\n"
          ],
          "name": "stdout"
        }
      ]
    },
    {
      "cell_type": "markdown",
      "metadata": {
        "id": "YeyqxztV5l89",
        "colab_type": "text"
      },
      "source": [
        "And now we can predict on the rest of the flights and compare them with reality:"
      ]
    },
    {
      "cell_type": "code",
      "metadata": {
        "id": "lVFSNQlb5l89",
        "colab_type": "code",
        "colab": {
          "base_uri": "https://localhost:8080/",
          "height": 54
        },
        "outputId": "9b5ff6cf-0c09-4279-b3b5-55cc3884bb4c"
      },
      "source": [
        "%%time\n",
        "\n",
        "predictions = split_model_chosen.transform(rest).select('features',\n",
        "                                                        'Delayed',\n",
        "                                                        'rawPrediction',\n",
        "                                                        'probability',\n",
        "                                                        'prediction')"
      ],
      "execution_count": null,
      "outputs": [
        {
          "output_type": "stream",
          "text": [
            "CPU times: user 45 ms, sys: 11.2 ms, total: 56.2 ms\n",
            "Wall time: 297 ms\n"
          ],
          "name": "stdout"
        }
      ]
    },
    {
      "cell_type": "code",
      "metadata": {
        "id": "EDTz4Ne0AE6C",
        "colab_type": "code",
        "colab": {
          "base_uri": "https://localhost:8080/",
          "height": 490
        },
        "outputId": "ec3a2e0e-cd6f-4cf5-ec4d-019064ea6e58"
      },
      "source": [
        "predictions.show(20)"
      ],
      "execution_count": null,
      "outputs": [
        {
          "output_type": "stream",
          "text": [
            "+--------------------+-------+--------------------+--------------------+----------+\n",
            "|            features|Delayed|       rawPrediction|         probability|prediction|\n",
            "+--------------------+-------+--------------------+--------------------+----------+\n",
            "|(8800,[2031,2067,...|      0|[16.6207135509328...|[0.83103567754664...|       0.0|\n",
            "|(8800,[2031,2067,...|      0|[16.6207135509328...|[0.83103567754664...|       0.0|\n",
            "|(8800,[2031,2067,...|      0|[16.6207135509328...|[0.83103567754664...|       0.0|\n",
            "|(8800,[2031,2067,...|      0|[16.6207135509328...|[0.83103567754664...|       0.0|\n",
            "|(8800,[2031,2067,...|      0|[16.6207135509328...|[0.83103567754664...|       0.0|\n",
            "|(8800,[2031,2067,...|      0|[16.6207135509328...|[0.83103567754664...|       0.0|\n",
            "|(8800,[2031,2067,...|      1|[16.8335297019506...|[0.84167648509753...|       0.0|\n",
            "|(8800,[2031,2067,...|      0|[16.6207135509328...|[0.83103567754664...|       0.0|\n",
            "|(8800,[2031,2067,...|      0|[16.8335297019506...|[0.84167648509753...|       0.0|\n",
            "|(8800,[2031,2067,...|      0|[16.6207135509328...|[0.83103567754664...|       0.0|\n",
            "|(8800,[2031,2067,...|      0|[16.6207135509328...|[0.83103567754664...|       0.0|\n",
            "|(8800,[2031,2067,...|      0|[16.6207135509328...|[0.83103567754664...|       0.0|\n",
            "|(8800,[2031,2067,...|      0|[16.6207135509328...|[0.83103567754664...|       0.0|\n",
            "|(8800,[2031,2067,...|      0|[16.6207135509328...|[0.83103567754664...|       0.0|\n",
            "|(8800,[2031,2067,...|      0|[16.6207135509328...|[0.83103567754664...|       0.0|\n",
            "|(8800,[2031,2067,...|      0|[16.6207135509328...|[0.83103567754664...|       0.0|\n",
            "|(8800,[2031,2067,...|      0|[16.6582310150440...|[0.83291155075220...|       0.0|\n",
            "|(8800,[2031,2067,...|      0|[16.6207135509328...|[0.83103567754664...|       0.0|\n",
            "|(8800,[2031,2067,...|      1|[16.6207135509328...|[0.83103567754664...|       0.0|\n",
            "|(8800,[2031,2067,...|      0|[16.8335297019506...|[0.84167648509753...|       0.0|\n",
            "+--------------------+-------+--------------------+--------------------+----------+\n",
            "only showing top 20 rows\n",
            "\n"
          ],
          "name": "stdout"
        }
      ]
    },
    {
      "cell_type": "code",
      "metadata": {
        "id": "suYqB0egJJrx",
        "colab_type": "code",
        "colab": {
          "base_uri": "https://localhost:8080/",
          "height": 217
        },
        "outputId": "fff01378-fb7b-47f6-d0f3-fc0406e9aab9"
      },
      "source": [
        "split_model_chosen.bestModel.stages"
      ],
      "execution_count": null,
      "outputs": [
        {
          "output_type": "execute_result",
          "data": {
            "text/plain": [
              "[StringIndexer_b36f1bca68bc,\n",
              " StringIndexer_a1aae30c63f8,\n",
              " StringIndexer_39a6755eef66,\n",
              " StringIndexer_194ae689571f,\n",
              " StringIndexer_5fe2f1d68d47,\n",
              " StringIndexer_171a377a806a,\n",
              " StringIndexer_bc6f0aacb318,\n",
              " StringIndexer_80a655cfb327,\n",
              " OneHotEncoderEstimator_6fbc518d8521,\n",
              " VectorAssembler_34ea62172217,\n",
              " RandomForestClassificationModel (uid=RandomForestClassifier_9babf7f7266a) with 20 trees]"
            ]
          },
          "metadata": {
            "tags": []
          },
          "execution_count": 120
        }
      ]
    },
    {
      "cell_type": "code",
      "metadata": {
        "id": "UcmpSlOXOj_i",
        "colab_type": "code",
        "colab": {}
      },
      "source": [
        "# split_model_chosen.bestModel.stages[-1].extractparaMap()"
      ],
      "execution_count": null,
      "outputs": []
    },
    {
      "cell_type": "markdown",
      "metadata": {
        "id": "3dV7ht7B5l8_",
        "colab_type": "text"
      },
      "source": [
        "### Let's have a look\n",
        "\n",
        "We are now ready to compare our predictions with reality. Do these features have any predictive power at all?"
      ]
    },
    {
      "cell_type": "code",
      "metadata": {
        "id": "mfpxyTsf5l9A",
        "colab_type": "code",
        "colab": {}
      },
      "source": [
        "predicted_probs = predictions.select('Delayed', 'probability').toPandas()"
      ],
      "execution_count": null,
      "outputs": []
    },
    {
      "cell_type": "code",
      "metadata": {
        "id": "FBYFdopnAHtX",
        "colab_type": "code",
        "colab": {}
      },
      "source": [
        "y_true = predicted_probs['Delayed']\n",
        "y_prob_predicted = predicted_probs['probability'].map(lambda vector: vector[1])"
      ],
      "execution_count": null,
      "outputs": []
    },
    {
      "cell_type": "code",
      "metadata": {
        "id": "7aciOO70AJMJ",
        "colab_type": "code",
        "colab": {}
      },
      "source": [
        "from sklearn.metrics import roc_curve\n",
        "\n",
        "fpr, tpr, thresholds = roc_curve(y_true, y_prob_predicted)"
      ],
      "execution_count": null,
      "outputs": []
    },
    {
      "cell_type": "code",
      "metadata": {
        "id": "ouR6M2BmAMo1",
        "colab_type": "code",
        "colab": {
          "base_uri": "https://localhost:8080/",
          "height": 283
        },
        "outputId": "be1f7582-d09f-4f2f-8d69-23fd35976b83"
      },
      "source": [
        "import matplotlib.pyplot as plt\n",
        "import numpy as np\n",
        "%matplotlib inline\n",
        "\n",
        "plt.plot(fpr, tpr)\n",
        "plt.plot(np.linspace(0,1, 10), np.linspace(0,1, 10))"
      ],
      "execution_count": null,
      "outputs": [
        {
          "output_type": "execute_result",
          "data": {
            "text/plain": [
              "[<matplotlib.lines.Line2D at 0x7f202cdb8780>]"
            ]
          },
          "metadata": {
            "tags": []
          },
          "execution_count": 130
        },
        {
          "output_type": "display_data",
          "data": {
            "image/png": "[encoded data removed]",
            "text/plain": [
              "<Figure size 432x288 with 1 Axes>"
            ]
          },
          "metadata": {
            "tags": [],
            "needs_background": "light"
          }
        }
      ]
    },
    {
      "cell_type": "code",
      "metadata": {
        "id": "uDhaw3f4QApK",
        "colab_type": "code",
        "colab": {}
      },
      "source": [
        "from pyspark.ml.stat import Correlation"
      ],
      "execution_count": null,
      "outputs": []
    },
    {
      "cell_type": "code",
      "metadata": {
        "id": "CQajXWqBRKMh",
        "colab_type": "code",
        "colab": {}
      },
      "source": [
        "import pandas as pd"
      ],
      "execution_count": null,
      "outputs": []
    },
    {
      "cell_type": "code",
      "metadata": {
        "id": "SAEZyBKbQEfq",
        "colab_type": "code",
        "colab": {}
      },
      "source": [
        "def correlation_matrix(df, corr_columns, method='pearson'):\n",
        "    vector_col = \"corr_features\"\n",
        "    assembler = VectorAssembler(inputCols=continuous_fields, outputCol=vector_col)\n",
        "    df_vector = assembler.transform(df).select(vector_col)\n",
        "    matrix = Correlation.corr(df_vector, vector_col, method)\n",
        "\n",
        "    result = matrix.collect()[0][\"pearson({})\".format(vector_col)].values\n",
        "    return pd.DataFrame(result.reshape(-1, len(corr_columns)), columns=corr_columns, index=corr_columns)\n",
        "    "
      ],
      "execution_count": null,
      "outputs": []
    },
    {
      "cell_type": "code",
      "metadata": {
        "id": "piKQ8TiQRMpt",
        "colab_type": "code",
        "colab": {
          "base_uri": "https://localhost:8080/",
          "height": 108
        },
        "outputId": "a724c74b-bcc4-4ba4-82f0-041ddb8917c6"
      },
      "source": [
        "correlation_matrix(train, continuous_fields)"
      ],
      "execution_count": null,
      "outputs": [
        {
          "output_type": "execute_result",
          "data": {
            "text/html": [
              "<div>\n",
              "<style scoped>\n",
              "    .dataframe tbody tr th:only-of-type {\n",
              "        vertical-align: middle;\n",
              "    }\n",
              "\n",
              "    .dataframe tbody tr th {\n",
              "        vertical-align: top;\n",
              "    }\n",
              "\n",
              "    .dataframe thead th {\n",
              "        text-align: right;\n",
              "    }\n",
              "</style>\n",
              "<table border=\"1\" class=\"dataframe\">\n",
              "  <thead>\n",
              "    <tr style=\"text-align: right;\">\n",
              "      <th></th>\n",
              "      <th>Distance</th>\n",
              "      <th>DepHour</th>\n",
              "    </tr>\n",
              "  </thead>\n",
              "  <tbody>\n",
              "    <tr>\n",
              "      <th>Distance</th>\n",
              "      <td>1.000000</td>\n",
              "      <td>-0.013643</td>\n",
              "    </tr>\n",
              "    <tr>\n",
              "      <th>DepHour</th>\n",
              "      <td>-0.013643</td>\n",
              "      <td>1.000000</td>\n",
              "    </tr>\n",
              "  </tbody>\n",
              "</table>\n",
              "</div>"
            ],
            "text/plain": [
              "          Distance   DepHour\n",
              "Distance  1.000000 -0.013643\n",
              "DepHour  -0.013643  1.000000"
            ]
          },
          "metadata": {
            "tags": []
          },
          "execution_count": 136
        }
      ]
    },
    {
      "cell_type": "code",
      "metadata": {
        "id": "IPHS-qsARdqZ",
        "colab_type": "code",
        "colab": {}
      },
      "source": [
        "# correlation_matrix(train, continuous_fields+[\"DepDelay\",\"Delayed\"])"
      ],
      "execution_count": null,
      "outputs": []
    },
    {
      "cell_type": "markdown",
      "metadata": {
        "id": "QK_kfsPk5l9D",
        "colab_type": "text"
      },
      "source": [
        "Not bad, considering we have not performed any feature engineering at all!"
      ]
    },
    {
      "cell_type": "markdown",
      "metadata": {
        "id": "V121s-yC5l9D",
        "colab_type": "text"
      },
      "source": [
        "### Further Reading\n",
        "\n",
        "https://spark.apache.org/docs/latest/ml-tuning.html\n",
        "\n",
        "https://stackoverflow.com/questions/28569788/how-to-open-stream-zip-files-through-spark"
      ]
    },
    {
      "cell_type": "code",
      "metadata": {
        "id": "CJv6WGoZ5l9D",
        "colab_type": "code",
        "colab": {}
      },
      "source": [
        "# Spark job for the cluster\n",
        "\n",
        "from pyspark.sql import SparkSession, types, functions\n",
        "from pyspark.ml.classification import RandomForestClassifier\n",
        "from pyspark.ml.evaluation import BinaryClassificationEvaluator\n",
        "from pyspark.ml.feature import OneHotEncoder, StringIndexer, VectorAssembler\n",
        "from pyspark.ml.pipeline import Pipeline\n",
        "from pyspark.ml.tuning import TrainValidationSplit, ParamGridBuilder\n",
        "\n",
        "\n",
        "spark = SparkSession.builder.getOrCreate()\n",
        "df = spark.read.csv(csvname, header= True, inferSchema=True)\n",
        "\n",
        "# Preprocessing\n",
        "csvname = 'On_Time_Reporting_Carrier_On_Time_Performance_(1987_present)_2018_12.csv'\n",
        "columns_of_interest = ['Year', 'Month', 'DayofMonth', 'DayOfWeek', 'Reporting_Airline', 'Tail_Number', 'Flight_Number_Reporting_Airline', 'Origin', \n",
        "                       'OriginCityName', 'OriginStateName', 'Dest', 'DestCityName', 'DestStateName',\n",
        "                       'DepTime', 'DepDelay', 'AirTime', 'Distance']\n",
        "\n",
        "\n",
        "# Feature extraction\n",
        "flights = session.read.csv(csvname, header=True, inferSchema=True)\n",
        "flights = flights.select(columns_of_interest)\n",
        "\n",
        "flights = flights.na.drop()\n",
        "flights = flights.withColumn('DepHour', (flights['DepTime'] / 100).cast(types.IntegerType()))\n",
        "flights = flights.withColumn('Delayed', (flights['DepDelay'] > 15).cast(types.IntegerType()))\n",
        "\n",
        "# Train/test split\n",
        "flights_sample, rest = flights.randomSplit([.8, .2])\n",
        "\n",
        "# Build the Pipeline\n",
        "categorical_fields = ['Year', 'Month', 'DayofMonth', 'DayOfWeek', 'Reporting_Airline', \n",
        "                      'Origin', 'OriginCityName', 'OriginStateName', \n",
        "                      'Dest', 'DestCityName', 'DestStateName']\n",
        "\n",
        "string_fields = [field.name for field in flights_sample.schema.fields if field.dataType == types.StringType()]\n",
        "\n",
        "continuous_fields = ['Distance', 'DepHour']\n",
        "\n",
        "target_field = 'Delayed'\n",
        "\n",
        "indexers = [StringIndexer(inputCol=field, outputCol=field + 'Index', handleInvalid='keep') for field in string_fields]\n",
        "non_string_categoricals = [field for field in categorical_fields if field not in string_fields]\n",
        "non_string_categorical_onehotencoders = [OneHotEncoder(inputCol=field, outputCol=field + 'OneHot') for field in non_string_categoricals]\n",
        "string_categorical_onehotencoders = [OneHotEncoder(inputCol=field+'Index', outputCol=field + 'OneHot') for field in string_fields]\n",
        "\n",
        "input_cols_onehotencoded = [field + 'OneHot' for field in categorical_fields]\n",
        "\n",
        "va = VectorAssembler(inputCols= input_cols_onehotencoded + continuous_fields, outputCol='features')\n",
        "\n",
        "rf_classifier = RandomForestClassifier(featuresCol='features', labelCol='Delayed')\n",
        "\n",
        "pipeline = Pipeline(stages=indexers + \n",
        "                    string_categorical_onehotencoders + \n",
        "                    non_string_categorical_onehotencoders + \n",
        "                    [va] + \n",
        "                    [rf_classifier])\n",
        "\n",
        "# Tuning and Training\n",
        "builder = ParamGridBuilder()\n",
        "\n",
        "our_param_map = builder.addGrid(rf_classifier.maxDepth, [5, 15])\\\n",
        "                       .addGrid(rf_classifier.numTrees, [10, 30])\\\n",
        "                       .build()        \n",
        "\n",
        "our_evaluator = BinaryClassificationEvaluator(labelCol='Delayed')\n",
        "\n",
        "split = TrainValidationSplit(estimator=pipeline, \n",
        "                             evaluator=our_evaluator, \n",
        "                             estimatorParamMaps=our_param_map)\n",
        "\n",
        "split_model_chosen = split.fit(flights_sample)\n",
        "predicted = split_model_chosen.transform(rest)\n",
        "predictions = predicted.select('features',\n",
        "                               'Delayed',\n",
        "                               'rawPrediction',\n",
        "                               'probability',\n",
        "                               'prediction')\n",
        "\n",
        "predicted.write.json('out/predicted')\n",
        "split_model_chosen.bestModel.save('out/split_model_chosen')"
      ],
      "execution_count": null,
      "outputs": []
    },
    {
      "cell_type": "code",
      "metadata": {
        "id": "f5c58JbZAU1H",
        "colab_type": "code",
        "colab": {}
      },
      "source": [
        "# Check output\n",
        "predicted_probs = predictions.select('Delayed', 'probability').toPandas()\n",
        "y_true = predicted_probs['Delayed']\n",
        "y_prob_predicted = predicted_probs['probability'].map(lambda vector: vector[1])\n",
        "\n",
        "from sklearn.metrics import roc_curve\n",
        "\n",
        "fpr, tpr, thresholds = roc_curve(y_true, y_prob_predicted)\n",
        "import matplotlib.pyplot as plt\n",
        "import numpy as np\n",
        "%matplotlib inline\n",
        "\n",
        "plt.plot(fpr, tpr)\n",
        "plt.plot(np.linspace(0,1, 10), np.linspace(0,1, 10))"
      ],
      "execution_count": null,
      "outputs": []
    }
  ]
}