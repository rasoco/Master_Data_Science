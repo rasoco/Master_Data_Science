{
  "nbformat": 4,
  "nbformat_minor": 0,
  "metadata": {
    "kernelspec": {
      "display_name": "Python 3",
      "language": "python",
      "name": "python3"
    },
    "language_info": {
      "codemirror_mode": {
        "name": "ipython",
        "version": 3
      },
      "file_extension": ".py",
      "mimetype": "text/x-python",
      "name": "python",
      "nbconvert_exporter": "python",
      "pygments_lexer": "ipython3",
      "version": "3.7.7"
    },
    "colab": {
      "name": "Big Data de 03-porting-to-spark.workingme.ipynb",
      "provenance": [],
      "collapsed_sections": [],
      "include_colab_link": true
    }
  },
  "cells": [
    {
      "cell_type": "markdown",
      "metadata": {
        "id": "view-in-github",
        "colab_type": "text"
      },
      "source": [
        "<a href=\"https://colab.research.google.com/github/rasoco/master_data_science/blob/master/Big%20Data/Clase%203/%20Big_Data_de_03_porting_to_spark_workingme.ipynb\" target=\"_parent\"><img src=\"https://colab.research.google.com/assets/colab-badge.svg\" alt=\"Open In Colab\"/></a>"
      ]
    },
    {
      "cell_type": "markdown",
      "metadata": {
        "id": "E16WXBp8DcL9",
        "colab_type": "text"
      },
      "source": [
        "# Porting an analysis from local to distributed\n",
        "\n",
        "<a href = \"http://yogen.io\"><img src=\"http://yogen.io/assets/logo.svg\" alt=\"yogen\" style=\"width: 200px; float: right;\"/></a>"
      ]
    },
    {
      "cell_type": "markdown",
      "metadata": {
        "id": "Npiq5x5dDcL_",
        "colab_type": "text"
      },
      "source": [
        "Now comes the opportunity to put in practice what we have just learned!"
      ]
    },
    {
      "cell_type": "markdown",
      "metadata": {
        "id": "7YK3VEf3DcL_",
        "colab_type": "text"
      },
      "source": [
        "### If you are running this notebook in Google Colab\n",
        "\n",
        "Copy the following to a code cell and run it. It will install and set up Spark for you.\n",
        "\n",
        "```python\n",
        "!apt-get install openjdk-8-jdk-headless -qq > /dev/null\n",
        "!wget -q http://apache.uvigo.es/spark/spark-2.4.6/spark-2.4.6-bin-hadoop2.7.tgz\n",
        "!tar -xf spark-2.4.6-bin-hadoop2.7.tgz\n",
        "!pip install -q findspark\n",
        "\n",
        "import os\n",
        "import findspark\n",
        "from pyspark.sql import SparkSession\n",
        "\n",
        "os.environ[\"JAVA_HOME\"] = \"/usr/lib/jvm/java-8-openjdk-amd64\"\n",
        "os.environ[\"SPARK_HOME\"] = \"/content/spark-2.4.6-bin-hadoop2.7\"\n",
        "findspark.init()\n",
        "spark = SparkSession.builder.master(\"local[*]\").getOrCreate()\n",
        "```"
      ]
    },
    {
      "cell_type": "code",
      "metadata": {
        "id": "SDYManTqDcMA",
        "colab_type": "code",
        "colab": {}
      },
      "source": [
        "!apt-get install openjdk-8-jdk-headless -qq > /dev/null\n",
        "!wget -q http://apache.uvigo.es/spark/spark-2.4.6/spark-2.4.6-bin-hadoop2.7.tgz\n",
        "!tar -xf spark-2.4.6-bin-hadoop2.7.tgz\n",
        "!pip install -q findspark pyspark==2.4.6\n",
        " \n",
        "import os\n",
        "import findspark\n",
        "from pyspark.sql import SparkSession\n",
        " \n",
        "os.environ[\"JAVA_HOME\"] = \"/usr/lib/jvm/java-8-openjdk-amd64\"\n",
        "os.environ[\"SPARK_HOME\"] = \"/content/spark-2.4.6-bin-hadoop2.7\"\n",
        "findspark.init()\n",
        "spark = SparkSession.builder.master(\"local[*]\").getOrCreate()"
      ],
      "execution_count": null,
      "outputs": []
    },
    {
      "cell_type": "markdown",
      "metadata": {
        "id": "rrU4krkbDcMF",
        "colab_type": "text"
      },
      "source": [
        "# Guided exercise\n",
        "\n",
        "Recreate the boxplot we did in the pandas section, in Spark!\n",
        "\n",
        "Since matplotlib boxplot needs all the data and that would be unfeasible with Big Data, we will calculate the quartiles ourselves.\n",
        "\n",
        "Once the analysis is ported, we will be able to run it on the whole historical series! You can find it at https://transtats.bts.gov (On time performance reporting carrier)."
      ]
    },
    {
      "cell_type": "markdown",
      "metadata": {
        "id": "E-u9_kClDcMF",
        "colab_type": "text"
      },
      "source": [
        "##  Workflow\n",
        "\n",
        "The basic idea is the same that we applied in the Amadeus Challenge:\n",
        "\n",
        "* Build prototype with small data: in this section, we will be using `06-intro_to_pandas_practical.ipynb` as our already made prototype\n",
        "\n",
        "* Modify your prototype so that it works with Big Data: In this case, it means porting it to Spark\n",
        "\n",
        "* Test your \"Big Data\" prototype with small data: We will first test it with a sample locally, then upload it to a cluster and test it with Big Data. \n",
        "\n",
        "    * You can run your analyses building your own cluster and storage bucket in Google Cloud Storage. More in notebook #4!\n",
        "\n",
        "* Run your prototype with Big Data.\n",
        "\n",
        "    \n"
      ]
    },
    {
      "cell_type": "markdown",
      "metadata": {
        "id": "S1xl70jGE-an",
        "colab_type": "text"
      },
      "source": [
        "1. Desarrollo prototipo\n",
        "2. Modifico el prototipo \n",
        "3. Pruebo con el conjuto completo de los datos\n",
        "\n",
        "\n"
      ]
    },
    {
      "cell_type": "markdown",
      "metadata": {
        "id": "dw3UcCGtGbIP",
        "colab_type": "text"
      },
      "source": [
        "## Conecting with drive"
      ]
    },
    {
      "cell_type": "code",
      "metadata": {
        "id": "IRSXkO29FvvK",
        "colab_type": "code",
        "colab": {
          "base_uri": "https://localhost:8080/",
          "height": 122
        },
        "outputId": "d00722b0-af7c-4687-920e-d2e5eeb561e1"
      },
      "source": [
        "from google.colab import drive\n",
        "drive.mount('/content/drive')"
      ],
      "execution_count": null,
      "outputs": [
        {
          "output_type": "stream",
          "text": [
            "Go to this URL in a browser: https://accounts.google.com/o/oauth2/auth?client_id=947318989803-6bn6qk8qdgf4n4g3pfee6491hc0brc4i.apps.googleusercontent.com&redirect_uri=urn%3aietf%3awg%3aoauth%3a2.0%3aoob&response_type=code&scope=email%20https%3a%2f%2fwww.googleapis.com%2fauth%2fdocs.test%20https%3a%2f%2fwww.googleapis.com%2fauth%2fdrive%20https%3a%2f%2fwww.googleapis.com%2fauth%2fdrive.photos.readonly%20https%3a%2f%2fwww.googleapis.com%2fauth%2fpeopleapi.readonly\n",
            "\n",
            "Enter your authorization code:\n",
            "··········\n",
            "Mounted at /content/drive\n"
          ],
          "name": "stdout"
        }
      ]
    },
    {
      "cell_type": "markdown",
      "metadata": {
        "id": "NRC6Q2VfDcMG",
        "colab_type": "text"
      },
      "source": [
        "## Modify the prototype so that it works with Big Data"
      ]
    },
    {
      "cell_type": "markdown",
      "metadata": {
        "id": "KFbOasakDcMK",
        "colab_type": "text"
      },
      "source": [
        "## Read csv\n",
        "\n",
        "We'll use the `SparkSession.read.csv` method."
      ]
    },
    {
      "cell_type": "code",
      "metadata": {
        "id": "bNVFCO6EDcMH",
        "colab_type": "code",
        "colab": {}
      },
      "source": [
        "df = spark.read.csv('/content/drive/My Drive/BigData Spark/Clase 1/On_Time_Reporting_Carrier_On_Time_Performance_(1987_present)_2018_12.csv.gz', header=True, inferSchema=True)"
      ],
      "execution_count": null,
      "outputs": []
    },
    {
      "cell_type": "code",
      "metadata": {
        "id": "JqKCVAApGhIf",
        "colab_type": "code",
        "colab": {
          "base_uri": "https://localhost:8080/",
          "height": 54
        },
        "outputId": "18291d12-141c-41a3-b39f-e7c6cbdde53a"
      },
      "source": [
        "df"
      ],
      "execution_count": null,
      "outputs": [
        {
          "output_type": "execute_result",
          "data": {
            "text/plain": [
              "DataFrame[Year: int, Quarter: int, Month: int, DayofMonth: int, DayOfWeek: int, FlightDate: timestamp, Reporting_Airline: string, DOT_ID_Reporting_Airline: int, IATA_CODE_Reporting_Airline: string, Tail_Number: string, Flight_Number_Reporting_Airline: int, OriginAirportID: int, OriginAirportSeqID: int, OriginCityMarketID: int, Origin: string, OriginCityName: string, OriginState: string, OriginStateFips: int, OriginStateName: string, OriginWac: int, DestAirportID: int, DestAirportSeqID: int, DestCityMarketID: int, Dest: string, DestCityName: string, DestState: string, DestStateFips: int, DestStateName: string, DestWac: int, CRSDepTime: int, DepTime: int, DepDelay: double, DepDelayMinutes: double, DepDel15: double, DepartureDelayGroups: int, DepTimeBlk: string, TaxiOut: double, WheelsOff: int, WheelsOn: int, TaxiIn: double, CRSArrTime: int, ArrTime: int, ArrDelay: double, ArrDelayMinutes: double, ArrDel15: double, ArrivalDelayGroups: int, ArrTimeBlk: string, Cancelled: double, CancellationCode: string, Diverted: double, CRSElapsedTime: double, ActualElapsedTime: double, AirTime: double, Flights: double, Distance: double, DistanceGroup: int, CarrierDelay: double, WeatherDelay: double, NASDelay: double, SecurityDelay: double, LateAircraftDelay: double, FirstDepTime: int, TotalAddGTime: double, LongestAddGTime: double, DivAirportLandings: int, DivReachedDest: double, DivActualElapsedTime: double, DivArrDelay: double, DivDistance: double, Div1Airport: string, Div1AirportID: int, Div1AirportSeqID: int, Div1WheelsOn: int, Div1TotalGTime: double, Div1LongestGTime: double, Div1WheelsOff: int, Div1TailNum: string, Div2Airport: string, Div2AirportID: int, Div2AirportSeqID: int, Div2WheelsOn: int, Div2TotalGTime: double, Div2LongestGTime: double, Div2WheelsOff: int, Div2TailNum: string, Div3Airport: string, Div3AirportID: string, Div3AirportSeqID: string, Div3WheelsOn: string, Div3TotalGTime: string, Div3LongestGTime: string, Div3WheelsOff: string, Div3TailNum: string, Div4Airport: string, Div4AirportID: string, Div4AirportSeqID: string, Div4WheelsOn: string, Div4TotalGTime: string, Div4LongestGTime: string, Div4WheelsOff: string, Div4TailNum: string, Div5Airport: string, Div5AirportID: string, Div5AirportSeqID: string, Div5WheelsOn: string, Div5TotalGTime: string, Div5LongestGTime: string, Div5WheelsOff: string, Div5TailNum: string, _c109: string]"
            ]
          },
          "metadata": {
            "tags": []
          },
          "execution_count": 5
        }
      ]
    },
    {
      "cell_type": "code",
      "metadata": {
        "id": "vzFyvGpASaDS",
        "colab_type": "code",
        "colab": {
          "base_uri": "https://localhost:8080/",
          "height": 34
        },
        "outputId": "e090f88b-7232-4564-c8bb-be0516fbfe23"
      },
      "source": [
        "df.count()"
      ],
      "execution_count": null,
      "outputs": [
        {
          "output_type": "execute_result",
          "data": {
            "text/plain": [
              "593842"
            ]
          },
          "metadata": {
            "tags": []
          },
          "execution_count": 28
        }
      ]
    },
    {
      "cell_type": "markdown",
      "metadata": {
        "id": "6aa1IFG7DcMS",
        "colab_type": "text"
      },
      "source": [
        "## Select relevant columns\n",
        "\n",
        "Literally the same syntax as Pandas!\n",
        "\n",
        "```python\n",
        "df = df.select(['FlightDate', 'DayOfWeek', 'Reporting_Airline', 'Tail_Number', 'Flight_Number_Reporting_Airline', 'Origin', \n",
        "                'OriginCityName', 'OriginStateName', 'Dest', 'DestCityName', 'DestStateName',\n",
        "                'DepTime', 'DepDelay', 'AirTime', 'Distance'])\n",
        "\n",
        "df\n",
        "```"
      ]
    },
    {
      "cell_type": "code",
      "metadata": {
        "scrolled": false,
        "id": "kCX5HgcqDcMT",
        "colab_type": "code",
        "colab": {
          "base_uri": "https://localhost:8080/",
          "height": 54
        },
        "outputId": "019de358-9100-4c21-de4c-de4496b14dca"
      },
      "source": [
        "df = df.select(['FlightDate', 'DayOfWeek', 'Reporting_Airline', 'Tail_Number', 'Flight_Number_Reporting_Airline', 'Origin', \n",
        "                'OriginCityName', 'OriginStateName', 'Dest', 'DestCityName', 'DestStateName',\n",
        "                'DepTime', 'DepDelay', 'AirTime', 'Distance'])\n",
        " \n",
        "df"
      ],
      "execution_count": null,
      "outputs": [
        {
          "output_type": "execute_result",
          "data": {
            "text/plain": [
              "DataFrame[FlightDate: timestamp, DayOfWeek: int, Reporting_Airline: string, Tail_Number: string, Flight_Number_Reporting_Airline: int, Origin: string, OriginCityName: string, OriginStateName: string, Dest: string, DestCityName: string, DestStateName: string, DepTime: int, DepDelay: double, AirTime: double, Distance: double]"
            ]
          },
          "metadata": {
            "tags": []
          },
          "execution_count": 6
        }
      ]
    },
    {
      "cell_type": "markdown",
      "metadata": {
        "id": "-Yg2eigODcMX",
        "colab_type": "text"
      },
      "source": [
        "### Extract \"Hour\" variable\n",
        "\n",
        "The DepTimes have been inferred to be floats. We need them as ints, representing each o fthe 24 hours in a day."
      ]
    },
    {
      "cell_type": "code",
      "metadata": {
        "id": "xHaDSdRuDcMX",
        "colab_type": "code",
        "colab": {
          "base_uri": "https://localhost:8080/",
          "height": 289
        },
        "outputId": "614f5e72-b67b-421b-ed99-0d371b2d0692"
      },
      "source": [
        "df.select(df['DepTime']).show(10) #infiere como entero porque esta escrito con formato entero"
      ],
      "execution_count": null,
      "outputs": [
        {
          "output_type": "stream",
          "text": [
            "+-------+\n",
            "|DepTime|\n",
            "+-------+\n",
            "|   1048|\n",
            "|    638|\n",
            "|   1710|\n",
            "|   1318|\n",
            "|    953|\n",
            "|   1646|\n",
            "|   1813|\n",
            "|   1450|\n",
            "|    953|\n",
            "|   1219|\n",
            "+-------+\n",
            "only showing top 10 rows\n",
            "\n"
          ],
          "name": "stdout"
        }
      ]
    },
    {
      "cell_type": "markdown",
      "metadata": {
        "id": "5neF1Mg4JrGj",
        "colab_type": "text"
      },
      "source": [
        "Variable discreta la hora"
      ]
    },
    {
      "cell_type": "code",
      "metadata": {
        "id": "gEyGTlriJqi2",
        "colab_type": "code",
        "colab": {
          "base_uri": "https://localhost:8080/",
          "height": 207
        },
        "outputId": "3d7ba2b1-5c84-49f2-9e54-8bba4c6ca68a"
      },
      "source": [
        "from pyspark.sql import types #importar la libreria types\n",
        "# (df['DepTime'] / 100) #esto es float \n",
        "df2 = df.withColumn('Hour', (df['DepTime'] / 100).cast(types.IntegerType())) #lo convierto como entero\n",
        "df2.show(4)\n"
      ],
      "execution_count": null,
      "outputs": [
        {
          "output_type": "stream",
          "text": [
            "+-------------------+---------+-----------------+-----------+-------------------------------+------+--------------+---------------+----+------------+-------------+-------+--------+-------+--------+----+\n",
            "|         FlightDate|DayOfWeek|Reporting_Airline|Tail_Number|Flight_Number_Reporting_Airline|Origin|OriginCityName|OriginStateName|Dest|DestCityName|DestStateName|DepTime|DepDelay|AirTime|Distance|Hour|\n",
            "+-------------------+---------+-----------------+-----------+-------------------------------+------+--------------+---------------+----+------------+-------------+-------+--------+-------+--------+----+\n",
            "|2018-12-25 00:00:00|        2|               WN|     N566WN|                           1823|   OAK|   Oakland, CA|     California| GEG| Spokane, WA|   Washington|   1048|    18.0|  111.0|   723.0|  10|\n",
            "|2018-12-25 00:00:00|        2|               WN|     N562WN|                            982|   OAK|   Oakland, CA|     California| HOU| Houston, TX|        Texas|    638|    -2.0|  204.0|  1642.0|   6|\n",
            "|2018-12-25 00:00:00|        2|               WN|     N8611F|                           1562|   OAK|   Oakland, CA|     California| HOU| Houston, TX|        Texas|   1710|     0.0|  207.0|  1642.0|  17|\n",
            "|2018-12-25 00:00:00|        2|               WN|     N7721E|                           1687|   OAK|   Oakland, CA|     California| HOU| Houston, TX|        Texas|   1318|    -2.0|  204.0|  1642.0|  13|\n",
            "+-------------------+---------+-----------------+-----------+-------------------------------+------+--------------+---------------+----+------------+-------------+-------+--------+-------+--------+----+\n",
            "only showing top 4 rows\n",
            "\n"
          ],
          "name": "stdout"
        }
      ]
    },
    {
      "cell_type": "markdown",
      "metadata": {
        "id": "sjgT_M_XDcMb",
        "colab_type": "text"
      },
      "source": [
        "## Generate the relative distributions\n",
        "\n",
        "In order to be able to handle the data, we need to reduce its dimensionality. Since we want to describe a discrete distribution, we can just count how many values of each level of the 'DepDelay' variable we find for each hour (24 different discrete distributions). We also want the totals in order to do the relative distribution."
      ]
    },
    {
      "cell_type": "markdown",
      "metadata": {
        "id": "Bd4hgHf0THoQ",
        "colab_type": "text"
      },
      "source": [
        "1. Primero saco los totales de Horas con un groupby\n",
        "2. Segundo saco los totales de Retraso con un groupby\n",
        "3. Tercero hacemos un join"
      ]
    },
    {
      "cell_type": "markdown",
      "metadata": {
        "id": "M6a4NtBzDcMd",
        "colab_type": "text"
      },
      "source": [
        "### Totals"
      ]
    },
    {
      "cell_type": "code",
      "metadata": {
        "id": "9fH1C0WHDcMd",
        "colab_type": "code",
        "colab": {
          "base_uri": "https://localhost:8080/",
          "height": 204
        },
        "outputId": "a1cb1adc-a8ff-437f-9c1b-d70306887751"
      },
      "source": [
        "totals_per_hour = df2.groupBy('Hour').count()\n",
        "totals_per_hour.show(5) #DepDelay esta en minutos"
      ],
      "execution_count": null,
      "outputs": [
        {
          "output_type": "stream",
          "text": [
            "+----+-----+\n",
            "|Hour|count|\n",
            "+----+-----+\n",
            "|  12|36925|\n",
            "|  22|15646|\n",
            "|null| 6526|\n",
            "|   1|  846|\n",
            "|  13|33163|\n",
            "+----+-----+\n",
            "only showing top 5 rows\n",
            "\n"
          ],
          "name": "stdout"
        }
      ]
    },
    {
      "cell_type": "code",
      "metadata": {
        "id": "q5kloycaRxI6",
        "colab_type": "code",
        "colab": {
          "base_uri": "https://localhost:8080/",
          "height": 34
        },
        "outputId": "405cf067-2bef-4175-fde4-80809fbabd8b"
      },
      "source": [
        "totals_per_hour.count()"
      ],
      "execution_count": null,
      "outputs": [
        {
          "output_type": "execute_result",
          "data": {
            "text/plain": [
              "26"
            ]
          },
          "metadata": {
            "tags": []
          },
          "execution_count": 35
        }
      ]
    },
    {
      "cell_type": "markdown",
      "metadata": {
        "id": "FJJ7qSXtDcMg",
        "colab_type": "text"
      },
      "source": [
        "### Distributions"
      ]
    },
    {
      "cell_type": "code",
      "metadata": {
        "id": "drS_e_2JDcMh",
        "colab_type": "code",
        "colab": {
          "base_uri": "https://localhost:8080/",
          "height": 204
        },
        "outputId": "8d8e09ae-62b0-4689-f4ee-83d3a9a5ef14"
      },
      "source": [
        "totals_per_delay_hour = df2.groupBy('DepDelay', 'Hour').count()\n",
        "totals_per_delay_hour.show(5)"
      ],
      "execution_count": null,
      "outputs": [
        {
          "output_type": "stream",
          "text": [
            "+--------+----+-----+\n",
            "|DepDelay|Hour|count|\n",
            "+--------+----+-----+\n",
            "|     4.0|   8|  478|\n",
            "|    10.0|  22|  177|\n",
            "|   179.0|  15|    7|\n",
            "|    25.0|   7|   75|\n",
            "|    38.0|  18|  115|\n",
            "+--------+----+-----+\n",
            "only showing top 5 rows\n",
            "\n"
          ],
          "name": "stdout"
        }
      ]
    },
    {
      "cell_type": "code",
      "metadata": {
        "id": "gExEDMnwRhas",
        "colab_type": "code",
        "colab": {
          "base_uri": "https://localhost:8080/",
          "height": 34
        },
        "outputId": "7dbaa22e-af3a-46c2-ebe1-351f7617c497"
      },
      "source": [
        "totals_per_delay_hour.count()"
      ],
      "execution_count": null,
      "outputs": [
        {
          "output_type": "execute_result",
          "data": {
            "text/plain": [
              "7361"
            ]
          },
          "metadata": {
            "tags": []
          },
          "execution_count": 37
        }
      ]
    },
    {
      "cell_type": "markdown",
      "metadata": {
        "id": "-QELQixPDcMl",
        "colab_type": "text"
      },
      "source": [
        "Now we join both and calculate what fraction of the total for each hour each level of DepDelay represents."
      ]
    },
    {
      "cell_type": "code",
      "metadata": {
        "id": "_ddXUlmMDcMl",
        "colab_type": "code",
        "colab": {
          "base_uri": "https://localhost:8080/",
          "height": 459
        },
        "outputId": "ade2ee86-6f15-41a4-b39d-c00c4e612ef0"
      },
      "source": [
        "joined = totals_per_delay_hour.join(totals_per_hour, on='Hour')\n",
        "joined.show()"
      ],
      "execution_count": null,
      "outputs": [
        {
          "output_type": "stream",
          "text": [
            "+----+--------+-----+-----+\n",
            "|Hour|DepDelay|count|count|\n",
            "+----+--------+-----+-----+\n",
            "|   8|     4.0|  478|36357|\n",
            "|  22|    10.0|  177|15646|\n",
            "|  15|   179.0|    7|35691|\n",
            "|   7|    25.0|   75|35336|\n",
            "|  18|    38.0|  115|33335|\n",
            "|  17|    60.0|   53|36591|\n",
            "|   7|    62.0|   14|35336|\n",
            "|  16|   108.0|   16|34761|\n",
            "|  22|   230.0|    1|15646|\n",
            "|   9|   -14.0|  144|34355|\n",
            "|   4|   -10.0|   51| 1374|\n",
            "|  11|   177.0|    3|36740|\n",
            "|   0|   -18.0|    3| 2283|\n",
            "|  14|   172.0|    5|34619|\n",
            "|   2|    82.0|    1|  276|\n",
            "|  17|   184.0|    8|36591|\n",
            "|   3|   157.0|    1|  200|\n",
            "|   3|   -12.0|    5|  200|\n",
            "|  21|   281.0|    2|19028|\n",
            "|  23|   154.0|    4| 5835|\n",
            "+----+--------+-----+-----+\n",
            "only showing top 20 rows\n",
            "\n"
          ],
          "name": "stdout"
        }
      ]
    },
    {
      "cell_type": "code",
      "metadata": {
        "id": "mxLUcqhpTpBS",
        "colab_type": "code",
        "colab": {}
      },
      "source": [
        "# relative_freq = joined.select('Hour',\n",
        "#                               'DepDelay',\n",
        "#                               totals_per_delay_hour['count'] / totals_per_hour['count']) #Para indicarle que count quieres\n",
        "# relative_freq\n"
      ],
      "execution_count": null,
      "outputs": []
    },
    {
      "cell_type": "code",
      "metadata": {
        "id": "ZnoeynPqUSFR",
        "colab_type": "code",
        "colab": {}
      },
      "source": [
        "relative_freq = joined.select('Hour',\n",
        "                              'DepDelay',\n",
        "                             (totals_per_delay_hour['count'] / totals_per_hour['count']).alias('relative_freq')).cache() #recordar que el cache es para que no sea aleatorio"
      ],
      "execution_count": null,
      "outputs": []
    },
    {
      "cell_type": "code",
      "metadata": {
        "id": "__m5oI8uUfsA",
        "colab_type": "code",
        "colab": {
          "base_uri": "https://localhost:8080/",
          "height": 289
        },
        "outputId": "6c2e0865-5835-45ca-820a-e05bbb91c2e9"
      },
      "source": [
        "relative_freq.show(10)"
      ],
      "execution_count": null,
      "outputs": [
        {
          "output_type": "stream",
          "text": [
            "+----+--------+--------------------+\n",
            "|Hour|DepDelay|       relative_freq|\n",
            "+----+--------+--------------------+\n",
            "|   8|     4.0|0.013147399400390572|\n",
            "|  22|    10.0|0.011312795602709957|\n",
            "|  15|   179.0|1.961278753747443...|\n",
            "|   7|    25.0|0.002122481322164365|\n",
            "|  18|    38.0|0.003449827508624...|\n",
            "|  17|    60.0|0.001448443606351...|\n",
            "|   7|    62.0|3.961965134706815E-4|\n",
            "|  16|   108.0|4.602859526480826E-4|\n",
            "|  22|   230.0|6.391409945033875E-5|\n",
            "|   9|   -14.0|0.004191529617231844|\n",
            "+----+--------+--------------------+\n",
            "only showing top 10 rows\n",
            "\n"
          ],
          "name": "stdout"
        }
      ]
    },
    {
      "cell_type": "markdown",
      "metadata": {
        "id": "g3HhuLGcUmwT",
        "colab_type": "text"
      },
      "source": [
        "De los vuelos que salen a 16, un 0'0004 % sale con un 108 minutos de retraso"
      ]
    },
    {
      "cell_type": "markdown",
      "metadata": {
        "id": "12-q3nkPdULP",
        "colab_type": "text"
      },
      "source": [
        "Tenemos que explicar a Spark cual es el tipo de retorno de tuples, si no le explica no sabe explicarlo. \n",
        "Esto es un tupla de dos elementos, primero es un doble y el segundo también. Tipado dinamico (Python) esto puedo parece chorrada\n",
        "Tipado estatico que hay por debajo (Java)\n",
        "returnType=types.StructType significa que es una tupla de dos elementos"
      ]
    },
    {
      "cell_type": "code",
      "metadata": {
        "id": "aBkq203ZX5mF",
        "colab_type": "code",
        "colab": {
          "base_uri": "https://localhost:8080/",
          "height": 459
        },
        "outputId": "7000d7fa-011d-4f74-9ef0-db887ff4506d"
      },
      "source": [
        "# from pyspark.sql import types, functions \n",
        "\n",
        "# def tupleize(a,b): return a, b # me devuelve una tupla de python\n",
        "\n",
        "# tupleize_udf = functions.udf(tupleize)\n",
        "\n",
        "# relative_freq.withColumn('tuples', tupleize_udf('DepDelay', 'relative_freq')).show()\n",
        "\n",
        "#Tenemos que explicar a Spark cual es el tipo de retorno de tuples, si no le explica no sabe explicarlo. \n",
        "# Esto es un tupla de dos elementos, primero es un doble y el segundo también. Tipado dinamico (Python) esto puedo parece chorrada\n",
        "# Tipado estatico que hay por debajo (Java)\n",
        "# returnType=types.StructType significa que es una tupla de dos elementos"
      ],
      "execution_count": null,
      "outputs": [
        {
          "output_type": "stream",
          "text": [
            "+----+--------+--------------------+--------------------+\n",
            "|Hour|DepDelay|       relative_freq|              tuples|\n",
            "+----+--------+--------------------+--------------------+\n",
            "|   8|     4.0|0.013147399400390572|[Ljava.lang.Objec...|\n",
            "|  22|    10.0|0.011312795602709957|[Ljava.lang.Objec...|\n",
            "|  15|   179.0|1.961278753747443...|[Ljava.lang.Objec...|\n",
            "|   7|    25.0|0.002122481322164365|[Ljava.lang.Objec...|\n",
            "|  18|    38.0|0.003449827508624...|[Ljava.lang.Objec...|\n",
            "|  17|    60.0|0.001448443606351...|[Ljava.lang.Objec...|\n",
            "|   7|    62.0|3.961965134706815E-4|[Ljava.lang.Objec...|\n",
            "|  16|   108.0|4.602859526480826E-4|[Ljava.lang.Objec...|\n",
            "|  22|   230.0|6.391409945033875E-5|[Ljava.lang.Objec...|\n",
            "|   9|   -14.0|0.004191529617231844|[Ljava.lang.Objec...|\n",
            "|   4|   -10.0| 0.03711790393013101|[Ljava.lang.Objec...|\n",
            "|  11|   177.0|8.165487207403376E-5|[Ljava.lang.Objec...|\n",
            "|   0|   -18.0|0.001314060446780552|[Ljava.lang.Objec...|\n",
            "|  14|   172.0|1.444293596002195...|[Ljava.lang.Objec...|\n",
            "|   2|    82.0|0.003623188405797...|[Ljava.lang.Objec...|\n",
            "|  17|   184.0|2.186329971851001...|[Ljava.lang.Objec...|\n",
            "|   3|   157.0|               0.005|[Ljava.lang.Objec...|\n",
            "|   3|   -12.0|               0.025|[Ljava.lang.Objec...|\n",
            "|  21|   281.0|1.051082615093546...|[Ljava.lang.Objec...|\n",
            "|  23|   154.0|6.855184233076263E-4|[Ljava.lang.Objec...|\n",
            "+----+--------+--------------------+--------------------+\n",
            "only showing top 20 rows\n",
            "\n"
          ],
          "name": "stdout"
        }
      ]
    },
    {
      "cell_type": "markdown",
      "metadata": {
        "id": "cIosSEtydZtf",
        "colab_type": "text"
      },
      "source": [
        "Aquí le explicamos a Java que es una tupla. UserDefinedFuncionts(udf)"
      ]
    },
    {
      "cell_type": "code",
      "metadata": {
        "id": "ZdvnRhZvaQ73",
        "colab_type": "code",
        "colab": {
          "base_uri": "https://localhost:8080/",
          "height": 595
        },
        "outputId": "d302d5c6-3aff-4e7c-92a7-a71b02c92bdb"
      },
      "source": [
        "from pyspark.sql import types, functions \n",
        "\n",
        "def tupleize(a,b): return a, b\n",
        "\n",
        "tupleize_udf = functions.udf(tupleize, returnType=types.StructType([types.StructField('a', types.DoubleType()),\n",
        "                                                                    types.StructField('b', types.DoubleType() )]))\n",
        "\n",
        "tupled = relative_freq.withColumn('tuples', tupleize_udf('DepDelay', 'relative_freq'))\n",
        "tupled.printSchema()\n",
        "tupled.show()"
      ],
      "execution_count": null,
      "outputs": [
        {
          "output_type": "stream",
          "text": [
            "root\n",
            " |-- Hour: integer (nullable = true)\n",
            " |-- DepDelay: double (nullable = true)\n",
            " |-- relative_freq: double (nullable = true)\n",
            " |-- tuples: struct (nullable = true)\n",
            " |    |-- a: double (nullable = true)\n",
            " |    |-- b: double (nullable = true)\n",
            "\n",
            "+----+--------+--------------------+--------------------+\n",
            "|Hour|DepDelay|       relative_freq|              tuples|\n",
            "+----+--------+--------------------+--------------------+\n",
            "|   8|     4.0|0.013147399400390572|[4.0, 0.013147399...|\n",
            "|  22|    10.0|0.011312795602709957|[10.0, 0.01131279...|\n",
            "|  15|   179.0|1.961278753747443...|[179.0, 1.9612787...|\n",
            "|   7|    25.0|0.002122481322164365|[25.0, 0.00212248...|\n",
            "|  18|    38.0|0.003449827508624...|[38.0, 0.00344982...|\n",
            "|  17|    60.0|0.001448443606351...|[60.0, 0.00144844...|\n",
            "|   7|    62.0|3.961965134706815E-4|[62.0, 3.96196513...|\n",
            "|  16|   108.0|4.602859526480826E-4|[108.0, 4.6028595...|\n",
            "|  22|   230.0|6.391409945033875E-5|[230.0, 6.3914099...|\n",
            "|   9|   -14.0|0.004191529617231844|[-14.0, 0.0041915...|\n",
            "|   4|   -10.0| 0.03711790393013101|[-10.0, 0.0371179...|\n",
            "|  11|   177.0|8.165487207403376E-5|[177.0, 8.1654872...|\n",
            "|   0|   -18.0|0.001314060446780552|[-18.0, 0.0013140...|\n",
            "|  14|   172.0|1.444293596002195...|[172.0, 1.4442935...|\n",
            "|   2|    82.0|0.003623188405797...|[82.0, 0.00362318...|\n",
            "|  17|   184.0|2.186329971851001...|[184.0, 2.1863299...|\n",
            "|   3|   157.0|               0.005|      [157.0, 0.005]|\n",
            "|   3|   -12.0|               0.025|      [-12.0, 0.025]|\n",
            "|  21|   281.0|1.051082615093546...|[281.0, 1.0510826...|\n",
            "|  23|   154.0|6.855184233076263E-4|[154.0, 6.8551842...|\n",
            "+----+--------+--------------------+--------------------+\n",
            "only showing top 20 rows\n",
            "\n"
          ],
          "name": "stdout"
        }
      ]
    },
    {
      "cell_type": "code",
      "metadata": {
        "id": "Pj3iKC_9cGpN",
        "colab_type": "code",
        "colab": {
          "base_uri": "https://localhost:8080/",
          "height": 459
        },
        "outputId": "6e73cc04-f141-4d96-a2f2-1d3449f0d4cc"
      },
      "source": [
        "distributions = tupled.groupby('Hour').agg(functions.collect_list('tuples')) \n",
        "#functions collect_list: empalmar las tuplas en forma de listas\n",
        "distributions.show()\n",
        "# Representa la coleccion de la hora 12, depdelay y el porcentaje de retraso\n",
        "# los vuelos de 1 am, los que han salido con 87 minutos con retraso representa 0.03%"
      ],
      "execution_count": null,
      "outputs": [
        {
          "output_type": "stream",
          "text": [
            "+----+--------------------+\n",
            "|Hour|collect_list(tuples)|\n",
            "+----+--------------------+\n",
            "|  12|[[313.0, 2.708192...|\n",
            "|  22|[[10.0, 0.0113127...|\n",
            "|   1|[[87.0, 0.0035460...|\n",
            "|  13|[[77.0, 9.0462262...|\n",
            "|  16|[[108.0, 4.602859...|\n",
            "|   6|[[740.0, 2.673939...|\n",
            "|   3|[[157.0, 0.005], ...|\n",
            "|  20|[[206.0, 7.053678...|\n",
            "|   5|[[43.0, 1.3276098...|\n",
            "|  19|[[287.0, 3.229348...|\n",
            "|  15|[[179.0, 1.961278...|\n",
            "|  17|[[60.0, 0.0014484...|\n",
            "|   9|[[-14.0, 0.004191...|\n",
            "|   4|[[-10.0, 0.037117...|\n",
            "|   8|[[4.0, 0.01314739...|\n",
            "|  23|[[154.0, 6.855184...|\n",
            "|   7|[[25.0, 0.0021224...|\n",
            "|  10|[[202.0, 8.670520...|\n",
            "|  24|[[-5.0, 0.025], [...|\n",
            "|  21|[[281.0, 1.051082...|\n",
            "+----+--------------------+\n",
            "only showing top 20 rows\n",
            "\n"
          ],
          "name": "stdout"
        }
      ]
    },
    {
      "cell_type": "code",
      "metadata": {
        "id": "4raVBatNeR--",
        "colab_type": "code",
        "colab": {
          "base_uri": "https://localhost:8080/",
          "height": 824
        },
        "outputId": "22ea26b6-3d84-47b8-c6f6-d901add1dff8"
      },
      "source": [
        "distributions.toPandas()"
      ],
      "execution_count": null,
      "outputs": [
        {
          "output_type": "execute_result",
          "data": {
            "text/html": [
              "<div>\n",
              "<style scoped>\n",
              "    .dataframe tbody tr th:only-of-type {\n",
              "        vertical-align: middle;\n",
              "    }\n",
              "\n",
              "    .dataframe tbody tr th {\n",
              "        vertical-align: top;\n",
              "    }\n",
              "\n",
              "    .dataframe thead th {\n",
              "        text-align: right;\n",
              "    }\n",
              "</style>\n",
              "<table border=\"1\" class=\"dataframe\">\n",
              "  <thead>\n",
              "    <tr style=\"text-align: right;\">\n",
              "      <th></th>\n",
              "      <th>Hour</th>\n",
              "      <th>collect_list(tuples)</th>\n",
              "    </tr>\n",
              "  </thead>\n",
              "  <tbody>\n",
              "    <tr>\n",
              "      <th>0</th>\n",
              "      <td>12</td>\n",
              "      <td>[(313.0, 2.7081922816519974e-05), (-6.0, 0.062...</td>\n",
              "    </tr>\n",
              "    <tr>\n",
              "      <th>1</th>\n",
              "      <td>22</td>\n",
              "      <td>[(10.0, 0.011312795602709957), (230.0, 6.39140...</td>\n",
              "    </tr>\n",
              "    <tr>\n",
              "      <th>2</th>\n",
              "      <td>1</td>\n",
              "      <td>[(87.0, 0.0035460992907801418), (437.0, 0.0011...</td>\n",
              "    </tr>\n",
              "    <tr>\n",
              "      <th>3</th>\n",
              "      <td>13</td>\n",
              "      <td>[(77.0, 0.0009046226215963574), (165.0, 9.0462...</td>\n",
              "    </tr>\n",
              "    <tr>\n",
              "      <th>4</th>\n",
              "      <td>16</td>\n",
              "      <td>[(108.0, 0.0004602859526480826), (672.0, 2.876...</td>\n",
              "    </tr>\n",
              "    <tr>\n",
              "      <th>5</th>\n",
              "      <td>6</td>\n",
              "      <td>[(740.0, 2.6739397828760897e-05), (38.0, 0.000...</td>\n",
              "    </tr>\n",
              "    <tr>\n",
              "      <th>6</th>\n",
              "      <td>3</td>\n",
              "      <td>[(157.0, 0.005), (-12.0, 0.025), (-17.0, 0.005...</td>\n",
              "    </tr>\n",
              "    <tr>\n",
              "      <th>7</th>\n",
              "      <td>20</td>\n",
              "      <td>[(206.0, 7.053678493334273e-05), (211.0, 0.000...</td>\n",
              "    </tr>\n",
              "    <tr>\n",
              "      <th>8</th>\n",
              "      <td>5</td>\n",
              "      <td>[(43.0, 0.00013276098597158915), (-3.0, 0.1072...</td>\n",
              "    </tr>\n",
              "    <tr>\n",
              "      <th>9</th>\n",
              "      <td>19</td>\n",
              "      <td>[(287.0, 3.229348317509527e-05), (18.0, 0.0066...</td>\n",
              "    </tr>\n",
              "    <tr>\n",
              "      <th>10</th>\n",
              "      <td>15</td>\n",
              "      <td>[(179.0, 0.00019612787537474433), (2.0, 0.0197...</td>\n",
              "    </tr>\n",
              "    <tr>\n",
              "      <th>11</th>\n",
              "      <td>17</td>\n",
              "      <td>[(60.0, 0.0014484436063512886), (184.0, 0.0002...</td>\n",
              "    </tr>\n",
              "    <tr>\n",
              "      <th>12</th>\n",
              "      <td>9</td>\n",
              "      <td>[(-14.0, 0.004191529617231844), (848.0, 2.9107...</td>\n",
              "    </tr>\n",
              "    <tr>\n",
              "      <th>13</th>\n",
              "      <td>4</td>\n",
              "      <td>[(-10.0, 0.03711790393013101), (34.0, 0.000727...</td>\n",
              "    </tr>\n",
              "    <tr>\n",
              "      <th>14</th>\n",
              "      <td>8</td>\n",
              "      <td>[(4.0, 0.013147399400390572), (116.0, 0.000110...</td>\n",
              "    </tr>\n",
              "    <tr>\n",
              "      <th>15</th>\n",
              "      <td>23</td>\n",
              "      <td>[(154.0, 0.0006855184233076263), (59.0, 0.0023...</td>\n",
              "    </tr>\n",
              "    <tr>\n",
              "      <th>16</th>\n",
              "      <td>7</td>\n",
              "      <td>[(25.0, 0.002122481322164365), (62.0, 0.000396...</td>\n",
              "    </tr>\n",
              "    <tr>\n",
              "      <th>17</th>\n",
              "      <td>10</td>\n",
              "      <td>[(202.0, 8.670520231213873e-05), (86.0, 0.0002...</td>\n",
              "    </tr>\n",
              "    <tr>\n",
              "      <th>18</th>\n",
              "      <td>24</td>\n",
              "      <td>[(-5.0, 0.025), (208.0, 0.025), (224.0, 0.025)...</td>\n",
              "    </tr>\n",
              "    <tr>\n",
              "      <th>19</th>\n",
              "      <td>21</td>\n",
              "      <td>[(281.0, 0.00010510826150935464), (109.0, 0.00...</td>\n",
              "    </tr>\n",
              "    <tr>\n",
              "      <th>20</th>\n",
              "      <td>11</td>\n",
              "      <td>[(177.0, 8.165487207403376e-05), (35.0, 0.0018...</td>\n",
              "    </tr>\n",
              "    <tr>\n",
              "      <th>21</th>\n",
              "      <td>14</td>\n",
              "      <td>[(172.0, 0.00014442935960021954), (201.0, 8.66...</td>\n",
              "    </tr>\n",
              "    <tr>\n",
              "      <th>22</th>\n",
              "      <td>2</td>\n",
              "      <td>[(82.0, 0.0036231884057971015), (32.0, 0.00362...</td>\n",
              "    </tr>\n",
              "    <tr>\n",
              "      <th>23</th>\n",
              "      <td>0</td>\n",
              "      <td>[(-18.0, 0.001314060446780552), (34.0, 0.00569...</td>\n",
              "    </tr>\n",
              "    <tr>\n",
              "      <th>24</th>\n",
              "      <td>18</td>\n",
              "      <td>[(38.0, 0.0034498275086245686), (82.0, 0.00095...</td>\n",
              "    </tr>\n",
              "  </tbody>\n",
              "</table>\n",
              "</div>"
            ],
            "text/plain": [
              "    Hour                               collect_list(tuples)\n",
              "0     12  [(313.0, 2.7081922816519974e-05), (-6.0, 0.062...\n",
              "1     22  [(10.0, 0.011312795602709957), (230.0, 6.39140...\n",
              "2      1  [(87.0, 0.0035460992907801418), (437.0, 0.0011...\n",
              "3     13  [(77.0, 0.0009046226215963574), (165.0, 9.0462...\n",
              "4     16  [(108.0, 0.0004602859526480826), (672.0, 2.876...\n",
              "5      6  [(740.0, 2.6739397828760897e-05), (38.0, 0.000...\n",
              "6      3  [(157.0, 0.005), (-12.0, 0.025), (-17.0, 0.005...\n",
              "7     20  [(206.0, 7.053678493334273e-05), (211.0, 0.000...\n",
              "8      5  [(43.0, 0.00013276098597158915), (-3.0, 0.1072...\n",
              "9     19  [(287.0, 3.229348317509527e-05), (18.0, 0.0066...\n",
              "10    15  [(179.0, 0.00019612787537474433), (2.0, 0.0197...\n",
              "11    17  [(60.0, 0.0014484436063512886), (184.0, 0.0002...\n",
              "12     9  [(-14.0, 0.004191529617231844), (848.0, 2.9107...\n",
              "13     4  [(-10.0, 0.03711790393013101), (34.0, 0.000727...\n",
              "14     8  [(4.0, 0.013147399400390572), (116.0, 0.000110...\n",
              "15    23  [(154.0, 0.0006855184233076263), (59.0, 0.0023...\n",
              "16     7  [(25.0, 0.002122481322164365), (62.0, 0.000396...\n",
              "17    10  [(202.0, 8.670520231213873e-05), (86.0, 0.0002...\n",
              "18    24  [(-5.0, 0.025), (208.0, 0.025), (224.0, 0.025)...\n",
              "19    21  [(281.0, 0.00010510826150935464), (109.0, 0.00...\n",
              "20    11  [(177.0, 8.165487207403376e-05), (35.0, 0.0018...\n",
              "21    14  [(172.0, 0.00014442935960021954), (201.0, 8.66...\n",
              "22     2  [(82.0, 0.0036231884057971015), (32.0, 0.00362...\n",
              "23     0  [(-18.0, 0.001314060446780552), (34.0, 0.00569...\n",
              "24    18  [(38.0, 0.0034498275086245686), (82.0, 0.00095..."
            ]
          },
          "metadata": {
            "tags": []
          },
          "execution_count": 62
        }
      ]
    },
    {
      "cell_type": "markdown",
      "metadata": {
        "id": "t-TVqYcRDcMo",
        "colab_type": "text"
      },
      "source": [
        "### Generate distributions\n",
        "\n",
        "We have to group on the hour. Each group will be a bunch of delays and the corresponding frequencies."
      ]
    },
    {
      "cell_type": "code",
      "metadata": {
        "id": "C4ihceH9DcMo",
        "colab_type": "code",
        "colab": {}
      },
      "source": [
        ""
      ],
      "execution_count": null,
      "outputs": []
    },
    {
      "cell_type": "markdown",
      "metadata": {
        "id": "_v50q9HtDcMr",
        "colab_type": "text"
      },
      "source": [
        "These groups are definitely manageable: the number of levels will be on the order of a few hundreds to a couple thousands. We can combine them into lists straight away. Primero tupla, lista de tuplas, udf para ordenarlas"
      ]
    },
    {
      "cell_type": "code",
      "metadata": {
        "id": "kv0qRi_EDcMs",
        "colab_type": "code",
        "colab": {}
      },
      "source": [
        ""
      ],
      "execution_count": null,
      "outputs": []
    },
    {
      "cell_type": "markdown",
      "metadata": {
        "id": "DWvdUWhdDcM0",
        "colab_type": "text"
      },
      "source": [
        "Now it's be easy to use a UDF to merge the two lists and sort them."
      ]
    },
    {
      "cell_type": "code",
      "metadata": {
        "id": "8fdzcwTWDcM0",
        "colab_type": "code",
        "colab": {}
      },
      "source": [
        ""
      ],
      "execution_count": null,
      "outputs": []
    },
    {
      "cell_type": "markdown",
      "metadata": {
        "id": "kkE9vB64DcM3",
        "colab_type": "text"
      },
      "source": [
        "Careful! If we keep that string return type, it might be problematic later."
      ]
    },
    {
      "cell_type": "code",
      "metadata": {
        "id": "aUTsU8MTDcM4",
        "colab_type": "code",
        "colab": {}
      },
      "source": [
        "from pyspark.sql import types, functions \n",
        "\n",
        "def tupleize(a,b): return a, b\n",
        "\n",
        "tupleize_udf = functions.udf(tupleize, returnType=types.StructType([types.StructField('a', types.DoubleType()),\n",
        "                                                                    types.StructField('b', types.DoubleType() )]))\n",
        "\n",
        "tupled = relative_freq.withColumn('tuples', tupleize_udf('DepDelay', 'relative_freq'))\n",
        "tupled.printSchema()\n",
        "tupled.show()"
      ],
      "execution_count": null,
      "outputs": []
    },
    {
      "cell_type": "markdown",
      "metadata": {
        "id": "BgrxHcqZDcM8",
        "colab_type": "text"
      },
      "source": [
        "### Calculating the quartiles\n",
        "\n",
        "We are finally ready to calculate the quartiles! We will use a UDF.\n",
        "\n",
        "The input to our custom function will be one of the distributions coded like we did: as a list of tuples `(value, relative_frequency)`. The quartiles are defined as the values at which we cross the 0.0, .25, .5, .75 and 1.00 relative frequencies. Since the distributions are ordered, we can just iterate over one while keeping track of what portion of the total distribution we have seen, and annotate where we cross the thresholds."
      ]
    },
    {
      "cell_type": "code",
      "metadata": {
        "id": "0hDIgTRlfnQ2",
        "colab_type": "code",
        "colab": {
          "base_uri": "https://localhost:8080/",
          "height": 357
        },
        "outputId": "b726b0ff-cefb-4f8f-8e2b-ff076f18282d"
      },
      "source": [
        "import random\n",
        "\n",
        "delays = list(range(-20, 20, 2))\n",
        "random.shuffle(delays)\n",
        "delays"
      ],
      "execution_count": null,
      "outputs": [
        {
          "output_type": "execute_result",
          "data": {
            "text/plain": [
              "[18,\n",
              " 10,\n",
              " -18,\n",
              " -6,\n",
              " -20,\n",
              " -12,\n",
              " -14,\n",
              " 0,\n",
              " -16,\n",
              " -10,\n",
              " 14,\n",
              " -2,\n",
              " -8,\n",
              " 16,\n",
              " -4,\n",
              " 4,\n",
              " 12,\n",
              " 8,\n",
              " 6,\n",
              " 2]"
            ]
          },
          "metadata": {
            "tags": []
          },
          "execution_count": 68
        }
      ]
    },
    {
      "cell_type": "code",
      "metadata": {
        "id": "DaeEY1LCg0gP",
        "colab_type": "code",
        "colab": {
          "base_uri": "https://localhost:8080/",
          "height": 357
        },
        "outputId": "48d65c70-6b0d-4541-cd9d-12c00ab0ea77"
      },
      "source": [
        "ns = [ random.randint(0, 5000) for _ in delays]\n",
        "rel_freqs = [n / sum(ns) for n in ns]\n",
        "rel_freqs"
      ],
      "execution_count": null,
      "outputs": [
        {
          "output_type": "execute_result",
          "data": {
            "text/plain": [
              "[0.07702608504237443,\n",
              " 0.014858568441134387,\n",
              " 0.0731555196830172,\n",
              " 0.03006567120372748,\n",
              " 0.07311883185970576,\n",
              " 0.056627655281212164,\n",
              " 0.003943941005980115,\n",
              " 0.011721759548006017,\n",
              " 0.08484059140771177,\n",
              " 0.008584950654877646,\n",
              " 0.074091059177459,\n",
              " 0.04918002714898925,\n",
              " 0.055453644935245995,\n",
              " 0.04646512822394247,\n",
              " 0.07873206882635653,\n",
              " 0.036871262428000144,\n",
              " 0.009703929265876656,\n",
              " 0.08085996257842022,\n",
              " 0.05231683604211762,\n",
              " 0.0823825072458451]"
            ]
          },
          "metadata": {
            "tags": []
          },
          "execution_count": 70
        }
      ]
    },
    {
      "cell_type": "code",
      "metadata": {
        "id": "ah5zHSyXhPoZ",
        "colab_type": "code",
        "colab": {
          "base_uri": "https://localhost:8080/",
          "height": 357
        },
        "outputId": "50bc0d88-5c60-4945-de14-c7cd3bee49f9"
      },
      "source": [
        "distribution = list(zip(delays, rel_freqs))\n",
        "distribution"
      ],
      "execution_count": null,
      "outputs": [
        {
          "output_type": "execute_result",
          "data": {
            "text/plain": [
              "[(18, 0.07702608504237443),\n",
              " (10, 0.014858568441134387),\n",
              " (-18, 0.0731555196830172),\n",
              " (-6, 0.03006567120372748),\n",
              " (-20, 0.07311883185970576),\n",
              " (-12, 0.056627655281212164),\n",
              " (-14, 0.003943941005980115),\n",
              " (0, 0.011721759548006017),\n",
              " (-16, 0.08484059140771177),\n",
              " (-10, 0.008584950654877646),\n",
              " (14, 0.074091059177459),\n",
              " (-2, 0.04918002714898925),\n",
              " (-8, 0.055453644935245995),\n",
              " (16, 0.04646512822394247),\n",
              " (-4, 0.07873206882635653),\n",
              " (4, 0.036871262428000144),\n",
              " (12, 0.009703929265876656),\n",
              " (8, 0.08085996257842022),\n",
              " (6, 0.05231683604211762),\n",
              " (2, 0.0823825072458451)]"
            ]
          },
          "metadata": {
            "tags": []
          },
          "execution_count": 71
        }
      ]
    },
    {
      "cell_type": "code",
      "metadata": {
        "id": "fMq4YlA3ieAJ",
        "colab_type": "code",
        "colab": {
          "base_uri": "https://localhost:8080/",
          "height": 357
        },
        "outputId": "d2a2f5d1-f9aa-4897-9704-ec374ac65ad3"
      },
      "source": [
        "sorted(distribution)"
      ],
      "execution_count": null,
      "outputs": [
        {
          "output_type": "execute_result",
          "data": {
            "text/plain": [
              "[(-20, 0.07311883185970576),\n",
              " (-18, 0.0731555196830172),\n",
              " (-16, 0.08484059140771177),\n",
              " (-14, 0.003943941005980115),\n",
              " (-12, 0.056627655281212164),\n",
              " (-10, 0.008584950654877646),\n",
              " (-8, 0.055453644935245995),\n",
              " (-6, 0.03006567120372748),\n",
              " (-4, 0.07873206882635653),\n",
              " (-2, 0.04918002714898925),\n",
              " (0, 0.011721759548006017),\n",
              " (2, 0.0823825072458451),\n",
              " (4, 0.036871262428000144),\n",
              " (6, 0.05231683604211762),\n",
              " (8, 0.08085996257842022),\n",
              " (10, 0.014858568441134387),\n",
              " (12, 0.009703929265876656),\n",
              " (14, 0.074091059177459),\n",
              " (16, 0.04646512822394247),\n",
              " (18, 0.07702608504237443)]"
            ]
          },
          "metadata": {
            "tags": []
          },
          "execution_count": 72
        }
      ]
    },
    {
      "cell_type": "markdown",
      "metadata": {
        "id": "qkBbWUR8kD78",
        "colab_type": "text"
      },
      "source": [
        "Crear una función que funciona como distribución "
      ]
    },
    {
      "cell_type": "code",
      "metadata": {
        "id": "SNyoUeNrDcM9",
        "colab_type": "code",
        "colab": {}
      },
      "source": [
        "def quartiles(distribution):\n",
        "    result = []\n",
        "    acc = 0.0 \n",
        "  \n",
        "    for delay, rel_freq in sorted(distribution):\n",
        "      prev = acc # para saber si me paso, me guardo el valor\n",
        "      acc += rel_freq #tengo que ver si en este paso al incrementar he pasado una de mis barrera. \n",
        "\n",
        "      if prev == 0.0 and acc > 0.0:\n",
        "        result.append(delay) #minimo\n",
        "\n",
        "      if prev <= .25 and acc > .25:\n",
        "        result.append(delay)\n",
        "\n",
        "      if prev <= .50 and acc > .50:\n",
        "        result.append(delay)\n",
        "\n",
        "      if prev <= .75 and acc > .75:\n",
        "        result.append(delay)\n",
        "\n",
        "    result.append(delay)\n",
        "\n",
        "    return result\n",
        "\n",
        "#empaquetaremos en udf y lo utilizaremos"
      ],
      "execution_count": null,
      "outputs": []
    },
    {
      "cell_type": "code",
      "metadata": {
        "id": "OcoqXtcKj2tj",
        "colab_type": "code",
        "colab": {
          "base_uri": "https://localhost:8080/",
          "height": 34
        },
        "outputId": "6ce807f0-53f3-4516-dfe4-bc50af682210"
      },
      "source": [
        "quartiles(distribution)"
      ],
      "execution_count": null,
      "outputs": [
        {
          "output_type": "execute_result",
          "data": {
            "text/plain": [
              "[-20, -12, -2, 8, 18]"
            ]
          },
          "metadata": {
            "tags": []
          },
          "execution_count": 75
        }
      ]
    },
    {
      "cell_type": "code",
      "metadata": {
        "id": "5ptCK1odkKRB",
        "colab_type": "code",
        "colab": {}
      },
      "source": [
        "quartiles_udf = functions.udf(quartiles)"
      ],
      "execution_count": null,
      "outputs": []
    },
    {
      "cell_type": "markdown",
      "metadata": {
        "id": "wdJgpqVxDcNA",
        "colab_type": "text"
      },
      "source": [
        "Apply to the dataframe:"
      ]
    },
    {
      "cell_type": "code",
      "metadata": {
        "id": "ECvw1BbkDcNB",
        "colab_type": "code",
        "colab": {
          "base_uri": "https://localhost:8080/",
          "height": 527
        },
        "outputId": "0f557672-5b21-440f-ff6a-50b9be5fa60b"
      },
      "source": [
        "calculated_quartiles = distributions.select('Hour', quartiles_udf('collect_list(tuples)'))\n",
        "calculated_quartiles.printSchema()\n",
        "calculated_quartiles.show()"
      ],
      "execution_count": null,
      "outputs": [
        {
          "output_type": "stream",
          "text": [
            "root\n",
            " |-- Hour: integer (nullable = true)\n",
            " |-- quartiles(collect_list(tuples)): string (nullable = true)\n",
            "\n",
            "+----+-------------------------------+\n",
            "|Hour|quartiles(collect_list(tuples))|\n",
            "+----+-------------------------------+\n",
            "|  12|           [-38.0, -5.0, -2....|\n",
            "|  22|           [-39.0, -5.0, 0.0...|\n",
            "|   1|           [-22.0, -3.0, 13....|\n",
            "|  13|           [-32.0, -5.0, -2....|\n",
            "|  16|           [-37.0, -5.0, -1....|\n",
            "|   6|           [-32.0, -6.0, -3....|\n",
            "|   3|           [-19.0, -6.0, -1....|\n",
            "|  20|           [-35.0, -5.0, 0.0...|\n",
            "|   5|           [-24.0, -7.0, -4....|\n",
            "|  19|           [-32.0, -5.0, -1....|\n",
            "|  15|           [-60.0, -5.0, -2....|\n",
            "|  17|           [-46.0, -5.0, -2....|\n",
            "|   9|           [-31.0, -6.0, -3....|\n",
            "|   4|           [-23.0, -7.0, -5....|\n",
            "|   8|           [-72.0, -6.0, -3....|\n",
            "|  23|           [-30.0, -4.0, 14....|\n",
            "|   7|           [-28.0, -6.0, -3....|\n",
            "|  10|           [-26.0, -5.0, -2....|\n",
            "|  24|           [-7.0, 1.0, 35.0,...|\n",
            "|  21|           [-39.0, -5.0, 0.0...|\n",
            "+----+-------------------------------+\n",
            "only showing top 20 rows\n",
            "\n"
          ],
          "name": "stdout"
        }
      ]
    },
    {
      "cell_type": "markdown",
      "metadata": {
        "id": "ixgs43CSDcNE",
        "colab_type": "text"
      },
      "source": [
        "### Plotting\n",
        "\n",
        "We got it! Let's move this over to Pandas for convenient handling"
      ]
    },
    {
      "cell_type": "code",
      "metadata": {
        "id": "5fsp2-QVk-Br",
        "colab_type": "code",
        "colab": {
          "base_uri": "https://localhost:8080/",
          "height": 204
        },
        "outputId": "501f9305-ba05-4620-c009-f9769ecacc65"
      },
      "source": [
        "pd_df = calculated_quartiles.toPandas()\n",
        "pd_df.head()"
      ],
      "execution_count": null,
      "outputs": [
        {
          "output_type": "execute_result",
          "data": {
            "text/html": [
              "<div>\n",
              "<style scoped>\n",
              "    .dataframe tbody tr th:only-of-type {\n",
              "        vertical-align: middle;\n",
              "    }\n",
              "\n",
              "    .dataframe tbody tr th {\n",
              "        vertical-align: top;\n",
              "    }\n",
              "\n",
              "    .dataframe thead th {\n",
              "        text-align: right;\n",
              "    }\n",
              "</style>\n",
              "<table border=\"1\" class=\"dataframe\">\n",
              "  <thead>\n",
              "    <tr style=\"text-align: right;\">\n",
              "      <th></th>\n",
              "      <th>Hour</th>\n",
              "      <th>quartiles(collect_list(tuples))</th>\n",
              "    </tr>\n",
              "  </thead>\n",
              "  <tbody>\n",
              "    <tr>\n",
              "      <th>0</th>\n",
              "      <td>12</td>\n",
              "      <td>[-38.0, -5.0, -2.0, 6.0, 1371.0]</td>\n",
              "    </tr>\n",
              "    <tr>\n",
              "      <th>1</th>\n",
              "      <td>22</td>\n",
              "      <td>[-39.0, -5.0, 0.0, 22.0, 953.0]</td>\n",
              "    </tr>\n",
              "    <tr>\n",
              "      <th>2</th>\n",
              "      <td>1</td>\n",
              "      <td>[-22.0, -3.0, 13.0, 111.0, 1154.0]</td>\n",
              "    </tr>\n",
              "    <tr>\n",
              "      <th>3</th>\n",
              "      <td>13</td>\n",
              "      <td>[-32.0, -5.0, -2.0, 9.0, 1185.0]</td>\n",
              "    </tr>\n",
              "    <tr>\n",
              "      <th>4</th>\n",
              "      <td>16</td>\n",
              "      <td>[-37.0, -5.0, -1.0, 10.0, 672.0]</td>\n",
              "    </tr>\n",
              "  </tbody>\n",
              "</table>\n",
              "</div>"
            ],
            "text/plain": [
              "   Hour     quartiles(collect_list(tuples))\n",
              "0    12    [-38.0, -5.0, -2.0, 6.0, 1371.0]\n",
              "1    22     [-39.0, -5.0, 0.0, 22.0, 953.0]\n",
              "2     1  [-22.0, -3.0, 13.0, 111.0, 1154.0]\n",
              "3    13    [-32.0, -5.0, -2.0, 9.0, 1185.0]\n",
              "4    16    [-37.0, -5.0, -1.0, 10.0, 672.0]"
            ]
          },
          "metadata": {
            "tags": []
          },
          "execution_count": 79
        }
      ]
    },
    {
      "cell_type": "markdown",
      "metadata": {
        "id": "Mx9g2ToWDcNG",
        "colab_type": "text"
      },
      "source": [
        "And we are ready to plot!"
      ]
    },
    {
      "cell_type": "markdown",
      "metadata": {
        "id": "l8TibM3Wllq-",
        "colab_type": "text"
      },
      "source": [
        "Función eval: Coge un string, contiene codigo python y evalua el codigo python"
      ]
    },
    {
      "cell_type": "code",
      "metadata": {
        "id": "WEfZggkclzA7",
        "colab_type": "code",
        "colab": {
          "base_uri": "https://localhost:8080/",
          "height": 34
        },
        "outputId": "3e9aa49e-04c8-4372-e756-1b9fbeb27b72"
      },
      "source": [
        "eval(' 2 * 2')"
      ],
      "execution_count": null,
      "outputs": [
        {
          "output_type": "execute_result",
          "data": {
            "text/plain": [
              "4"
            ]
          },
          "metadata": {
            "tags": []
          },
          "execution_count": 84
        }
      ]
    },
    {
      "cell_type": "code",
      "metadata": {
        "id": "_q65u34SDcNG",
        "colab_type": "code",
        "colab": {
          "base_uri": "https://localhost:8080/",
          "height": 442
        },
        "outputId": "0eac5a74-4c17-4193-a883-f9225b5f42f3"
      },
      "source": [
        "for hour in pd_df['quartiles(collect_list(tuples))']:\n",
        "  print(eval(hour))"
      ],
      "execution_count": null,
      "outputs": [
        {
          "output_type": "stream",
          "text": [
            "[-38.0, -5.0, -2.0, 6.0, 1371.0]\n",
            "[-39.0, -5.0, 0.0, 22.0, 953.0]\n",
            "[-22.0, -3.0, 13.0, 111.0, 1154.0]\n",
            "[-32.0, -5.0, -2.0, 9.0, 1185.0]\n",
            "[-37.0, -5.0, -1.0, 10.0, 672.0]\n",
            "[-32.0, -6.0, -3.0, -1.0, 1229.0]\n",
            "[-19.0, -6.0, -1.0, 30.0, 596.0]\n",
            "[-35.0, -5.0, 0.0, 19.0, 865.0]\n",
            "[-24.0, -7.0, -4.0, -2.0, 1320.0]\n",
            "[-32.0, -5.0, -1.0, 15.0, 847.0]\n",
            "[-60.0, -5.0, -2.0, 10.0, 1339.0]\n",
            "[-46.0, -5.0, -2.0, 10.0, 1789.0]\n",
            "[-31.0, -6.0, -3.0, 2.0, 1415.0]\n",
            "[-23.0, -7.0, -5.0, -3.0, 485.0]\n",
            "[-72.0, -6.0, -3.0, 0.0, 1407.0]\n",
            "[-30.0, -4.0, 14.0, 62.0, 1036.0]\n",
            "[-28.0, -6.0, -3.0, 0.0, 1076.0]\n",
            "[-26.0, -5.0, -2.0, 5.0, 1307.0]\n",
            "[-7.0, 1.0, 35.0, 110.0, 480.0]\n",
            "[-39.0, -5.0, 0.0, 27.0, 954.0]\n",
            "[-45.0, -5.0, -2.0, 5.0, 1317.0]\n",
            "[-32.0, -5.0, -2.0, 10.0, 1435.0]\n",
            "[-24.0, -5.0, 28.0, 136.0, 658.0]\n",
            "[-20.0, -4.0, 11.0, 89.0, 2098.0]\n",
            "[-40.0, -5.0, -1.0, 14.0, 1439.0]\n"
          ],
          "name": "stdout"
        }
      ]
    },
    {
      "cell_type": "code",
      "metadata": {
        "id": "CNeWJctumbLj",
        "colab_type": "code",
        "colab": {}
      },
      "source": [
        "xs = []\n",
        "ys = []\n",
        "\n",
        "for _, hour, quartiles in pd_df.itertuples():\n",
        "\n",
        "  for q in eval(quartiles):\n",
        "    xs.append(hour)\n",
        "    ys.append(q)"
      ],
      "execution_count": null,
      "outputs": []
    },
    {
      "cell_type": "code",
      "metadata": {
        "id": "FskApGEynZ97",
        "colab_type": "code",
        "colab": {
          "base_uri": "https://localhost:8080/",
          "height": 395
        },
        "outputId": "cdd50c05-6c13-4767-d492-5eaf88c8997c"
      },
      "source": [
        "import matplotlib.pyplot as plt\n",
        "\n",
        "plt.scatter(xs, ys)\n",
        "plt.gcf().set_size_inches(12, 6)\n",
        "plt.gca().set_ylim(-20, 100)"
      ],
      "execution_count": null,
      "outputs": [
        {
          "output_type": "execute_result",
          "data": {
            "text/plain": [
              "(-20.0, 100.0)"
            ]
          },
          "metadata": {
            "tags": []
          },
          "execution_count": 92
        },
        {
          "output_type": "display_data",
          "data": {
            "image/png": "[encoded data removed]",
            "text/plain": [
              "<Figure size 864x432 with 1 Axes>"
            ]
          },
          "metadata": {
            "tags": [],
            "needs_background": "light"
          }
        }
      ]
    },
    {
      "cell_type": "markdown",
      "metadata": {
        "id": "15frMpIBn_ST",
        "colab_type": "text"
      },
      "source": [
        "Diciembre 2018 en concreto, cuando sale el sol todo esta bajo control, los vuelos salen antes de tiempo. Un retraso a las nueve provoca los siguientes retrasos "
      ]
    },
    {
      "cell_type": "markdown",
      "metadata": {
        "id": "EvLG1pWVoqLH",
        "colab_type": "text"
      },
      "source": [
        "Work flow desarrollar un prototipo, adaptamos el prototipo para que funcione con Big Data y lo corremos con el small data y lo pasamos a Big Data. \n",
        "\n",
        "Coger esto y empaquetarlo"
      ]
    },
    {
      "cell_type": "markdown",
      "metadata": {
        "id": "Z817FVePDcNJ",
        "colab_type": "text"
      },
      "source": [
        "## Test your \"Big Data\" prototype with small data"
      ]
    },
    {
      "cell_type": "markdown",
      "metadata": {
        "id": "DeJ3GZLkDcNJ",
        "colab_type": "text"
      },
      "source": [
        "### Summary\n",
        "\n",
        "This is the whole process, collected in one place as is:"
      ]
    },
    {
      "cell_type": "code",
      "metadata": {
        "id": "_N9qoDOIDcNJ",
        "colab_type": "code",
        "colab": {}
      },
      "source": [
        ""
      ],
      "execution_count": null,
      "outputs": []
    },
    {
      "cell_type": "markdown",
      "metadata": {
        "id": "cWZjr2IiDcNN",
        "colab_type": "text"
      },
      "source": [
        "### Pyspark job\n",
        "\n",
        "In order to run the process in a cluster, we need to transform it into a pyspark job file. \n",
        "\n",
        "We need to tidy up the function definitions, add the relevant imports, and modify the input and output to use command-line arguments.\n",
        "\n",
        "We will put the result in a file called mysparkjob.py:\n",
        "\n",
        "```python\n",
        "from __future__ import print_function\n",
        "from pyspark.sql import types, functions, SparkSession\n",
        "import sys\n",
        "\n",
        "def zipsort(a, b):\n",
        "    return sorted(zip(a, b))\n",
        "\n",
        "def quartiles(histogram):\n",
        "    area = 0\n",
        "    result = []\n",
        "    \n",
        "    for value, percentage in histogram:\n",
        "        if area == 0:\n",
        "            result.append(value)\n",
        "        elif area <= .25 and area + percentage > .25:\n",
        "            result.append(value)\n",
        "        elif area <= .5 and area + percentage > .5:\n",
        "            result.append(value)\n",
        "        elif area <= .75 and area + percentage > .75:\n",
        "            result.append(value)\n",
        "        area += percentage\n",
        "    \n",
        "    result.append(value)\n",
        "    return result\n",
        "\n",
        "if __name__=='__main__':\n",
        "    \n",
        "    file = sys.argv[1]\n",
        "    out = sys.argv[2]\n",
        "    \n",
        "    spark = SparkSession.builder.getOrCreate()\n",
        "    df = spark.read.csv(file, header= True, inferSchema=True)\n",
        "    df = df.select(['FlightDate', 'DayOfWeek', 'Reporting_Airline', 'Tail_Number', 'Flight_Number_Reporting_Airline', 'Origin', \n",
        "                    'OriginCityName', 'OriginStateName', 'Dest', 'DestCityName', 'DestStateName',\n",
        "                    'DepTime', 'DepDelay', 'AirTime', 'Distance'])\n",
        "\n",
        "    df2 = df.withColumn('Hour', (df['DepTime'] / 100).cast(types.IntegerType()))\n",
        "    totals = df2.groupBy('Hour').count()\n",
        "    distributions = df2.groupBy(['Hour', 'DepDelay']).count()\n",
        "    annotated = distributions.join(totals, on='Hour')\n",
        "    frequencies = annotated.withColumn('relative', distributions['count'] / totals['count'])\n",
        "    groups = frequencies.groupBy(totals['Hour'])\\\n",
        "                        .agg(functions.collect_list('DepDelay').alias('delays'),\n",
        "                             functions.collect_list('relative').alias('relatives'))\n",
        "\n",
        "\n",
        "\n",
        "    zipsort_typed = functions.udf(zipsort, types.ArrayType(types.ArrayType(types.FloatType())))\n",
        "    distributions = groups.withColumn('distributions', zipsort_typed('delays', 'relatives'))\n",
        "\n",
        "\n",
        "\n",
        "    quartiles_udf = functions.udf(quartiles, returnType=types.ArrayType(types.FloatType()))\n",
        "\n",
        "    result = distributions.select('Hour',\n",
        "                                  quartiles_udf('distributions').alias('quartiles'))\n",
        "\n",
        "    result.write.json(out)\n",
        "    spark.stop()\n",
        "```"
      ]
    },
    {
      "cell_type": "markdown",
      "metadata": {
        "id": "_FQU6A_eqEsr",
        "colab_type": "text"
      },
      "source": [
        "## **Small Data a Big Data**\n",
        "\n",
        "1. Importamos librerias\n",
        "2. Defino funciones\n",
        "3. Código \n",
        "4. Empaquetamos el codigo en un Archivo .py \n",
        "5. Ejecutamos\n",
        "      * Nos cuenta lo que esta pasando\n",
        "      * Archivo de salida, es un directorio por el nombre que le he dado, cada uno de los elementos. En un nodo de colab. Antes de meternos en el cluster es comprobar que funciona"
      ]
    },
    {
      "cell_type": "code",
      "metadata": {
        "id": "WC-L7lSRDcNO",
        "colab_type": "code",
        "colab": {}
      },
      "source": [
        "from __future__ import print_function\n",
        "from pyspark.sql import types, functions, SparkSession\n",
        "import sys\n",
        " \n",
        "def zipsort(a, b):\n",
        "    return sorted(zip(a, b))\n",
        " \n",
        "def quartiles(histogram):\n",
        "    area = 0\n",
        "    result = []\n",
        " \n",
        "    for value, percentage in histogram:\n",
        "        if area == 0:\n",
        "            result.append(value)\n",
        "        elif area <= .25 and area + percentage > .25:\n",
        "            result.append(value)\n",
        "        elif area <= .5 and area + percentage > .5:\n",
        "            result.append(value)\n",
        "        elif area <= .75 and area + percentage > .75:\n",
        "            result.append(value)\n",
        "        area += percentage\n",
        " \n",
        "    result.append(value)\n",
        "    return result\n",
        " \n",
        "if __name__=='__main__': # se ejecuta el script no importando modulo \n",
        " \n",
        "    file = sys.argv[1] #tomo como un argumento, argumentos de la linea de comandos sys.\n",
        "    out = sys.argv[2]\n",
        " \n",
        "    spark = SparkSession.builder.getOrCreate()\n",
        "    df = spark.read.csv(file, header= True, inferSchema=True)\n",
        "    df = df.select(['FlightDate', 'DayOfWeek', 'Reporting_Airline', 'Tail_Number', 'Flight_Number_Reporting_Airline', 'Origin', \n",
        "                    'OriginCityName', 'OriginStateName', 'Dest', 'DestCityName', 'DestStateName',\n",
        "                    'DepTime', 'DepDelay', 'AirTime', 'Distance'])\n",
        " \n",
        "    df2 = df.withColumn('Hour', (df['DepTime'] / 100).cast(types.IntegerType()))\n",
        "    totals = df2.groupBy('Hour').count()\n",
        "    distributions = df2.groupBy(['Hour', 'DepDelay']).count()\n",
        "    annotated = distributions.join(totals, on='Hour')\n",
        "    frequencies = annotated.withColumn('relative', distributions['count'] / totals['count'])\n",
        "    groups = frequencies.groupBy(totals['Hour'])\\\n",
        "                        .agg(functions.collect_list('DepDelay').alias('delays'),\n",
        "                             functions.collect_list('relative').alias('relatives'))\n",
        " \n",
        " \n",
        " \n",
        "    zipsort_typed = functions.udf(zipsort, types.ArrayType(types.ArrayType(types.FloatType())))\n",
        "    distributions = groups.withColumn('distributions', zipsort_typed('delays', 'relatives'))\n",
        " \n",
        " \n",
        " \n",
        "    quartiles_udf = functions.udf(quartiles, returnType=types.ArrayType(types.FloatType()))\n",
        " \n",
        "    result = distributions.select('Hour',\n",
        "                                  quartiles_udf('distributions').alias('quartiles'))\n",
        " \n",
        "    result.write.json(out) #escrito en json por el valor de retorno de quariles es array y el formato de escritura csv no soporta, por eso json\n",
        "    spark.stop()"
      ],
      "execution_count": null,
      "outputs": []
    },
    {
      "cell_type": "markdown",
      "metadata": {
        "id": "NdPZAyaMDcNR",
        "colab_type": "text"
      },
      "source": [
        "### Running with spark-submit\n",
        "\n",
        "If the following works, we are ready to test it in the cluster!\n",
        "\n",
        "```python\n",
        "spark-submit mysparkjob.py On_Time_On_Time_Performance_2015_8.csv out.json\n",
        "\n",
        "```\n",
        "spark-submit: enviarlo a spark\n",
        "mysparkjob.py: archivo del codigo\n",
        "\n",
        "On_Time_On_Time_Performance_2015_8.csv: nombre del archivo a leer\n",
        "\n",
        "out.json: salida"
      ]
    },
    {
      "cell_type": "markdown",
      "metadata": {
        "id": "si1NOkyMteOS",
        "colab_type": "text"
      },
      "source": [
        "Spark: es un traile o barco de contenadores, una vez que esta en marcha procesa un monton de cosa. Para jobs corto es mas lento. Para cluster va rapido"
      ]
    }
  ]
}