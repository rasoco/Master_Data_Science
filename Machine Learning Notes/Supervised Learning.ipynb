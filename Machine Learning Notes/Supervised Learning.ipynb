{
 "cells": [
  {
   "cell_type": "markdown",
   "metadata": {},
   "source": [
    "# Step of Linear Regression in Machine Learning\n",
    "\n"
   ]
  },
  {
   "cell_type": "markdown",
   "metadata": {},
   "source": [
    "from sklearn.linear_model import LinearRegression #import of library\n",
    "\n",
    "reg = LinearRegression() #create an instace\n",
    "\n",
    "from sklearn.model_selection import train_test_split #import of library train_test_split\n",
    "\n",
    "X_train, X_test, y_train, y_test = train_test_split(X,y, test_size= 0.2) # divide into test an train\n",
    "\n",
    "reg.fit(X_train,y_train) # training my model \n",
    "\n",
    "reg.coef # m (slope of a line)\n",
    "\n",
    "reg.intercept_ # when x=0, what is the value of y\n",
    "\n",
    "reg.predict([values]) #make predictions\n",
    "\n",
    "xtest_predict = reg.predict(X_test))"
   ]
  },
  {
   "cell_type": "markdown",
   "metadata": {},
   "source": [
    "## MAE metrics\n",
    "\n"
   ]
  },
  {
   "cell_type": "markdown",
   "metadata": {},
   "source": [
    "from sklearn.metrics import mean_absolute_error\n",
    "\n",
    "mean_aboslute_error(reg.predict(X_test), y_test)\n",
    "\n"
   ]
  },
  {
   "cell_type": "markdown",
   "metadata": {},
   "source": [
    "## MAPE metrics\n",
    "\n"
   ]
  },
  {
   "cell_type": "markdown",
   "metadata": {},
   "source": [
    "np.mean(np.abs(xtest_predict-y_test)/y_test)\n",
    "\n"
   ]
  },
  {
   "cell_type": "markdown",
   "metadata": {},
   "source": [
    "## RMSE metrics\n"
   ]
  },
  {
   "cell_type": "markdown",
   "metadata": {},
   "source": [
    "from sklearn.metrics import mean_squared_error\n",
    "from math import sqrt\n",
    "\n",
    "np.sqrt(np.mean((xtest_predict-y_test)**2)) \n",
    "\n",
    "\n"
   ]
  },
  {
   "cell_type": "markdown",
   "metadata": {},
   "source": [
    "# Step of k Nearest Neighboors in Machine Learning\n",
    "\n"
   ]
  },
  {
   "cell_type": "markdown",
   "metadata": {},
   "source": [
    "k: number of neighbors\n",
    "\n",
    "from sklearn.neighbors import KNeighborsRegressor #import library\n",
    "\n",
    "regk = KNeighborsRegressor(n_neighbors=k)\n",
    "\n",
    "regk.fit(X_train,y_train) \n",
    "\n",
    "mean_absolute_error(regk.predict(X_test),y_test) or np.sqrt(np.mean((predictions-targets)**2))"
   ]
  },
  {
   "cell_type": "markdown",
   "metadata": {},
   "source": [
    "# Cross Validation\n",
    "Aim give a metrics of our model. Robust metric. Take your dataset and split into n random parts. \n",
    "\n"
   ]
  },
  {
   "cell_type": "markdown",
   "metadata": {},
   "source": [
    "from sklearn.model_selection import cross_val_score\n",
    "\n",
    "cross_val_score(reg,X,y,cv=5,scoring=\"neg_mean_squared_error\") #give an array negative, change a abs to convert positive\n",
    "np.mean(np.sqrt(np.abs(cross_val_score(reg,X,y,cv=5,scoring=\"neg_mean_squared_error\"))"
   ]
  }
 ],
 "metadata": {
  "kernelspec": {
   "display_name": "Python 3",
   "language": "python",
   "name": "python3"
  },
  "language_info": {
   "codemirror_mode": {
    "name": "ipython",
    "version": 3
   },
   "file_extension": ".py",
   "mimetype": "text/x-python",
   "name": "python",
   "nbconvert_exporter": "python",
   "pygments_lexer": "ipython3",
   "version": "3.5.2"
  }
 },
 "nbformat": 4,
 "nbformat_minor": 2
}
