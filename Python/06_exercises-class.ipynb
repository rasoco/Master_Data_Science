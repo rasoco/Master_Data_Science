{
 "cells": [
  {
   "cell_type": "markdown",
   "metadata": {},
   "source": [
    "-----------------------"
   ]
  },
  {
   "cell_type": "markdown",
   "metadata": {},
   "source": [
    "# Quick Exercises 2\n",
    "\n",
    "* Write a function to calculate the number of words, number of lines, and length of a string the same way the wc command does in the command line"
   ]
  },
  {
   "cell_type": "code",
   "execution_count": 1,
   "metadata": {},
   "outputs": [],
   "source": [
    "mytext = \"\"\"\n",
    "en un lugar de la mancha\n",
    "de cuyo nombre no quiero acordarme\n",
    "vivia don Pepito\n",
    "\"\"\""
   ]
  },
  {
   "cell_type": "code",
   "execution_count": 8,
   "metadata": {},
   "outputs": [
    {
     "data": {
      "text/plain": [
       "78"
      ]
     },
     "execution_count": 8,
     "metadata": {},
     "output_type": "execute_result"
    }
   ],
   "source": [
    "len(mytext)"
   ]
  },
  {
   "cell_type": "code",
   "execution_count": null,
   "metadata": {},
   "outputs": [],
   "source": [
    "mytext.sp"
   ]
  },
  {
   "cell_type": "code",
   "execution_count": null,
   "metadata": {},
   "outputs": [],
   "source": [
    "def wc(text)"
   ]
  },
  {
   "cell_type": "code",
   "execution_count": null,
   "metadata": {},
   "outputs": [],
   "source": []
  },
  {
   "cell_type": "code",
   "execution_count": null,
   "metadata": {},
   "outputs": [],
   "source": []
  },
  {
   "cell_type": "code",
   "execution_count": null,
   "metadata": {},
   "outputs": [],
   "source": []
  },
  {
   "cell_type": "code",
   "execution_count": 12,
   "metadata": {},
   "outputs": [
    {
     "name": "stdout",
     "output_type": "stream",
     "text": [
      "3 17 86\n",
      "None\n"
     ]
    }
   ],
   "source": [
    "def wc(string):\n",
    "    \n",
    "    lines = len(string.split('\\n'))\n",
    "    words = len(string.split(\" \"))\n",
    "    chars = len(string)\n",
    "            \n",
    "    print(lines, words, chars)\n",
    "\n",
    "quijote = '''En un lugar de la Mancha\n",
    "de cuyo nombre no quiero acordarme \n",
    "vivia un hidalgo etc etc '''\n",
    "\n",
    "result = wc(quijote) \n",
    "print(result)"
   ]
  },
  {
   "cell_type": "code",
   "execution_count": 13,
   "metadata": {},
   "outputs": [
    {
     "name": "stdout",
     "output_type": "stream",
     "text": [
      "(3, 17, 86)\n"
     ]
    },
    {
     "data": {
      "text/plain": [
       "5.666666666666667"
      ]
     },
     "execution_count": 13,
     "metadata": {},
     "output_type": "execute_result"
    }
   ],
   "source": [
    "def wc(string):\n",
    "    \n",
    "    lines = len(string.split('\\n'))\n",
    "    words = len(string.split())\n",
    "    chars = len(string)\n",
    "            \n",
    "    return lines, words, chars\n",
    "\n",
    "quijote = '''En un lugar de la Mancha\n",
    "de cuyo nombre no quiero acordarme \n",
    "vivia un hidalgo etc etc '''\n",
    "\n",
    "result = wc(quijote) \n",
    "print(result)\n",
    "l, w, c = result\n",
    "\n",
    "average_words = w / l\n",
    "average_words"
   ]
  },
  {
   "cell_type": "code",
   "execution_count": 117,
   "metadata": {},
   "outputs": [
    {
     "name": "stdout",
     "output_type": "stream",
     "text": [
      "(1, 3, 17)\n"
     ]
    }
   ],
   "source": [
    "def wc(x):\n",
    "    chars= 0\n",
    "    for char in x:\n",
    "        chars += 1\n",
    "    words=len(x.split())\n",
    "    lines=len(x.split(\"\\n\"))\n",
    "    return (lines, words, chars)\n",
    "\n",
    "print(wc('this is yogen.com'))\n"
   ]
  },
  {
   "cell_type": "markdown",
   "metadata": {},
   "source": [
    "-------"
   ]
  },
  {
   "cell_type": "markdown",
   "metadata": {},
   "source": [
    "* Write a Python program to remove the nth index character from a string. If the input string is empty print warning."
   ]
  },
  {
   "cell_type": "code",
   "execution_count": null,
   "metadata": {},
   "outputs": [],
   "source": []
  },
  {
   "cell_type": "code",
   "execution_count": null,
   "metadata": {},
   "outputs": [],
   "source": []
  },
  {
   "cell_type": "code",
   "execution_count": null,
   "metadata": {},
   "outputs": [],
   "source": []
  },
  {
   "cell_type": "code",
   "execution_count": 123,
   "metadata": {},
   "outputs": [
    {
     "name": "stdout",
     "output_type": "stream",
     "text": [
      "ython\n",
      "Pyton\n",
      "Pytho\n",
      "Python\n"
     ]
    }
   ],
   "source": [
    "def remove_char(str, n):\n",
    "    if not str:\n",
    "       print (\"String is empty\")\n",
    "       return\n",
    "    else:\n",
    "      first_part = str[:n] \n",
    "      last_pasrt = str[n+1:]\n",
    "      return first_part + last_pasrt\n",
    "\n",
    "print(remove_char('Python', 0))\n",
    "print(remove_char('Python', 3))\n",
    "print(remove_char('Python', 5))\n",
    "print(remove_char('Python', 15))"
   ]
  },
  {
   "cell_type": "code",
   "execution_count": 119,
   "metadata": {},
   "outputs": [
    {
     "name": "stdout",
     "output_type": "stream",
     "text": [
      "Warning\n"
     ]
    },
    {
     "data": {
      "text/plain": [
       "'Quijano'"
      ]
     },
     "execution_count": 119,
     "metadata": {},
     "output_type": "execute_result"
    }
   ],
   "source": [
    "def remove_char_at_n(string, n):\n",
    "    if len(string) == 0:\n",
    "        print('Warning')\n",
    "    else:\n",
    "        return string[:n] + string[n+1:]\n",
    "    \n",
    "remove_char_at_n('', 8)\n",
    "remove_char_at_n('Quijano', 19)"
   ]
  },
  {
   "cell_type": "markdown",
   "metadata": {},
   "source": [
    "--------"
   ]
  }
 ],
 "metadata": {
  "kernelspec": {
   "display_name": "Python 3",
   "language": "python",
   "name": "python3"
  },
  "language_info": {
   "codemirror_mode": {
    "name": "ipython",
    "version": 3
   },
   "file_extension": ".py",
   "mimetype": "text/x-python",
   "name": "python",
   "nbconvert_exporter": "python",
   "pygments_lexer": "ipython3",
   "version": "3.6.8"
  }
 },
 "nbformat": 4,
 "nbformat_minor": 2
}
