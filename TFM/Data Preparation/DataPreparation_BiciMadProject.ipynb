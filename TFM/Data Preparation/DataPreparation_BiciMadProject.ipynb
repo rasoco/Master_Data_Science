{
  "nbformat": 4,
  "nbformat_minor": 0,
  "metadata": {
    "colab": {
      "name": "DataPreparation_BiciMadProject.ipynb",
      "provenance": [],
      "collapsed_sections": [
        "Kt27eZcVj4mE",
        "wcVpoK8LC-Mw",
        "wyeAhlvSIlRt",
        "_GI-en_h1LIP",
        "G2Yhd0tFEX18",
        "CvtdUQdAq52W",
        "Vu9N1IbNlGP-",
        "8xqXxTxUNlw6",
        "rlNAF6PwEp3T",
        "hw_FMFpxFQAP"
      ],
      "machine_shape": "hm",
      "mount_file_id": "1bZyy1s9I6OK3LwzvIemm-qSjJq7EFbsh",
      "authorship_tag": "ABX9TyO5/3ddLnsc42AM3XTWf31g",
      "include_colab_link": true
    },
    "kernelspec": {
      "name": "python3",
      "display_name": "Python 3"
    },
    "accelerator": "GPU"
  },
  "cells": [
    {
      "cell_type": "markdown",
      "metadata": {
        "id": "view-in-github",
        "colab_type": "text"
      },
      "source": [
        "<a href=\"https://colab.research.google.com/github/rasoco/master_data_science/blob/master/TFM/Data%20Preparation/DataPreparation_BiciMadProject.ipynb\" target=\"_parent\"><img src=\"https://colab.research.google.com/assets/colab-badge.svg\" alt=\"Open In Colab\"/></a>"
      ]
    },
    {
      "cell_type": "markdown",
      "metadata": {
        "id": "wl7s-IUSV0OM",
        "colab_type": "text"
      },
      "source": [
        "# **BiciMad Project  - Master Data Science KSchool Ed.019**\n",
        "\n"
      ]
    },
    {
      "cell_type": "markdown",
      "metadata": {
        "id": "Kt27eZcVj4mE",
        "colab_type": "text"
      },
      "source": [
        "## Conect with GPU of Google \n",
        "\n"
      ]
    },
    {
      "cell_type": "code",
      "metadata": {
        "id": "qX2qjvr_SSnG",
        "colab_type": "code",
        "colab": {
          "base_uri": "https://localhost:8080/",
          "height": 0
        },
        "outputId": "b74ec09d-37d7-4306-848d-4ecafbf95d63"
      },
      "source": [
        "import tensorflow as tf\n",
        "device_name = tf.test.gpu_device_name()\n",
        "if device_name != '/device:GPU:0':\n",
        "  raise SystemError('GPU no encontrada')\n",
        "print('Encontrada GPU: {}'.format(device_name))"
      ],
      "execution_count": 1,
      "outputs": [
        {
          "output_type": "stream",
          "text": [
            "Encontrada GPU: /device:GPU:0\n"
          ],
          "name": "stdout"
        }
      ]
    },
    {
      "cell_type": "code",
      "metadata": {
        "id": "bjnRRYfKcQVB",
        "colab_type": "code",
        "colab": {}
      },
      "source": [
        "# !pip install -U -q PyDrive\n",
        "import os\n",
        "from pydrive.auth import GoogleAuth\n",
        "from pydrive.drive import GoogleDrive\n",
        "from google.colab import auth\n",
        "from oauth2client.client import GoogleCredentials"
      ],
      "execution_count": 2,
      "outputs": []
    },
    {
      "cell_type": "code",
      "metadata": {
        "id": "4N7cFaZTddpd",
        "colab_type": "code",
        "colab": {
          "base_uri": "https://localhost:8080/",
          "height": 0
        },
        "outputId": "6b74347b-b80c-4aaf-c117-e7647457d822"
      },
      "source": [
        "auth.authenticate_user()\n",
        "gauth = GoogleAuth()\n",
        "gauth.credentials = GoogleCredentials.get_application_default()\n",
        "drive = GoogleDrive(gauth)\n",
        "drive"
      ],
      "execution_count": 3,
      "outputs": [
        {
          "output_type": "execute_result",
          "data": {
            "text/plain": [
              "<pydrive.drive.GoogleDrive at 0x7f69ca985780>"
            ]
          },
          "metadata": {
            "tags": []
          },
          "execution_count": 3
        }
      ]
    },
    {
      "cell_type": "markdown",
      "metadata": {
        "id": "DSyhq1XvpNiP",
        "colab_type": "text"
      },
      "source": [
        "## Data Preparation"
      ]
    },
    {
      "cell_type": "markdown",
      "metadata": {
        "id": "wcVpoK8LC-Mw",
        "colab_type": "text"
      },
      "source": [
        "### Madrid Stations Dataset"
      ]
    },
    {
      "cell_type": "markdown",
      "metadata": {
        "id": "wyeAhlvSIlRt",
        "colab_type": "text"
      },
      "source": [
        "#### Load of the libraries\n"
      ]
    },
    {
      "cell_type": "code",
      "metadata": {
        "id": "vJGzbh_uGjpT",
        "colab_type": "code",
        "colab": {
          "base_uri": "https://localhost:8080/",
          "height": 0
        },
        "outputId": "f29f643d-b1f7-4fdc-e6b5-e5ee694c6ce2"
      },
      "source": [
        "import json\n",
        "import numpy as np\n",
        "import pandas as pd\n",
        "import matplotlib.pyplot as plt\n",
        "import seaborn as sns\n",
        "from datetime import datetime\n",
        "import folium # To display maps with coordinates and markers.\n",
        "import geopy # For geocoding and reverse geocoding.\n"
      ],
      "execution_count": 4,
      "outputs": [
        {
          "output_type": "stream",
          "text": [
            "/usr/local/lib/python3.6/dist-packages/statsmodels/tools/_testing.py:19: FutureWarning: pandas.util.testing is deprecated. Use the functions in the public API at pandas.testing instead.\n",
            "  import pandas.util.testing as tm\n"
          ],
          "name": "stderr"
        }
      ]
    },
    {
      "cell_type": "markdown",
      "metadata": {
        "id": "fb3RcvUCIa-1",
        "colab_type": "text"
      },
      "source": [
        "#### Load of the Madrid Stations dataset\n"
      ]
    },
    {
      "cell_type": "code",
      "metadata": {
        "id": "DFO4YE-0gKjW",
        "colab_type": "code",
        "colab": {
          "base_uri": "https://localhost:8080/",
          "height": 0
        },
        "outputId": "821026e4-6042-4b43-9bf9-d0e3868917b4"
      },
      "source": [
        "df = pd.read_csv(\"/content/drive/My Drive/Colab Notebooks/data/originalbikestations.csv\", sep=';', encoding='utf-8') #Firt all, active google Drive. Decimal is okey\n",
        "df.info()"
      ],
      "execution_count": 5,
      "outputs": [
        {
          "output_type": "stream",
          "text": [
            "<class 'pandas.core.frame.DataFrame'>\n",
            "RangeIndex: 216 entries, 0 to 215\n",
            "Data columns (total 14 columns):\n",
            " #   Column            Non-Null Count  Dtype  \n",
            "---  ------            --------------  -----  \n",
            " 0   Número            216 non-null    object \n",
            " 1   Gis_X             216 non-null    object \n",
            " 2   Gis_Y             216 non-null    object \n",
            " 3   Fecha de Alta     216 non-null    object \n",
            " 4   Distrito          216 non-null    object \n",
            " 5   Barrio            216 non-null    object \n",
            " 6   Calle             216 non-null    object \n",
            " 7   Nº Finca          216 non-null    object \n",
            " 8   Tipo de Reserva   216 non-null    object \n",
            " 9   Número de Plazas  216 non-null    int64  \n",
            " 10  Unnamed: 10       0 non-null      float64\n",
            " 11  LONGITUD          216 non-null    float64\n",
            " 12  LATITUD           216 non-null    float64\n",
            " 13  DIRECCION         216 non-null    object \n",
            "dtypes: float64(3), int64(1), object(10)\n",
            "memory usage: 23.8+ KB\n"
          ],
          "name": "stdout"
        }
      ]
    },
    {
      "cell_type": "code",
      "metadata": {
        "id": "tB7KlUoLMam9",
        "colab_type": "code",
        "colab": {}
      },
      "source": [
        "del df['Unnamed: 10']"
      ],
      "execution_count": 6,
      "outputs": []
    },
    {
      "cell_type": "code",
      "metadata": {
        "id": "Cvvd3wYjBjj5",
        "colab_type": "code",
        "colab": {
          "base_uri": "https://localhost:8080/",
          "height": 0
        },
        "outputId": "474f7125-6ab3-434e-f798-3c85b8863e45"
      },
      "source": [
        "df['Year'] = pd.DatetimeIndex(df['Fecha de Alta']).year\n",
        "year = df['Year']\n",
        "df = df.rename(columns = {'Número':'id','Número de Plazas':'Anclajes'}) #change de name of column Número\n",
        "df.head()"
      ],
      "execution_count": 7,
      "outputs": [
        {
          "output_type": "execute_result",
          "data": {
            "text/html": [
              "<div>\n",
              "<style scoped>\n",
              "    .dataframe tbody tr th:only-of-type {\n",
              "        vertical-align: middle;\n",
              "    }\n",
              "\n",
              "    .dataframe tbody tr th {\n",
              "        vertical-align: top;\n",
              "    }\n",
              "\n",
              "    .dataframe thead th {\n",
              "        text-align: right;\n",
              "    }\n",
              "</style>\n",
              "<table border=\"1\" class=\"dataframe\">\n",
              "  <thead>\n",
              "    <tr style=\"text-align: right;\">\n",
              "      <th></th>\n",
              "      <th>id</th>\n",
              "      <th>Gis_X</th>\n",
              "      <th>Gis_Y</th>\n",
              "      <th>Fecha de Alta</th>\n",
              "      <th>Distrito</th>\n",
              "      <th>Barrio</th>\n",
              "      <th>Calle</th>\n",
              "      <th>Nº Finca</th>\n",
              "      <th>Tipo de Reserva</th>\n",
              "      <th>Anclajes</th>\n",
              "      <th>LONGITUD</th>\n",
              "      <th>LATITUD</th>\n",
              "      <th>DIRECCION</th>\n",
              "      <th>Year</th>\n",
              "    </tr>\n",
              "  </thead>\n",
              "  <tbody>\n",
              "    <tr>\n",
              "      <th>0</th>\n",
              "      <td>001 a</td>\n",
              "      <td>440443,61</td>\n",
              "      <td>4474290,65</td>\n",
              "      <td>04/12/2019</td>\n",
              "      <td>01  CENTRO</td>\n",
              "      <td>01-06 SOL</td>\n",
              "      <td>ALCALA, CALLE, DE</td>\n",
              "      <td>2</td>\n",
              "      <td>BiciMAD</td>\n",
              "      <td>30</td>\n",
              "      <td>-3.701998</td>\n",
              "      <td>40.417111</td>\n",
              "      <td>CALLE DE ALCALA, 2</td>\n",
              "      <td>2019</td>\n",
              "    </tr>\n",
              "    <tr>\n",
              "      <th>1</th>\n",
              "      <td>001 b</td>\n",
              "      <td>440480,56</td>\n",
              "      <td>4474301,74</td>\n",
              "      <td>06/02/2020</td>\n",
              "      <td>01  CENTRO</td>\n",
              "      <td>01-06 SOL</td>\n",
              "      <td>ALCALA, CALLE, DE</td>\n",
              "      <td>6</td>\n",
              "      <td>BiciMAD</td>\n",
              "      <td>30</td>\n",
              "      <td>-3.701564</td>\n",
              "      <td>40.417213</td>\n",
              "      <td>CALLE DE ALCALA, 6</td>\n",
              "      <td>2020</td>\n",
              "    </tr>\n",
              "    <tr>\n",
              "      <th>2</th>\n",
              "      <td>2</td>\n",
              "      <td>440134,83</td>\n",
              "      <td>4474678,23</td>\n",
              "      <td>23/06/2014</td>\n",
              "      <td>01  CENTRO</td>\n",
              "      <td>01-05 UNIVERSIDAD</td>\n",
              "      <td>MIGUEL MOYA, CALLE, DE</td>\n",
              "      <td>1</td>\n",
              "      <td>BiciMAD</td>\n",
              "      <td>24</td>\n",
              "      <td>-3.705674</td>\n",
              "      <td>40.420580</td>\n",
              "      <td>CALLE DE MIGUEL MOYA, 1</td>\n",
              "      <td>2014</td>\n",
              "    </tr>\n",
              "    <tr>\n",
              "      <th>3</th>\n",
              "      <td>3</td>\n",
              "      <td>440012,98</td>\n",
              "      <td>4475760,68</td>\n",
              "      <td>23/06/2014</td>\n",
              "      <td>07  CHAMBERÍ</td>\n",
              "      <td>07-02 ARAPILES</td>\n",
              "      <td>CONDE DEL VALLE DE SUCHIL, PLAZA, DEL</td>\n",
              "      <td>2</td>\n",
              "      <td>BiciMAD</td>\n",
              "      <td>18</td>\n",
              "      <td>-3.707212</td>\n",
              "      <td>40.430323</td>\n",
              "      <td>PLAZA DEL CONDE DEL VALLE DE SUCHIL, 2</td>\n",
              "      <td>2014</td>\n",
              "    </tr>\n",
              "    <tr>\n",
              "      <th>4</th>\n",
              "      <td>4</td>\n",
              "      <td>440396,4</td>\n",
              "      <td>4475565,36</td>\n",
              "      <td>23/06/2014</td>\n",
              "      <td>01  CENTRO</td>\n",
              "      <td>01-05 UNIVERSIDAD</td>\n",
              "      <td>MANUELA MALASAÑA, CALLE, DE</td>\n",
              "      <td>3</td>\n",
              "      <td>BiciMAD</td>\n",
              "      <td>24</td>\n",
              "      <td>-3.702674</td>\n",
              "      <td>40.428591</td>\n",
              "      <td>CALLE DE MANUELA MALASAÑA, 3</td>\n",
              "      <td>2014</td>\n",
              "    </tr>\n",
              "  </tbody>\n",
              "</table>\n",
              "</div>"
            ],
            "text/plain": [
              "      id      Gis_X  ...                                DIRECCION  Year\n",
              "0  001 a  440443,61  ...                       CALLE DE ALCALA, 2  2019\n",
              "1  001 b  440480,56  ...                       CALLE DE ALCALA, 6  2020\n",
              "2      2  440134,83  ...                  CALLE DE MIGUEL MOYA, 1  2014\n",
              "3      3  440012,98  ...   PLAZA DEL CONDE DEL VALLE DE SUCHIL, 2  2014\n",
              "4      4   440396,4  ...             CALLE DE MANUELA MALASAÑA, 3  2014\n",
              "\n",
              "[5 rows x 14 columns]"
            ]
          },
          "metadata": {
            "tags": []
          },
          "execution_count": 7
        }
      ]
    },
    {
      "cell_type": "code",
      "metadata": {
        "id": "fjGXmnDFxh7i",
        "colab_type": "code",
        "colab": {
          "base_uri": "https://localhost:8080/",
          "height": 0
        },
        "outputId": "c194b8c2-56a4-4711-891a-682d449808dc"
      },
      "source": [
        "df.columns"
      ],
      "execution_count": 8,
      "outputs": [
        {
          "output_type": "execute_result",
          "data": {
            "text/plain": [
              "Index(['id', 'Gis_X', 'Gis_Y', 'Fecha de Alta', 'Distrito', 'Barrio', 'Calle',\n",
              "       'Nº Finca', 'Tipo de Reserva', 'Anclajes', 'LONGITUD', 'LATITUD',\n",
              "       'DIRECCION', 'Year'],\n",
              "      dtype='object')"
            ]
          },
          "metadata": {
            "tags": []
          },
          "execution_count": 8
        }
      ]
    },
    {
      "cell_type": "code",
      "metadata": {
        "id": "TcNOHRwJwuDI",
        "colab_type": "code",
        "colab": {
          "base_uri": "https://localhost:8080/",
          "height": 0
        },
        "outputId": "f88867c6-14da-451f-8c95-8d4377d86af2"
      },
      "source": [
        "df['ids'] = df['id'].str.rstrip('ampliacionb') #to get only number values\n",
        "# df_stations = df_stations[onlycolumns]\n",
        "df['ids'] = df['ids'].astype(int).sort_values() #change values ids and order\n",
        "df.head()"
      ],
      "execution_count": 9,
      "outputs": [
        {
          "output_type": "execute_result",
          "data": {
            "text/html": [
              "<div>\n",
              "<style scoped>\n",
              "    .dataframe tbody tr th:only-of-type {\n",
              "        vertical-align: middle;\n",
              "    }\n",
              "\n",
              "    .dataframe tbody tr th {\n",
              "        vertical-align: top;\n",
              "    }\n",
              "\n",
              "    .dataframe thead th {\n",
              "        text-align: right;\n",
              "    }\n",
              "</style>\n",
              "<table border=\"1\" class=\"dataframe\">\n",
              "  <thead>\n",
              "    <tr style=\"text-align: right;\">\n",
              "      <th></th>\n",
              "      <th>id</th>\n",
              "      <th>Gis_X</th>\n",
              "      <th>Gis_Y</th>\n",
              "      <th>Fecha de Alta</th>\n",
              "      <th>Distrito</th>\n",
              "      <th>Barrio</th>\n",
              "      <th>Calle</th>\n",
              "      <th>Nº Finca</th>\n",
              "      <th>Tipo de Reserva</th>\n",
              "      <th>Anclajes</th>\n",
              "      <th>LONGITUD</th>\n",
              "      <th>LATITUD</th>\n",
              "      <th>DIRECCION</th>\n",
              "      <th>Year</th>\n",
              "      <th>ids</th>\n",
              "    </tr>\n",
              "  </thead>\n",
              "  <tbody>\n",
              "    <tr>\n",
              "      <th>0</th>\n",
              "      <td>001 a</td>\n",
              "      <td>440443,61</td>\n",
              "      <td>4474290,65</td>\n",
              "      <td>04/12/2019</td>\n",
              "      <td>01  CENTRO</td>\n",
              "      <td>01-06 SOL</td>\n",
              "      <td>ALCALA, CALLE, DE</td>\n",
              "      <td>2</td>\n",
              "      <td>BiciMAD</td>\n",
              "      <td>30</td>\n",
              "      <td>-3.701998</td>\n",
              "      <td>40.417111</td>\n",
              "      <td>CALLE DE ALCALA, 2</td>\n",
              "      <td>2019</td>\n",
              "      <td>1</td>\n",
              "    </tr>\n",
              "    <tr>\n",
              "      <th>1</th>\n",
              "      <td>001 b</td>\n",
              "      <td>440480,56</td>\n",
              "      <td>4474301,74</td>\n",
              "      <td>06/02/2020</td>\n",
              "      <td>01  CENTRO</td>\n",
              "      <td>01-06 SOL</td>\n",
              "      <td>ALCALA, CALLE, DE</td>\n",
              "      <td>6</td>\n",
              "      <td>BiciMAD</td>\n",
              "      <td>30</td>\n",
              "      <td>-3.701564</td>\n",
              "      <td>40.417213</td>\n",
              "      <td>CALLE DE ALCALA, 6</td>\n",
              "      <td>2020</td>\n",
              "      <td>1</td>\n",
              "    </tr>\n",
              "    <tr>\n",
              "      <th>2</th>\n",
              "      <td>2</td>\n",
              "      <td>440134,83</td>\n",
              "      <td>4474678,23</td>\n",
              "      <td>23/06/2014</td>\n",
              "      <td>01  CENTRO</td>\n",
              "      <td>01-05 UNIVERSIDAD</td>\n",
              "      <td>MIGUEL MOYA, CALLE, DE</td>\n",
              "      <td>1</td>\n",
              "      <td>BiciMAD</td>\n",
              "      <td>24</td>\n",
              "      <td>-3.705674</td>\n",
              "      <td>40.420580</td>\n",
              "      <td>CALLE DE MIGUEL MOYA, 1</td>\n",
              "      <td>2014</td>\n",
              "      <td>2</td>\n",
              "    </tr>\n",
              "    <tr>\n",
              "      <th>3</th>\n",
              "      <td>3</td>\n",
              "      <td>440012,98</td>\n",
              "      <td>4475760,68</td>\n",
              "      <td>23/06/2014</td>\n",
              "      <td>07  CHAMBERÍ</td>\n",
              "      <td>07-02 ARAPILES</td>\n",
              "      <td>CONDE DEL VALLE DE SUCHIL, PLAZA, DEL</td>\n",
              "      <td>2</td>\n",
              "      <td>BiciMAD</td>\n",
              "      <td>18</td>\n",
              "      <td>-3.707212</td>\n",
              "      <td>40.430323</td>\n",
              "      <td>PLAZA DEL CONDE DEL VALLE DE SUCHIL, 2</td>\n",
              "      <td>2014</td>\n",
              "      <td>3</td>\n",
              "    </tr>\n",
              "    <tr>\n",
              "      <th>4</th>\n",
              "      <td>4</td>\n",
              "      <td>440396,4</td>\n",
              "      <td>4475565,36</td>\n",
              "      <td>23/06/2014</td>\n",
              "      <td>01  CENTRO</td>\n",
              "      <td>01-05 UNIVERSIDAD</td>\n",
              "      <td>MANUELA MALASAÑA, CALLE, DE</td>\n",
              "      <td>3</td>\n",
              "      <td>BiciMAD</td>\n",
              "      <td>24</td>\n",
              "      <td>-3.702674</td>\n",
              "      <td>40.428591</td>\n",
              "      <td>CALLE DE MANUELA MALASAÑA, 3</td>\n",
              "      <td>2014</td>\n",
              "      <td>4</td>\n",
              "    </tr>\n",
              "  </tbody>\n",
              "</table>\n",
              "</div>"
            ],
            "text/plain": [
              "      id      Gis_X  ...  Year ids\n",
              "0  001 a  440443,61  ...  2019   1\n",
              "1  001 b  440480,56  ...  2020   1\n",
              "2      2  440134,83  ...  2014   2\n",
              "3      3  440012,98  ...  2014   3\n",
              "4      4   440396,4  ...  2014   4\n",
              "\n",
              "[5 rows x 15 columns]"
            ]
          },
          "metadata": {
            "tags": []
          },
          "execution_count": 9
        }
      ]
    },
    {
      "cell_type": "code",
      "metadata": {
        "id": "vRHeq_uDfLH7",
        "colab_type": "code",
        "colab": {
          "base_uri": "https://localhost:8080/",
          "height": 0
        },
        "outputId": "1502ab26-49c3-44a3-8074-16cca8b4f90f"
      },
      "source": [
        "df['ids'].unique()"
      ],
      "execution_count": 10,
      "outputs": [
        {
          "output_type": "execute_result",
          "data": {
            "text/plain": [
              "array([  1,   2,   3,   4,   5,   6,   7,   8,   9,  10,  11,  12,  13,\n",
              "        14,  15,  16,  17,  18,  19,  20,  22,  23,  24,  25,  26,  27,\n",
              "        29,  30,  31,  32,  33,  34,  35,  36,  37,  38,  39,  40,  41,\n",
              "        42,  43,  44,  45,  46,  47,  48,  49,  50,  51,  52,  53,  54,\n",
              "        55,  56,  57,  58,  59,  60,  61,  62,  63,  65,  67,  68,  69,\n",
              "        70,  71,  72,  73,  74,  75,  76,  77,  78,  79,  80,  81,  82,\n",
              "        83,  84,  85,  86,  87,  88,  89,  90,  91,  92,  93,  94,  95,\n",
              "        96,  97,  98,  99, 100, 101, 102, 103, 104, 105, 106, 107, 108,\n",
              "       109, 110, 111, 112, 113, 114, 115, 116, 117, 118, 119, 120, 121,\n",
              "       122, 123, 124, 125, 126, 127, 128, 129, 130, 131, 132, 133, 134,\n",
              "       135, 136, 137, 138, 139, 140, 141, 142, 143, 144, 145, 146, 147,\n",
              "       148, 149, 150, 151, 152, 153, 154, 155, 156, 157, 158, 159, 160,\n",
              "       161, 162, 163, 164, 165, 166, 167, 168, 169, 170, 171, 172, 173,\n",
              "       174, 175, 176, 177, 178, 179, 180, 181, 182, 183, 184, 185, 186,\n",
              "       187, 188, 189, 190, 191, 192, 193, 194, 195, 196, 197, 198, 199,\n",
              "       200, 201, 202, 203, 204, 205, 206, 207, 208, 209, 210, 211])"
            ]
          },
          "metadata": {
            "tags": []
          },
          "execution_count": 10
        }
      ]
    },
    {
      "cell_type": "markdown",
      "metadata": {
        "id": "_GI-en_h1LIP",
        "colab_type": "text"
      },
      "source": [
        "#### Only Stations 2019"
      ]
    },
    {
      "cell_type": "code",
      "metadata": {
        "id": "Y-EC8y7KygRs",
        "colab_type": "code",
        "colab": {
          "base_uri": "https://localhost:8080/",
          "height": 0
        },
        "outputId": "cf4bfe48-1f81-4dea-fcd8-f0b247f2b493"
      },
      "source": [
        "stations_2019 = df[df['Year'] <= 2019] #save the 2019 stations data for use to jan18\n",
        "stations_2019['idunplug_station'] = stations_2019['ids']\n",
        "stations_2019['idplug_station'] = stations_2019['ids']\n"
      ],
      "execution_count": 11,
      "outputs": [
        {
          "output_type": "stream",
          "text": [
            "/usr/local/lib/python3.6/dist-packages/ipykernel_launcher.py:2: SettingWithCopyWarning: \n",
            "A value is trying to be set on a copy of a slice from a DataFrame.\n",
            "Try using .loc[row_indexer,col_indexer] = value instead\n",
            "\n",
            "See the caveats in the documentation: https://pandas.pydata.org/pandas-docs/stable/user_guide/indexing.html#returning-a-view-versus-a-copy\n",
            "  \n",
            "/usr/local/lib/python3.6/dist-packages/ipykernel_launcher.py:3: SettingWithCopyWarning: \n",
            "A value is trying to be set on a copy of a slice from a DataFrame.\n",
            "Try using .loc[row_indexer,col_indexer] = value instead\n",
            "\n",
            "See the caveats in the documentation: https://pandas.pydata.org/pandas-docs/stable/user_guide/indexing.html#returning-a-view-versus-a-copy\n",
            "  This is separate from the ipykernel package so we can avoid doing imports until\n"
          ],
          "name": "stderr"
        }
      ]
    },
    {
      "cell_type": "markdown",
      "metadata": {
        "id": "G2Yhd0tFEX18",
        "colab_type": "text"
      },
      "source": [
        "### January 18 BiciMad Dataset"
      ]
    },
    {
      "cell_type": "markdown",
      "metadata": {
        "id": "CvtdUQdAq52W",
        "colab_type": "text"
      },
      "source": [
        "#### Load of Libraries"
      ]
    },
    {
      "cell_type": "code",
      "metadata": {
        "id": "XxxXLZLJq2W-",
        "colab_type": "code",
        "colab": {}
      },
      "source": [
        "import json\n",
        "import numpy as np\n",
        "import pandas as pd\n",
        "import matplotlib.pyplot as plt\n",
        "import seaborn as sns\n",
        "import statsmodels.api as sm\n",
        "import sklearn "
      ],
      "execution_count": 12,
      "outputs": []
    },
    {
      "cell_type": "markdown",
      "metadata": {
        "id": "k7FXhxUMPNKZ",
        "colab_type": "text"
      },
      "source": [
        "#### Acquiring data"
      ]
    },
    {
      "cell_type": "code",
      "metadata": {
        "id": "tzKTtsBwPBQe",
        "colab_type": "code",
        "colab": {}
      },
      "source": [
        "downloaded = drive.CreateFile({'id':'1dBJtPkHMvyF5Pmeu-w8z-Y91smROB_6b'})\n",
        "downloaded.GetContentFile('jan18.json')\n",
        "# downloaded.GetContentFile('jan18_clean.json')"
      ],
      "execution_count": 13,
      "outputs": []
    },
    {
      "cell_type": "code",
      "metadata": {
        "id": "MwzOUVlePF9D",
        "colab_type": "code",
        "colab": {
          "base_uri": "https://localhost:8080/",
          "height": 33
        },
        "outputId": "5e8d80f9-44cc-4723-d0ef-ecb521feda85"
      },
      "source": [
        "print(os.getcwd)"
      ],
      "execution_count": 14,
      "outputs": [
        {
          "output_type": "stream",
          "text": [
            "<built-in function getcwd>\n"
          ],
          "name": "stdout"
        }
      ]
    },
    {
      "cell_type": "markdown",
      "metadata": {
        "id": "PASGSChdPUbq",
        "colab_type": "text"
      },
      "source": [
        "#### Reading data"
      ]
    },
    {
      "cell_type": "code",
      "metadata": {
        "colab_type": "code",
        "id": "kv-Reuxuogzl",
        "colab": {}
      },
      "source": [
        "jan18 = pd.read_json(\"jan18.json\",encoding=\"utf-8\", lines=True, dtype='frame')# open de file"
      ],
      "execution_count": 15,
      "outputs": []
    },
    {
      "cell_type": "code",
      "metadata": {
        "id": "cicS63wp7yZR",
        "colab_type": "code",
        "colab": {
          "base_uri": "https://localhost:8080/",
          "height": 310
        },
        "outputId": "216e46b8-4141-4273-df6e-cbf21e76750d"
      },
      "source": [
        "jan18.info()"
      ],
      "execution_count": 16,
      "outputs": [
        {
          "output_type": "stream",
          "text": [
            "<class 'pandas.core.frame.DataFrame'>\n",
            "RangeIndex: 263702 entries, 0 to 263701\n",
            "Data columns (total 11 columns):\n",
            " #   Column            Non-Null Count   Dtype \n",
            "---  ------            --------------   ----- \n",
            " 0   _id               263702 non-null  object\n",
            " 1   user_day_code     263702 non-null  object\n",
            " 2   idplug_base       263702 non-null  int64 \n",
            " 3   user_type         263702 non-null  int64 \n",
            " 4   idunplug_base     263702 non-null  int64 \n",
            " 5   travel_time       263702 non-null  int64 \n",
            " 6   idunplug_station  263702 non-null  int64 \n",
            " 7   ageRange          263702 non-null  int64 \n",
            " 8   idplug_station    263702 non-null  int64 \n",
            " 9   unplug_hourTime   263702 non-null  object\n",
            " 10  zip_code          263702 non-null  object\n",
            "dtypes: int64(7), object(4)\n",
            "memory usage: 22.1+ MB\n"
          ],
          "name": "stdout"
        }
      ]
    },
    {
      "cell_type": "code",
      "metadata": {
        "id": "8jhNnWJ4Jqjd",
        "colab_type": "code",
        "colab": {}
      },
      "source": [
        "# Save of position in _id column \n",
        "position = dict(enumerate(jan18['_id'].values))\n",
        "position\n",
        "type(position)\n",
        "ids = []\n",
        "# Save of values in its position \n",
        "ids = []\n",
        "for d, v in position.items():\n",
        "    ids += list(v.values())\n",
        "#Save in the column _id\n",
        "jan18['_id'] = ids "
      ],
      "execution_count": 17,
      "outputs": []
    },
    {
      "cell_type": "code",
      "metadata": {
        "id": "kWEs2ayApbO0",
        "colab_type": "code",
        "colab": {}
      },
      "source": [
        "na_columns = ['_id', 'user_day_code', 'idunplug_station', 'idunplug_base', 'idplug_station', 'idplug_base',\n",
        "   'user_type','travel_time','unplug_hourTime', 'ageRange', 'zip_code']\n",
        "jan18 = jan18[na_columns]\n",
        "jan18 = jan18.rename(columns = {'_id':'id'})\n",
        "\n",
        "# jan18.columns = ['_id', 'user_day_code', 'idunplug_base','idunplug_station','idplug_base', 'idplug_station',\n",
        "#        'user_type','travel_time','unplug_hourTime', 'ageRange', 'zip_code']"
      ],
      "execution_count": 18,
      "outputs": []
    },
    {
      "cell_type": "code",
      "metadata": {
        "id": "SgXw-TwyDDPR",
        "colab_type": "code",
        "colab": {}
      },
      "source": [
        "# jan18.to_csv('jan18_clean.csv') # to save the dataset"
      ],
      "execution_count": 19,
      "outputs": []
    },
    {
      "cell_type": "code",
      "metadata": {
        "id": "Ag0uOtRppChW",
        "colab_type": "code",
        "colab": {
          "base_uri": "https://localhost:8080/",
          "height": 573
        },
        "outputId": "71ca2662-37e1-4461-f1c1-c5f31bb022f8"
      },
      "source": [
        "jan18.head(1000)"
      ],
      "execution_count": 20,
      "outputs": [
        {
          "output_type": "execute_result",
          "data": {
            "text/html": [
              "<div>\n",
              "<style scoped>\n",
              "    .dataframe tbody tr th:only-of-type {\n",
              "        vertical-align: middle;\n",
              "    }\n",
              "\n",
              "    .dataframe tbody tr th {\n",
              "        vertical-align: top;\n",
              "    }\n",
              "\n",
              "    .dataframe thead th {\n",
              "        text-align: right;\n",
              "    }\n",
              "</style>\n",
              "<table border=\"1\" class=\"dataframe\">\n",
              "  <thead>\n",
              "    <tr style=\"text-align: right;\">\n",
              "      <th></th>\n",
              "      <th>id</th>\n",
              "      <th>user_day_code</th>\n",
              "      <th>idunplug_station</th>\n",
              "      <th>idunplug_base</th>\n",
              "      <th>idplug_station</th>\n",
              "      <th>idplug_base</th>\n",
              "      <th>user_type</th>\n",
              "      <th>travel_time</th>\n",
              "      <th>unplug_hourTime</th>\n",
              "      <th>ageRange</th>\n",
              "      <th>zip_code</th>\n",
              "    </tr>\n",
              "  </thead>\n",
              "  <tbody>\n",
              "    <tr>\n",
              "      <th>0</th>\n",
              "      <td>5a505acd2f384319304ed614</td>\n",
              "      <td>b00665a845be18ed9f036c2d72def1ef2fa2c49365cb64...</td>\n",
              "      <td>6</td>\n",
              "      <td>14</td>\n",
              "      <td>7</td>\n",
              "      <td>1</td>\n",
              "      <td>1</td>\n",
              "      <td>284</td>\n",
              "      <td>{'$date': '2018-01-01T00:00:00.000+0100'}</td>\n",
              "      <td>5</td>\n",
              "      <td>28010</td>\n",
              "    </tr>\n",
              "    <tr>\n",
              "      <th>1</th>\n",
              "      <td>5a505acd2f384319304ed615</td>\n",
              "      <td>65a82ac6353d9e8b25c17a49bb46d09426757b40946370...</td>\n",
              "      <td>24</td>\n",
              "      <td>21</td>\n",
              "      <td>117</td>\n",
              "      <td>4</td>\n",
              "      <td>1</td>\n",
              "      <td>666</td>\n",
              "      <td>{'$date': '2018-01-01T00:00:00.000+0100'}</td>\n",
              "      <td>0</td>\n",
              "      <td></td>\n",
              "    </tr>\n",
              "    <tr>\n",
              "      <th>2</th>\n",
              "      <td>5a505acd2f384319304ed616</td>\n",
              "      <td>51b7da733980586e1f847b61cc4af9c0268fc2d09df63e...</td>\n",
              "      <td>24</td>\n",
              "      <td>19</td>\n",
              "      <td>117</td>\n",
              "      <td>19</td>\n",
              "      <td>1</td>\n",
              "      <td>662</td>\n",
              "      <td>{'$date': '2018-01-01T00:00:00.000+0100'}</td>\n",
              "      <td>0</td>\n",
              "      <td></td>\n",
              "    </tr>\n",
              "    <tr>\n",
              "      <th>3</th>\n",
              "      <td>5a505acd2f384319304ed617</td>\n",
              "      <td>0af09bb0e23045fb7328123044822a0eb9cf154d644a96...</td>\n",
              "      <td>82</td>\n",
              "      <td>2</td>\n",
              "      <td>110</td>\n",
              "      <td>1</td>\n",
              "      <td>1</td>\n",
              "      <td>708</td>\n",
              "      <td>{'$date': '2018-01-01T00:00:00.000+0100'}</td>\n",
              "      <td>3</td>\n",
              "      <td>28005</td>\n",
              "    </tr>\n",
              "    <tr>\n",
              "      <th>4</th>\n",
              "      <td>5a505acd2f384319304ed619</td>\n",
              "      <td>500e6780660a1fb237f8e5410992296141a46b141ed3ff...</td>\n",
              "      <td>169</td>\n",
              "      <td>3</td>\n",
              "      <td>58</td>\n",
              "      <td>5</td>\n",
              "      <td>1</td>\n",
              "      <td>171</td>\n",
              "      <td>{'$date': '2018-01-01T00:00:00.000+0100'}</td>\n",
              "      <td>4</td>\n",
              "      <td>28004</td>\n",
              "    </tr>\n",
              "    <tr>\n",
              "      <th>...</th>\n",
              "      <td>...</td>\n",
              "      <td>...</td>\n",
              "      <td>...</td>\n",
              "      <td>...</td>\n",
              "      <td>...</td>\n",
              "      <td>...</td>\n",
              "      <td>...</td>\n",
              "      <td>...</td>\n",
              "      <td>...</td>\n",
              "      <td>...</td>\n",
              "      <td>...</td>\n",
              "    </tr>\n",
              "    <tr>\n",
              "      <th>995</th>\n",
              "      <td>5a505ad12f384319304eda71</td>\n",
              "      <td>9a81bb7bb1387b1f8b8b1a7aa6ca1480bce52f9f200017...</td>\n",
              "      <td>17</td>\n",
              "      <td>13</td>\n",
              "      <td>149</td>\n",
              "      <td>1</td>\n",
              "      <td>1</td>\n",
              "      <td>521</td>\n",
              "      <td>{'$date': '2018-01-01T06:00:00.000+0100'}</td>\n",
              "      <td>4</td>\n",
              "      <td>28003</td>\n",
              "    </tr>\n",
              "    <tr>\n",
              "      <th>996</th>\n",
              "      <td>5a505ad12f384319304eda73</td>\n",
              "      <td>1720f4676d55c2dff9707ad03792e832943de8c20faa27...</td>\n",
              "      <td>166</td>\n",
              "      <td>24</td>\n",
              "      <td>103</td>\n",
              "      <td>23</td>\n",
              "      <td>1</td>\n",
              "      <td>338</td>\n",
              "      <td>{'$date': '2018-01-01T06:00:00.000+0100'}</td>\n",
              "      <td>3</td>\n",
              "      <td>28009</td>\n",
              "    </tr>\n",
              "    <tr>\n",
              "      <th>997</th>\n",
              "      <td>5a505ad12f384319304eda72</td>\n",
              "      <td>8c088f94ff94c5dbed094c45f7e80210a13910017a0b49...</td>\n",
              "      <td>5</td>\n",
              "      <td>19</td>\n",
              "      <td>170</td>\n",
              "      <td>3</td>\n",
              "      <td>1</td>\n",
              "      <td>1113</td>\n",
              "      <td>{'$date': '2018-01-01T06:00:00.000+0100'}</td>\n",
              "      <td>0</td>\n",
              "      <td></td>\n",
              "    </tr>\n",
              "    <tr>\n",
              "      <th>998</th>\n",
              "      <td>5a505ad12f384319304eda74</td>\n",
              "      <td>7bf4c6de14f6289c6fb33663b93fa5f723a7fc5a080e6e...</td>\n",
              "      <td>14</td>\n",
              "      <td>22</td>\n",
              "      <td>26</td>\n",
              "      <td>3</td>\n",
              "      <td>1</td>\n",
              "      <td>341</td>\n",
              "      <td>{'$date': '2018-01-01T06:00:00.000+0100'}</td>\n",
              "      <td>4</td>\n",
              "      <td>28001</td>\n",
              "    </tr>\n",
              "    <tr>\n",
              "      <th>999</th>\n",
              "      <td>5a505ad12f384319304eda75</td>\n",
              "      <td>d7cbddfef4316f6b77765a88b79a6955a1fc7daf8d3a13...</td>\n",
              "      <td>151</td>\n",
              "      <td>22</td>\n",
              "      <td>81</td>\n",
              "      <td>12</td>\n",
              "      <td>1</td>\n",
              "      <td>1320</td>\n",
              "      <td>{'$date': '2018-01-01T06:00:00.000+0100'}</td>\n",
              "      <td>2</td>\n",
              "      <td>28007</td>\n",
              "    </tr>\n",
              "  </tbody>\n",
              "</table>\n",
              "<p>1000 rows × 11 columns</p>\n",
              "</div>"
            ],
            "text/plain": [
              "                           id  ... zip_code\n",
              "0    5a505acd2f384319304ed614  ...    28010\n",
              "1    5a505acd2f384319304ed615  ...         \n",
              "2    5a505acd2f384319304ed616  ...         \n",
              "3    5a505acd2f384319304ed617  ...    28005\n",
              "4    5a505acd2f384319304ed619  ...    28004\n",
              "..                        ...  ...      ...\n",
              "995  5a505ad12f384319304eda71  ...    28003\n",
              "996  5a505ad12f384319304eda73  ...    28009\n",
              "997  5a505ad12f384319304eda72  ...         \n",
              "998  5a505ad12f384319304eda74  ...    28001\n",
              "999  5a505ad12f384319304eda75  ...    28007\n",
              "\n",
              "[1000 rows x 11 columns]"
            ]
          },
          "metadata": {
            "tags": []
          },
          "execution_count": 20
        }
      ]
    },
    {
      "cell_type": "code",
      "metadata": {
        "id": "k-A8VCvJqd0X",
        "colab_type": "code",
        "colab": {}
      },
      "source": [
        "# jan18[jan18['idplug_station'] == 2008] #show the result"
      ],
      "execution_count": 21,
      "outputs": []
    },
    {
      "cell_type": "code",
      "metadata": {
        "id": "Sxik9fGN343t",
        "colab_type": "code",
        "colab": {}
      },
      "source": [
        "jan18 = jan18.drop(jan18[jan18.idplug_station == 2008].index) #deleting values 2008"
      ],
      "execution_count": 22,
      "outputs": []
    },
    {
      "cell_type": "code",
      "metadata": {
        "id": "Nha19m_oOtn-",
        "colab_type": "code",
        "colab": {
          "base_uri": "https://localhost:8080/",
          "height": 212
        },
        "outputId": "2ae9773c-c31e-444b-9cba-10368f9a67da"
      },
      "source": [
        "jan18.isna().sum()"
      ],
      "execution_count": 23,
      "outputs": [
        {
          "output_type": "execute_result",
          "data": {
            "text/plain": [
              "id                  0\n",
              "user_day_code       0\n",
              "idunplug_station    0\n",
              "idunplug_base       0\n",
              "idplug_station      0\n",
              "idplug_base         0\n",
              "user_type           0\n",
              "travel_time         0\n",
              "unplug_hourTime     0\n",
              "ageRange            0\n",
              "zip_code            0\n",
              "dtype: int64"
            ]
          },
          "metadata": {
            "tags": []
          },
          "execution_count": 23
        }
      ]
    },
    {
      "cell_type": "code",
      "metadata": {
        "id": "B9ic7oXPf3IU",
        "colab_type": "code",
        "colab": {
          "base_uri": "https://localhost:8080/",
          "height": 33
        },
        "outputId": "9f150737-ebd8-4f0f-a697-89c7bb654075"
      },
      "source": [
        "# About null \n",
        "jan18.isnull().sum().sum()"
      ],
      "execution_count": 24,
      "outputs": [
        {
          "output_type": "execute_result",
          "data": {
            "text/plain": [
              "0"
            ]
          },
          "metadata": {
            "tags": []
          },
          "execution_count": 24
        }
      ]
    },
    {
      "cell_type": "markdown",
      "metadata": {
        "id": "Vu9N1IbNlGP-",
        "colab_type": "text"
      },
      "source": [
        "### Unification processing Dataset (Jan18 and Stations_2019)"
      ]
    },
    {
      "cell_type": "markdown",
      "metadata": {
        "id": "8xqXxTxUNlw6",
        "colab_type": "text"
      },
      "source": [
        "#### Unified process"
      ]
    },
    {
      "cell_type": "code",
      "metadata": {
        "id": "qYgUMb-PG-Lp",
        "colab_type": "code",
        "colab": {}
      },
      "source": [
        "new_dataset = pd.merge(jan18, stations_2019, on='idunplug_station')\n",
        "new_dataset = new_dataset.rename(columns={'Gis_X':'Gis_Xidunplug',\n",
        "       'Gis_Y':'Gis_Yidunplug', 'Fecha de Alta':'Fecha de Alta_idunplug', 'Distrito':'Distrito_idunplug', 'Barrio':'Barrio_idunplug', 'Calle':'Calle_idunplug', 'Nº Finca':'Nº Finca_idunplug',\n",
        "        'Anclajes':'Anclajes_idunplug', 'Longitud':'Longitud_idunplug', 'Latitud':'Latitud_idunplug', 'DIRECCION':'DIRECCION_idunplug',\n",
        "       'Year':'Year_idunplug', 'Locationlist':'Locationlist_idunplug', 'X':'X_idunplug', 'Y':'Y_idunplug'}) #change de name of the columns\n",
        "\n",
        "del new_dataset['ids']\n",
        "another_dataset = pd.merge(jan18,stations_2019, on = 'idplug_station')\n",
        "\n",
        "another_dataset = another_dataset.rename(columns={'Gis_X':'Gis_Xidplug',\n",
        "       'Gis_Y':'Gis_Yidplug', 'Fecha de Alta':'Fecha de Alta_idplug', 'Distrito':'Distrito_idplug', 'Barrio':'Barrio_idplug', 'Calle':'Calle_idplug', 'Nº Finca':'Nº Finca_idplug',\n",
        "        'Anclajes':'Anclajes_idplug', 'Longitud':'Longitud_idplug', 'Latitud':'Latitud_idplug', 'DIRECCION':'DIRECCION_idplug',\n",
        "       'Year':'Year_idplug', 'Locationlist':'Locationlist_idplug', 'X':'X_idplug', 'Y':'Y_idplug'})\n",
        "del another_dataset['ids']\n",
        "\n",
        "another_dataset.to_csv(\"another_dataset\")\n",
        "new_dataset.to_csv(\"new_dataset\")# to save\n",
        "new_dataset = pd.merge(jan18, stations_2019, on='idunplug_station') #join jan18 and stations_2019 using idunplug_station\n",
        "\n",
        "join_data = pd.merge(new_dataset, another_dataset, on=['user_day_code'])"
      ],
      "execution_count": 25,
      "outputs": []
    },
    {
      "cell_type": "code",
      "metadata": {
        "id": "VhjWO4sNyy0D",
        "colab_type": "code",
        "colab": {
          "base_uri": "https://localhost:8080/",
          "height": 173
        },
        "outputId": "a529358c-55ac-4ea6-fc0e-c4315bd5e774"
      },
      "source": [
        "# another_dataset = pd.merge(jan18,stations_2019, on = 'idplug_station', indicator=True, how='left') #que tipo de merge hace en cada fila \n",
        "another_dataset.head(2)"
      ],
      "execution_count": 26,
      "outputs": [
        {
          "output_type": "execute_result",
          "data": {
            "text/html": [
              "<div>\n",
              "<style scoped>\n",
              "    .dataframe tbody tr th:only-of-type {\n",
              "        vertical-align: middle;\n",
              "    }\n",
              "\n",
              "    .dataframe tbody tr th {\n",
              "        vertical-align: top;\n",
              "    }\n",
              "\n",
              "    .dataframe thead th {\n",
              "        text-align: right;\n",
              "    }\n",
              "</style>\n",
              "<table border=\"1\" class=\"dataframe\">\n",
              "  <thead>\n",
              "    <tr style=\"text-align: right;\">\n",
              "      <th></th>\n",
              "      <th>id_x</th>\n",
              "      <th>user_day_code</th>\n",
              "      <th>idunplug_station_x</th>\n",
              "      <th>idunplug_base</th>\n",
              "      <th>idplug_station</th>\n",
              "      <th>idplug_base</th>\n",
              "      <th>user_type</th>\n",
              "      <th>travel_time</th>\n",
              "      <th>unplug_hourTime</th>\n",
              "      <th>ageRange</th>\n",
              "      <th>zip_code</th>\n",
              "      <th>id_y</th>\n",
              "      <th>Gis_Xidplug</th>\n",
              "      <th>Gis_Yidplug</th>\n",
              "      <th>Fecha de Alta_idplug</th>\n",
              "      <th>Distrito_idplug</th>\n",
              "      <th>Barrio_idplug</th>\n",
              "      <th>Calle_idplug</th>\n",
              "      <th>Nº Finca_idplug</th>\n",
              "      <th>Tipo de Reserva</th>\n",
              "      <th>Anclajes_idplug</th>\n",
              "      <th>LONGITUD</th>\n",
              "      <th>LATITUD</th>\n",
              "      <th>DIRECCION_idplug</th>\n",
              "      <th>Year_idplug</th>\n",
              "      <th>idunplug_station_y</th>\n",
              "    </tr>\n",
              "  </thead>\n",
              "  <tbody>\n",
              "    <tr>\n",
              "      <th>0</th>\n",
              "      <td>5a505acd2f384319304ed614</td>\n",
              "      <td>b00665a845be18ed9f036c2d72def1ef2fa2c49365cb64...</td>\n",
              "      <td>6</td>\n",
              "      <td>14</td>\n",
              "      <td>7</td>\n",
              "      <td>1</td>\n",
              "      <td>1</td>\n",
              "      <td>284</td>\n",
              "      <td>{'$date': '2018-01-01T00:00:00.000+0100'}</td>\n",
              "      <td>5</td>\n",
              "      <td>28010</td>\n",
              "      <td>7</td>\n",
              "      <td>440811,97</td>\n",
              "      <td>4475187,49</td>\n",
              "      <td>23/06/2014</td>\n",
              "      <td>01  CENTRO</td>\n",
              "      <td>01-04 JUSTICIA</td>\n",
              "      <td>HORTALEZA, CALLE, DE</td>\n",
              "      <td>75</td>\n",
              "      <td>BiciMAD</td>\n",
              "      <td>21</td>\n",
              "      <td>-3.69774</td>\n",
              "      <td>40.425216</td>\n",
              "      <td>CALLE DE HORTALEZA, 75</td>\n",
              "      <td>2014</td>\n",
              "      <td>7</td>\n",
              "    </tr>\n",
              "    <tr>\n",
              "      <th>1</th>\n",
              "      <td>5a505acf2f384319304ed839</td>\n",
              "      <td>9ff0154193786639eb616b117c1074bcdd2f3c816bd2e4...</td>\n",
              "      <td>166</td>\n",
              "      <td>8</td>\n",
              "      <td>7</td>\n",
              "      <td>10</td>\n",
              "      <td>1</td>\n",
              "      <td>1794</td>\n",
              "      <td>{'$date': '2018-01-01T01:00:00.000+0100'}</td>\n",
              "      <td>0</td>\n",
              "      <td></td>\n",
              "      <td>7</td>\n",
              "      <td>440811,97</td>\n",
              "      <td>4475187,49</td>\n",
              "      <td>23/06/2014</td>\n",
              "      <td>01  CENTRO</td>\n",
              "      <td>01-04 JUSTICIA</td>\n",
              "      <td>HORTALEZA, CALLE, DE</td>\n",
              "      <td>75</td>\n",
              "      <td>BiciMAD</td>\n",
              "      <td>21</td>\n",
              "      <td>-3.69774</td>\n",
              "      <td>40.425216</td>\n",
              "      <td>CALLE DE HORTALEZA, 75</td>\n",
              "      <td>2014</td>\n",
              "      <td>7</td>\n",
              "    </tr>\n",
              "  </tbody>\n",
              "</table>\n",
              "</div>"
            ],
            "text/plain": [
              "                       id_x  ... idunplug_station_y\n",
              "0  5a505acd2f384319304ed614  ...                  7\n",
              "1  5a505acf2f384319304ed839  ...                  7\n",
              "\n",
              "[2 rows x 26 columns]"
            ]
          },
          "metadata": {
            "tags": []
          },
          "execution_count": 26
        }
      ]
    },
    {
      "cell_type": "markdown",
      "metadata": {
        "id": "rlNAF6PwEp3T",
        "colab_type": "text"
      },
      "source": [
        "### **Unified data of Jan18 and Stations 2019**"
      ]
    },
    {
      "cell_type": "markdown",
      "metadata": {
        "id": "hw_FMFpxFQAP",
        "colab_type": "text"
      },
      "source": [
        "#### Load of Libraries"
      ]
    },
    {
      "cell_type": "code",
      "metadata": {
        "id": "FqAWVxo9cASk",
        "colab_type": "code",
        "colab": {}
      },
      "source": [
        "import json\n",
        "import numpy as np\n",
        "import pandas as pd\n",
        "import matplotlib.pyplot as plt\n",
        "import seaborn as sns\n",
        "import statsmodels.api as sm\n",
        "import sklearn "
      ],
      "execution_count": 27,
      "outputs": []
    },
    {
      "cell_type": "markdown",
      "metadata": {
        "id": "2HP1ecYYLICl",
        "colab_type": "text"
      },
      "source": [
        "#### Acquiring data"
      ]
    },
    {
      "cell_type": "code",
      "metadata": {
        "id": "HUOAQmVZMcw2",
        "colab_type": "code",
        "colab": {}
      },
      "source": [
        "data = pd.read_json(\"/content/drive/My Drive/Colab Notebooks/data/join_data\", encoding=\"utf-8\", dtype=\"frame\")"
      ],
      "execution_count": 28,
      "outputs": []
    },
    {
      "cell_type": "code",
      "metadata": {
        "id": "O6QKKpQANv2h",
        "colab_type": "code",
        "colab": {
          "base_uri": "https://localhost:8080/",
          "height": 407
        },
        "outputId": "16addb5b-cda5-46db-bac7-8af2f7173237"
      },
      "source": [
        "data.info()"
      ],
      "execution_count": 29,
      "outputs": [
        {
          "output_type": "stream",
          "text": [
            "<class 'pandas.core.frame.DataFrame'>\n",
            "Int64Index: 2926629 entries, 0 to 2926628\n",
            "Data columns (total 17 columns):\n",
            " #   Column             Dtype  \n",
            "---  ------             -----  \n",
            " 0   id_x_x             object \n",
            " 1   user_day_code      object \n",
            " 2   idunplug_station   int64  \n",
            " 3   Distrito_idunplug  object \n",
            " 4   Barrio_idunplug    object \n",
            " 5   Longitud_idunplug  float64\n",
            " 6   Latitud_idunplug   float64\n",
            " 7   idplug_station_x   int64  \n",
            " 8   Distrito_idplug    object \n",
            " 9   Barrio_idplug      object \n",
            " 10  Longitud_idplug    float64\n",
            " 11  Latitud_idplug     float64\n",
            " 12  user_type_x        int64  \n",
            " 13  travel_time_x      int64  \n",
            " 14  unplug_hourTime_x  object \n",
            " 15  ageRange_x         int64  \n",
            " 16  zip_code_x         object \n",
            "dtypes: float64(4), int64(5), object(8)\n",
            "memory usage: 401.9+ MB\n"
          ],
          "name": "stdout"
        }
      ]
    },
    {
      "cell_type": "code",
      "metadata": {
        "id": "QW3wy4k-q84H",
        "colab_type": "code",
        "colab": {}
      },
      "source": [
        "# missing_values_count = data.isnull().sum().sum()\n",
        "# missing_values_count"
      ],
      "execution_count": 30,
      "outputs": []
    },
    {
      "cell_type": "code",
      "metadata": {
        "id": "b8rns8PYQ-_d",
        "colab_type": "code",
        "colab": {}
      },
      "source": [
        "# Cleaning columns \n",
        "# data.columns\n",
        "data = data.rename(columns={'id_x_x': '_id','idplug_station_x':'idplug_station',\n",
        "       'user_type_x':'user_type', 'travel_time_x':'travel_time',\n",
        "       'unplug_hourTime_x':'unplug_hourTime', 'ageRange_x':'ageRange', 'zip_code_x':'zip_code'})"
      ],
      "execution_count": 31,
      "outputs": []
    },
    {
      "cell_type": "code",
      "metadata": {
        "id": "85xhzfOzenKM",
        "colab_type": "code",
        "colab": {
          "base_uri": "https://localhost:8080/",
          "height": 292
        },
        "outputId": "622d04b4-fb2b-4e31-abf0-c72bd88ff6b9"
      },
      "source": [
        "data.head()"
      ],
      "execution_count": 32,
      "outputs": [
        {
          "output_type": "execute_result",
          "data": {
            "text/html": [
              "<div>\n",
              "<style scoped>\n",
              "    .dataframe tbody tr th:only-of-type {\n",
              "        vertical-align: middle;\n",
              "    }\n",
              "\n",
              "    .dataframe tbody tr th {\n",
              "        vertical-align: top;\n",
              "    }\n",
              "\n",
              "    .dataframe thead th {\n",
              "        text-align: right;\n",
              "    }\n",
              "</style>\n",
              "<table border=\"1\" class=\"dataframe\">\n",
              "  <thead>\n",
              "    <tr style=\"text-align: right;\">\n",
              "      <th></th>\n",
              "      <th>_id</th>\n",
              "      <th>user_day_code</th>\n",
              "      <th>idunplug_station</th>\n",
              "      <th>Distrito_idunplug</th>\n",
              "      <th>Barrio_idunplug</th>\n",
              "      <th>Longitud_idunplug</th>\n",
              "      <th>Latitud_idunplug</th>\n",
              "      <th>idplug_station</th>\n",
              "      <th>Distrito_idplug</th>\n",
              "      <th>Barrio_idplug</th>\n",
              "      <th>Longitud_idplug</th>\n",
              "      <th>Latitud_idplug</th>\n",
              "      <th>user_type</th>\n",
              "      <th>travel_time</th>\n",
              "      <th>unplug_hourTime</th>\n",
              "      <th>ageRange</th>\n",
              "      <th>zip_code</th>\n",
              "    </tr>\n",
              "  </thead>\n",
              "  <tbody>\n",
              "    <tr>\n",
              "      <th>0</th>\n",
              "      <td>5a505acd2f384319304ed614</td>\n",
              "      <td>b00665a845be18ed9f036c2d72def1ef2fa2c49365cb64...</td>\n",
              "      <td>6</td>\n",
              "      <td>01  CENTRO</td>\n",
              "      <td>01-04 JUSTICIA</td>\n",
              "      <td>-3.698409</td>\n",
              "      <td>40.424163</td>\n",
              "      <td>7</td>\n",
              "      <td>01  CENTRO</td>\n",
              "      <td>01-04 JUSTICIA</td>\n",
              "      <td>-3.697740</td>\n",
              "      <td>40.425216</td>\n",
              "      <td>1</td>\n",
              "      <td>284</td>\n",
              "      <td>{'$date': '2018-01-01T00:00:00.000+0100'}</td>\n",
              "      <td>5</td>\n",
              "      <td>28010</td>\n",
              "    </tr>\n",
              "    <tr>\n",
              "      <th>1</th>\n",
              "      <td>5a505ad02f384319304ed925</td>\n",
              "      <td>38f477ef63c0d2f1cfcc673e4a5b9054512c51f1756b3f...</td>\n",
              "      <td>6</td>\n",
              "      <td>01  CENTRO</td>\n",
              "      <td>01-04 JUSTICIA</td>\n",
              "      <td>-3.698409</td>\n",
              "      <td>40.424163</td>\n",
              "      <td>65</td>\n",
              "      <td>01  CENTRO</td>\n",
              "      <td>01-03 CORTES</td>\n",
              "      <td>-3.693135</td>\n",
              "      <td>40.410829</td>\n",
              "      <td>1</td>\n",
              "      <td>824</td>\n",
              "      <td>{'$date': '2018-01-01T03:00:00.000+0100'}</td>\n",
              "      <td>2</td>\n",
              "      <td>28007</td>\n",
              "    </tr>\n",
              "    <tr>\n",
              "      <th>2</th>\n",
              "      <td>5a505ad02f384319304ed925</td>\n",
              "      <td>38f477ef63c0d2f1cfcc673e4a5b9054512c51f1756b3f...</td>\n",
              "      <td>6</td>\n",
              "      <td>01  CENTRO</td>\n",
              "      <td>01-04 JUSTICIA</td>\n",
              "      <td>-3.698409</td>\n",
              "      <td>40.424163</td>\n",
              "      <td>65</td>\n",
              "      <td>03  RETIRO</td>\n",
              "      <td>03-05 JERÓNIMOS</td>\n",
              "      <td>-3.689382</td>\n",
              "      <td>40.416695</td>\n",
              "      <td>1</td>\n",
              "      <td>824</td>\n",
              "      <td>{'$date': '2018-01-01T03:00:00.000+0100'}</td>\n",
              "      <td>2</td>\n",
              "      <td>28007</td>\n",
              "    </tr>\n",
              "    <tr>\n",
              "      <th>3</th>\n",
              "      <td>5a505adb2f384319304ee2dd</td>\n",
              "      <td>38f477ef63c0d2f1cfcc673e4a5b9054512c51f1756b3f...</td>\n",
              "      <td>104</td>\n",
              "      <td>04  SALAMANCA</td>\n",
              "      <td>04-01 RECOLETOS</td>\n",
              "      <td>-3.689579</td>\n",
              "      <td>40.426766</td>\n",
              "      <td>67</td>\n",
              "      <td>01  CENTRO</td>\n",
              "      <td>01-03 CORTES</td>\n",
              "      <td>-3.693135</td>\n",
              "      <td>40.410829</td>\n",
              "      <td>1</td>\n",
              "      <td>337</td>\n",
              "      <td>{'$date': '2018-01-01T17:00:00.000+0100'}</td>\n",
              "      <td>2</td>\n",
              "      <td>28007</td>\n",
              "    </tr>\n",
              "    <tr>\n",
              "      <th>4</th>\n",
              "      <td>5a505adb2f384319304ee2dd</td>\n",
              "      <td>38f477ef63c0d2f1cfcc673e4a5b9054512c51f1756b3f...</td>\n",
              "      <td>104</td>\n",
              "      <td>04  SALAMANCA</td>\n",
              "      <td>04-01 RECOLETOS</td>\n",
              "      <td>-3.689579</td>\n",
              "      <td>40.426766</td>\n",
              "      <td>67</td>\n",
              "      <td>03  RETIRO</td>\n",
              "      <td>03-05 JERÓNIMOS</td>\n",
              "      <td>-3.689382</td>\n",
              "      <td>40.416695</td>\n",
              "      <td>1</td>\n",
              "      <td>337</td>\n",
              "      <td>{'$date': '2018-01-01T17:00:00.000+0100'}</td>\n",
              "      <td>2</td>\n",
              "      <td>28007</td>\n",
              "    </tr>\n",
              "  </tbody>\n",
              "</table>\n",
              "</div>"
            ],
            "text/plain": [
              "                        _id  ... zip_code\n",
              "0  5a505acd2f384319304ed614  ...    28010\n",
              "1  5a505ad02f384319304ed925  ...    28007\n",
              "2  5a505ad02f384319304ed925  ...    28007\n",
              "3  5a505adb2f384319304ee2dd  ...    28007\n",
              "4  5a505adb2f384319304ee2dd  ...    28007\n",
              "\n",
              "[5 rows x 17 columns]"
            ]
          },
          "metadata": {
            "tags": []
          },
          "execution_count": 32
        }
      ]
    },
    {
      "cell_type": "code",
      "metadata": {
        "id": "TZEI85-icADG",
        "colab_type": "code",
        "colab": {}
      },
      "source": [
        "# data['_id'].value_count()"
      ],
      "execution_count": 33,
      "outputs": []
    },
    {
      "cell_type": "code",
      "metadata": {
        "id": "3rSwH_0Bb122",
        "colab_type": "code",
        "colab": {
          "base_uri": "https://localhost:8080/",
          "height": 112
        },
        "outputId": "ba7bfd11-b8f8-4f32-b918-f0d9eda023ce"
      },
      "source": [
        "data[data['_id'] == '5a505acd2f384319304ed614']"
      ],
      "execution_count": 34,
      "outputs": [
        {
          "output_type": "execute_result",
          "data": {
            "text/html": [
              "<div>\n",
              "<style scoped>\n",
              "    .dataframe tbody tr th:only-of-type {\n",
              "        vertical-align: middle;\n",
              "    }\n",
              "\n",
              "    .dataframe tbody tr th {\n",
              "        vertical-align: top;\n",
              "    }\n",
              "\n",
              "    .dataframe thead th {\n",
              "        text-align: right;\n",
              "    }\n",
              "</style>\n",
              "<table border=\"1\" class=\"dataframe\">\n",
              "  <thead>\n",
              "    <tr style=\"text-align: right;\">\n",
              "      <th></th>\n",
              "      <th>_id</th>\n",
              "      <th>user_day_code</th>\n",
              "      <th>idunplug_station</th>\n",
              "      <th>Distrito_idunplug</th>\n",
              "      <th>Barrio_idunplug</th>\n",
              "      <th>Longitud_idunplug</th>\n",
              "      <th>Latitud_idunplug</th>\n",
              "      <th>idplug_station</th>\n",
              "      <th>Distrito_idplug</th>\n",
              "      <th>Barrio_idplug</th>\n",
              "      <th>Longitud_idplug</th>\n",
              "      <th>Latitud_idplug</th>\n",
              "      <th>user_type</th>\n",
              "      <th>travel_time</th>\n",
              "      <th>unplug_hourTime</th>\n",
              "      <th>ageRange</th>\n",
              "      <th>zip_code</th>\n",
              "    </tr>\n",
              "  </thead>\n",
              "  <tbody>\n",
              "    <tr>\n",
              "      <th>0</th>\n",
              "      <td>5a505acd2f384319304ed614</td>\n",
              "      <td>b00665a845be18ed9f036c2d72def1ef2fa2c49365cb64...</td>\n",
              "      <td>6</td>\n",
              "      <td>01  CENTRO</td>\n",
              "      <td>01-04 JUSTICIA</td>\n",
              "      <td>-3.698409</td>\n",
              "      <td>40.424163</td>\n",
              "      <td>7</td>\n",
              "      <td>01  CENTRO</td>\n",
              "      <td>01-04 JUSTICIA</td>\n",
              "      <td>-3.69774</td>\n",
              "      <td>40.425216</td>\n",
              "      <td>1</td>\n",
              "      <td>284</td>\n",
              "      <td>{'$date': '2018-01-01T00:00:00.000+0100'}</td>\n",
              "      <td>5</td>\n",
              "      <td>28010</td>\n",
              "    </tr>\n",
              "  </tbody>\n",
              "</table>\n",
              "</div>"
            ],
            "text/plain": [
              "                        _id  ... zip_code\n",
              "0  5a505acd2f384319304ed614  ...    28010\n",
              "\n",
              "[1 rows x 17 columns]"
            ]
          },
          "metadata": {
            "tags": []
          },
          "execution_count": 34
        }
      ]
    }
  ]
}